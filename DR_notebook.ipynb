{
 "cells": [
  {
   "cell_type": "markdown",
   "id": "8b26e953",
   "metadata": {},
   "source": [
    "# Predicting Electricity consumption\n",
    "\n",
    "## Team\n",
    "Dmitri Rozgonjuk <br>\n",
    "Eerik Sven Puudist <br>\n",
    "Triin Pohla  <br>\n",
    "Andri Hõbemägi <br>"
   ]
  },
  {
   "cell_type": "markdown",
   "id": "951791c7",
   "metadata": {},
   "source": [
    "## 0. Setup\n",
    "Libraries"
   ]
  },
  {
   "cell_type": "code",
   "execution_count": 1,
   "id": "627a768a",
   "metadata": {},
   "outputs": [],
   "source": [
    "# Dataframes and vector ops\n",
    "import numpy as np\n",
    "import pandas as pd\n",
    "\n",
    "# Visualization\n",
    "import seaborn as sns\n",
    "import matplotlib.pyplot as plt\n",
    "\n",
    "# MISC\n",
    "import json # used for 'holidays' extraction\n",
    "import requests # used for 'holidays' extraction\n",
    "\n",
    "# Disable warnings\n",
    "import warnings\n",
    "warnings.filterwarnings('ignore')"
   ]
  },
  {
   "cell_type": "markdown",
   "id": "4c7f9841",
   "metadata": {},
   "source": [
    "## 1. Data Import and a Quick Glimpse\n",
    "The original data set is from aggle, and the below code could be uncommented in order to download that data, unzip the file, and import the data tables that invlude training, test, and submissions data file. The submissions data file is a sample submission for testing that the data are submitted to Kaggle in the appropriate format."
   ]
  },
  {
   "cell_type": "code",
   "execution_count": 2,
   "id": "45ac905b",
   "metadata": {},
   "outputs": [],
   "source": [
    "# Download data from kaggle\n",
    "#!kaggle competitions download -c predict-electricity-consumption\n",
    "\n",
    "# Unzip the data\n",
    "#!unzip predict-electricity-consumption.zip"
   ]
  },
  {
   "cell_type": "code",
   "execution_count": 3,
   "id": "06f2e687",
   "metadata": {},
   "outputs": [],
   "source": [
    "# Import the data\n",
    "df_train = pd.read_csv(\"data/train.csv\")\n",
    "# Rename 'consumption' to 'y_original'\n",
    "df_train = df_train.rename(columns = {'consumption': 'y_original'})\n",
    "\n",
    "df_test = pd.read_csv(\"data/test.csv\")\n",
    "df_submission = pd.read_csv(\"data/sample_submission.csv\")"
   ]
  },
  {
   "cell_type": "code",
   "execution_count": 4,
   "id": "07543af8",
   "metadata": {
    "scrolled": true
   },
   "outputs": [
    {
     "name": "stdout",
     "output_type": "stream",
     "text": [
      "Dimensions of training data: (8592, 13)\n",
      "Earliest timepoint (training data): 2021-09-01 00:00:00+03:00\n",
      "Latest timepoint (training data): 2022-08-24 23:00:00+03:00\n"
     ]
    },
    {
     "data": {
      "text/html": [
       "<div>\n",
       "<style scoped>\n",
       "    .dataframe tbody tr th:only-of-type {\n",
       "        vertical-align: middle;\n",
       "    }\n",
       "\n",
       "    .dataframe tbody tr th {\n",
       "        vertical-align: top;\n",
       "    }\n",
       "\n",
       "    .dataframe thead th {\n",
       "        text-align: right;\n",
       "    }\n",
       "</style>\n",
       "<table border=\"1\" class=\"dataframe\">\n",
       "  <thead>\n",
       "    <tr style=\"text-align: right;\">\n",
       "      <th></th>\n",
       "      <th>time</th>\n",
       "      <th>temp</th>\n",
       "      <th>dwpt</th>\n",
       "      <th>rhum</th>\n",
       "      <th>prcp</th>\n",
       "      <th>snow</th>\n",
       "      <th>wdir</th>\n",
       "      <th>wspd</th>\n",
       "      <th>wpgt</th>\n",
       "      <th>pres</th>\n",
       "      <th>coco</th>\n",
       "      <th>el_price</th>\n",
       "      <th>y_original</th>\n",
       "    </tr>\n",
       "  </thead>\n",
       "  <tbody>\n",
       "    <tr>\n",
       "      <th>0</th>\n",
       "      <td>2021-09-01 00:00:00+03:00</td>\n",
       "      <td>11.2</td>\n",
       "      <td>10.3</td>\n",
       "      <td>94.0</td>\n",
       "      <td>NaN</td>\n",
       "      <td>NaN</td>\n",
       "      <td>320.0</td>\n",
       "      <td>7.2</td>\n",
       "      <td>16.7</td>\n",
       "      <td>1012.6</td>\n",
       "      <td>2.0</td>\n",
       "      <td>0.09016</td>\n",
       "      <td>0.577</td>\n",
       "    </tr>\n",
       "    <tr>\n",
       "      <th>1</th>\n",
       "      <td>2021-09-01 01:00:00+03:00</td>\n",
       "      <td>10.7</td>\n",
       "      <td>9.6</td>\n",
       "      <td>93.0</td>\n",
       "      <td>NaN</td>\n",
       "      <td>NaN</td>\n",
       "      <td>320.0</td>\n",
       "      <td>7.2</td>\n",
       "      <td>13.0</td>\n",
       "      <td>1012.6</td>\n",
       "      <td>2.0</td>\n",
       "      <td>0.09251</td>\n",
       "      <td>0.594</td>\n",
       "    </tr>\n",
       "    <tr>\n",
       "      <th>2</th>\n",
       "      <td>2021-09-01 02:00:00+03:00</td>\n",
       "      <td>9.9</td>\n",
       "      <td>9.0</td>\n",
       "      <td>94.0</td>\n",
       "      <td>NaN</td>\n",
       "      <td>NaN</td>\n",
       "      <td>320.0</td>\n",
       "      <td>7.2</td>\n",
       "      <td>13.0</td>\n",
       "      <td>1012.2</td>\n",
       "      <td>2.0</td>\n",
       "      <td>0.08890</td>\n",
       "      <td>0.685</td>\n",
       "    </tr>\n",
       "    <tr>\n",
       "      <th>3</th>\n",
       "      <td>2021-09-01 03:00:00+03:00</td>\n",
       "      <td>10.0</td>\n",
       "      <td>8.4</td>\n",
       "      <td>90.0</td>\n",
       "      <td>NaN</td>\n",
       "      <td>NaN</td>\n",
       "      <td>330.0</td>\n",
       "      <td>7.2</td>\n",
       "      <td>13.0</td>\n",
       "      <td>1011.9</td>\n",
       "      <td>1.0</td>\n",
       "      <td>0.08735</td>\n",
       "      <td>1.016</td>\n",
       "    </tr>\n",
       "    <tr>\n",
       "      <th>4</th>\n",
       "      <td>2021-09-01 04:00:00+03:00</td>\n",
       "      <td>9.0</td>\n",
       "      <td>8.1</td>\n",
       "      <td>94.0</td>\n",
       "      <td>NaN</td>\n",
       "      <td>NaN</td>\n",
       "      <td>300.0</td>\n",
       "      <td>3.6</td>\n",
       "      <td>13.0</td>\n",
       "      <td>1011.4</td>\n",
       "      <td>2.0</td>\n",
       "      <td>0.08688</td>\n",
       "      <td>0.677</td>\n",
       "    </tr>\n",
       "  </tbody>\n",
       "</table>\n",
       "</div>"
      ],
      "text/plain": [
       "                        time  temp  dwpt  rhum  prcp  snow   wdir  wspd  wpgt  \\\n",
       "0  2021-09-01 00:00:00+03:00  11.2  10.3  94.0   NaN   NaN  320.0   7.2  16.7   \n",
       "1  2021-09-01 01:00:00+03:00  10.7   9.6  93.0   NaN   NaN  320.0   7.2  13.0   \n",
       "2  2021-09-01 02:00:00+03:00   9.9   9.0  94.0   NaN   NaN  320.0   7.2  13.0   \n",
       "3  2021-09-01 03:00:00+03:00  10.0   8.4  90.0   NaN   NaN  330.0   7.2  13.0   \n",
       "4  2021-09-01 04:00:00+03:00   9.0   8.1  94.0   NaN   NaN  300.0   3.6  13.0   \n",
       "\n",
       "     pres  coco  el_price  y_original  \n",
       "0  1012.6   2.0   0.09016       0.577  \n",
       "1  1012.6   2.0   0.09251       0.594  \n",
       "2  1012.2   2.0   0.08890       0.685  \n",
       "3  1011.9   1.0   0.08735       1.016  \n",
       "4  1011.4   2.0   0.08688       0.677  "
      ]
     },
     "execution_count": 4,
     "metadata": {},
     "output_type": "execute_result"
    }
   ],
   "source": [
    "print(f'Dimensions of training data: {df_train.shape}')\n",
    "print(f'Earliest timepoint (training data): {min(df_train[\"time\"])}')\n",
    "print(f'Latest timepoint (training data): {max(df_train[\"time\"])}')\n",
    "df_train.head()"
   ]
  },
  {
   "cell_type": "code",
   "execution_count": 5,
   "id": "12885581",
   "metadata": {
    "scrolled": false
   },
   "outputs": [
    {
     "name": "stdout",
     "output_type": "stream",
     "text": [
      "Dimensions of test data: (168, 12)\n",
      "Earliest timepoint (test data): 2022-08-25 00:00:00+03:00\n",
      "Latest timepoint (test data): 2022-08-31 23:00:00+03:00\n"
     ]
    },
    {
     "data": {
      "text/html": [
       "<div>\n",
       "<style scoped>\n",
       "    .dataframe tbody tr th:only-of-type {\n",
       "        vertical-align: middle;\n",
       "    }\n",
       "\n",
       "    .dataframe tbody tr th {\n",
       "        vertical-align: top;\n",
       "    }\n",
       "\n",
       "    .dataframe thead th {\n",
       "        text-align: right;\n",
       "    }\n",
       "</style>\n",
       "<table border=\"1\" class=\"dataframe\">\n",
       "  <thead>\n",
       "    <tr style=\"text-align: right;\">\n",
       "      <th></th>\n",
       "      <th>time</th>\n",
       "      <th>temp</th>\n",
       "      <th>dwpt</th>\n",
       "      <th>rhum</th>\n",
       "      <th>prcp</th>\n",
       "      <th>snow</th>\n",
       "      <th>wdir</th>\n",
       "      <th>wspd</th>\n",
       "      <th>wpgt</th>\n",
       "      <th>pres</th>\n",
       "      <th>coco</th>\n",
       "      <th>el_price</th>\n",
       "    </tr>\n",
       "  </thead>\n",
       "  <tbody>\n",
       "    <tr>\n",
       "      <th>0</th>\n",
       "      <td>2022-08-25 00:00:00+03:00</td>\n",
       "      <td>21.1</td>\n",
       "      <td>15.2</td>\n",
       "      <td>69.0</td>\n",
       "      <td>0.0</td>\n",
       "      <td>NaN</td>\n",
       "      <td>340.0</td>\n",
       "      <td>9.0</td>\n",
       "      <td>9.3</td>\n",
       "      <td>1022.0</td>\n",
       "      <td>2.0</td>\n",
       "      <td>0.25533</td>\n",
       "    </tr>\n",
       "    <tr>\n",
       "      <th>1</th>\n",
       "      <td>2022-08-25 01:00:00+03:00</td>\n",
       "      <td>20.1</td>\n",
       "      <td>15.1</td>\n",
       "      <td>73.0</td>\n",
       "      <td>0.0</td>\n",
       "      <td>NaN</td>\n",
       "      <td>30.0</td>\n",
       "      <td>6.0</td>\n",
       "      <td>14.8</td>\n",
       "      <td>1022.0</td>\n",
       "      <td>2.0</td>\n",
       "      <td>0.19492</td>\n",
       "    </tr>\n",
       "    <tr>\n",
       "      <th>2</th>\n",
       "      <td>2022-08-25 02:00:00+03:00</td>\n",
       "      <td>20.1</td>\n",
       "      <td>15.1</td>\n",
       "      <td>73.0</td>\n",
       "      <td>0.0</td>\n",
       "      <td>NaN</td>\n",
       "      <td>320.0</td>\n",
       "      <td>7.0</td>\n",
       "      <td>13.0</td>\n",
       "      <td>1022.0</td>\n",
       "      <td>2.0</td>\n",
       "      <td>0.18853</td>\n",
       "    </tr>\n",
       "    <tr>\n",
       "      <th>3</th>\n",
       "      <td>2022-08-25 03:00:00+03:00</td>\n",
       "      <td>18.7</td>\n",
       "      <td>17.0</td>\n",
       "      <td>90.0</td>\n",
       "      <td>0.0</td>\n",
       "      <td>NaN</td>\n",
       "      <td>0.0</td>\n",
       "      <td>4.0</td>\n",
       "      <td>11.1</td>\n",
       "      <td>1022.4</td>\n",
       "      <td>4.0</td>\n",
       "      <td>0.19947</td>\n",
       "    </tr>\n",
       "    <tr>\n",
       "      <th>4</th>\n",
       "      <td>2022-08-25 04:00:00+03:00</td>\n",
       "      <td>18.1</td>\n",
       "      <td>17.1</td>\n",
       "      <td>94.0</td>\n",
       "      <td>0.0</td>\n",
       "      <td>NaN</td>\n",
       "      <td>280.0</td>\n",
       "      <td>7.0</td>\n",
       "      <td>11.1</td>\n",
       "      <td>1022.0</td>\n",
       "      <td>3.0</td>\n",
       "      <td>0.21192</td>\n",
       "    </tr>\n",
       "  </tbody>\n",
       "</table>\n",
       "</div>"
      ],
      "text/plain": [
       "                        time  temp  dwpt  rhum  prcp  snow   wdir  wspd  wpgt  \\\n",
       "0  2022-08-25 00:00:00+03:00  21.1  15.2  69.0   0.0   NaN  340.0   9.0   9.3   \n",
       "1  2022-08-25 01:00:00+03:00  20.1  15.1  73.0   0.0   NaN   30.0   6.0  14.8   \n",
       "2  2022-08-25 02:00:00+03:00  20.1  15.1  73.0   0.0   NaN  320.0   7.0  13.0   \n",
       "3  2022-08-25 03:00:00+03:00  18.7  17.0  90.0   0.0   NaN    0.0   4.0  11.1   \n",
       "4  2022-08-25 04:00:00+03:00  18.1  17.1  94.0   0.0   NaN  280.0   7.0  11.1   \n",
       "\n",
       "     pres  coco  el_price  \n",
       "0  1022.0   2.0   0.25533  \n",
       "1  1022.0   2.0   0.19492  \n",
       "2  1022.0   2.0   0.18853  \n",
       "3  1022.4   4.0   0.19947  \n",
       "4  1022.0   3.0   0.21192  "
      ]
     },
     "execution_count": 5,
     "metadata": {},
     "output_type": "execute_result"
    }
   ],
   "source": [
    "print(f'Dimensions of test data: {df_test.shape}')\n",
    "print(f'Earliest timepoint (test data): {min(df_test[\"time\"])}')\n",
    "print(f'Latest timepoint (test data): {max(df_test[\"time\"])}')\n",
    "df_test.head()"
   ]
  },
  {
   "cell_type": "markdown",
   "id": "5e19b524",
   "metadata": {},
   "source": [
    "## 2. Data Preprocessing\n",
    "In this section, we are extracting information from available data. Additionally, here is where we implement data transformations and prepare the final datasets for use in models.\n",
    "\n",
    "### 2.1. Extracting Features from `time` Column\n",
    "Before we start extracting information from the `time` variable, we first need to convert the column to a `datetime64` type in pandas. Then, we should look into the time range of each data set. The goal is to see what were the date ranges (for extracting additional features, e.g., holidays), and to see if the test data immediately follows training data in time sequence."
   ]
  },
  {
   "cell_type": "code",
   "execution_count": 6,
   "id": "90f04b8f",
   "metadata": {},
   "outputs": [],
   "source": [
    "# Transform the 'time' column to a `datetime` format \n",
    "df_train['time'] = pd.to_datetime(df_train['time'], utc=True)\n",
    "df_test['time'] = pd.to_datetime(df_test['time'], utc=True)\n",
    "df_submission['time'] = pd.to_datetime(df_submission['time'], utc=True)"
   ]
  },
  {
   "cell_type": "code",
   "execution_count": 7,
   "id": "aa2c71cc",
   "metadata": {},
   "outputs": [
    {
     "name": "stdout",
     "output_type": "stream",
     "text": [
      "The range of training data: (Timestamp('2021-08-31 21:00:00+0000', tz='UTC'), Timestamp('2022-08-24 20:00:00+0000', tz='UTC'))\n",
      "\n",
      "The range of test data: (Timestamp('2022-08-24 21:00:00+0000', tz='UTC'), Timestamp('2022-08-31 20:00:00+0000', tz='UTC'))\n"
     ]
    }
   ],
   "source": [
    "print(f\"The range of training data: {df_train['time'].min(), df_train['time'].max()}\")\n",
    "print()\n",
    "print(f\"The range of test data: {df_test['time'].min(), df_test['time'].max()}\")"
   ]
  },
  {
   "cell_type": "markdown",
   "id": "5fc3b2f5",
   "metadata": {},
   "source": [
    "Ok, from this we see that, indeed, the training and test data are sequential. The training dates range from 31.08.2021 to 24.08.2022, while the range for test data is 24.08.2022 until 31.08.2022. Now, we will also download the Estonian holidays table and keep only the rows for the relevant time period. (Let's also save the holidays table in case we need to use this in the future.)"
   ]
  },
  {
   "cell_type": "code",
   "execution_count": 8,
   "id": "f4165e5e",
   "metadata": {},
   "outputs": [],
   "source": [
    "# NOTE! Also possible to fetch the holidays info via 'holidays' Python module\n",
    "\n",
    "# Fetch the list of holidays from 'riigipühad.ee'\n",
    "r = requests.get('https://riigipühad.ee/?output=json')\n",
    "json_str = json.dumps(r.json())\n",
    "holidays = pd.read_json(json_str)\n",
    "holidays['time'] = pd.to_datetime(holidays['date'], utc=True)\n",
    "holidays['date'] = holidays['time'].dt.date\n",
    "\n",
    "# Replace the values for holiday kind (to cat, and more readablity)\n",
    "## 1 = 'Riigipüha' = '1_sthol' # state holiday\n",
    "## 2 = 'Rahvuspüha' = '2_nathol' # national holiday\n",
    "## 3 = 'Riiklik tähtpäev' = '3_natday' # nationally celebrated day\n",
    "## 4 = 'Lühendatud tööpäev' = '4_shortday' # shortened day before holiday\n",
    "holidays['kind_id'] = holidays['kind_id'].astype(str)\n",
    "holidays['kind_id'] = holidays['kind_id'].str.replace('1', '1_sthol')\n",
    "holidays['kind_id'] = holidays['kind_id'].str.replace('2', '2_nathol')\n",
    "holidays['kind_id'] = holidays['kind_id'].str.replace('3', '3_natday')\n",
    "holidays['kind_id'] = holidays['kind_id'].str.replace('4', '4_shortday')"
   ]
  },
  {
   "cell_type": "code",
   "execution_count": 9,
   "id": "1ac9d6ee",
   "metadata": {},
   "outputs": [
    {
     "data": {
      "text/html": [
       "<div>\n",
       "<style scoped>\n",
       "    .dataframe tbody tr th:only-of-type {\n",
       "        vertical-align: middle;\n",
       "    }\n",
       "\n",
       "    .dataframe tbody tr th {\n",
       "        vertical-align: top;\n",
       "    }\n",
       "\n",
       "    .dataframe thead th {\n",
       "        text-align: right;\n",
       "    }\n",
       "</style>\n",
       "<table border=\"1\" class=\"dataframe\">\n",
       "  <thead>\n",
       "    <tr style=\"text-align: right;\">\n",
       "      <th></th>\n",
       "      <th>date</th>\n",
       "      <th>h_type</th>\n",
       "      <th>is_holiday</th>\n",
       "    </tr>\n",
       "  </thead>\n",
       "  <tbody>\n",
       "    <tr>\n",
       "      <th>0</th>\n",
       "      <td>2021-09-12</td>\n",
       "      <td>3_natday</td>\n",
       "      <td>hol</td>\n",
       "    </tr>\n",
       "    <tr>\n",
       "      <th>1</th>\n",
       "      <td>2021-09-22</td>\n",
       "      <td>3_natday</td>\n",
       "      <td>hol</td>\n",
       "    </tr>\n",
       "    <tr>\n",
       "      <th>2</th>\n",
       "      <td>2021-10-16</td>\n",
       "      <td>3_natday</td>\n",
       "      <td>hol</td>\n",
       "    </tr>\n",
       "    <tr>\n",
       "      <th>3</th>\n",
       "      <td>2021-11-02</td>\n",
       "      <td>3_natday</td>\n",
       "      <td>hol</td>\n",
       "    </tr>\n",
       "    <tr>\n",
       "      <th>4</th>\n",
       "      <td>2021-11-14</td>\n",
       "      <td>3_natday</td>\n",
       "      <td>hol</td>\n",
       "    </tr>\n",
       "  </tbody>\n",
       "</table>\n",
       "</div>"
      ],
      "text/plain": [
       "         date    h_type is_holiday\n",
       "0  2021-09-12  3_natday        hol\n",
       "1  2021-09-22  3_natday        hol\n",
       "2  2021-10-16  3_natday        hol\n",
       "3  2021-11-02  3_natday        hol\n",
       "4  2021-11-14  3_natday        hol"
      ]
     },
     "execution_count": 9,
     "metadata": {},
     "output_type": "execute_result"
    }
   ],
   "source": [
    "holidays.rename(columns= {'kind_id':'h_type'}, inplace = True) # rename the col for later clarity\n",
    "# holidays.to_csv('estonian_holidays.csv', index=False)\n",
    "\n",
    "# Keep only the relevant rows\n",
    "holidays = holidays[(holidays['date'] >= df_train['time'].dt.date.min()) & \n",
    "                    (holidays['date'] <= df_test['time'].dt.date.max())].reset_index(drop = True)\n",
    "holidays.head()\n",
    "# holidays['kind_id'].value_counts() # count the unique holiday types\n",
    "\n",
    "# Create the mini df for merge\n",
    "df_holidays = holidays.loc[:, ['date', 'h_type']]\n",
    "df_holidays['is_holiday'] = np.full(len(df_holidays), 'hol')\n",
    "df_holidays.head()\n",
    "\n",
    "# might be useful for calendar data: https://towardsdatascience.com/holiday-calendars-with-pandas-9c01f1ee5fee"
   ]
  },
  {
   "cell_type": "markdown",
   "id": "3fb158b0",
   "metadata": {},
   "source": [
    "Below, we are creating a helper function that extract date-related information"
   ]
  },
  {
   "cell_type": "code",
   "execution_count": 10,
   "id": "b8c9fa64",
   "metadata": {},
   "outputs": [],
   "source": [
    "### 2.1. Create meaningful variables from 'time'\n",
    "def wrangle_dates(df):\n",
    "    \"\"\"A function that turns a pd.Series datetime column to several more granular columns\n",
    "    Args:\n",
    "        df (pandas DataFrame): input data (e.g., df_train or df_test)\n",
    "    \"\"\"\n",
    "    # Date variables\n",
    "    df['date'] = df['time'].dt.date # date\n",
    "    df['year'] = df['time'].dt.year # year\n",
    "    df['month'] = df['time'].dt.month # month\n",
    "    df['dow'] = df['time'].dt.dayofweek # day-of-week\n",
    "    df['dayname'] = df['time'].dt.day_name() # dayname\n",
    "    df['weekend'] = 'no'\n",
    "\n",
    "    # update weekend column values if it's a weekend day\n",
    "    for i in range(len(df)):\n",
    "        if df['dow'][i] in [5,6]:\n",
    "            df['weekend'][i] = 'yes'\n",
    "            \n",
    "    # Time variables\n",
    "    ## Only the 'hour' varies, hence no need for 'time' and 'minute'\n",
    "    df['hour'] = df['time'].dt.hour.astype(int) # hour\n",
    "    \n",
    "    # Season\n",
    "    conditions = [\n",
    "        (df['month'].isin(np.arange(3,6))), (df['month'].isin(np.arange(6,9))), \n",
    "        (df['month'].isin(np.arange(9,12))), (df['month'].isin(np.arange(1,3))), (df['month'] == 12)]\n",
    "    choices = ['Spring','Summer', 'Autumn', 'Winter', 'Winter']\n",
    "    df['season'] = np.select(conditions, choices)\n",
    "    \n",
    "    # Remove the `time` variable, as it is not needed anymore\n",
    "    #df = df.drop(columns = ['time'], axis = 1)\n",
    "    "
   ]
  },
  {
   "cell_type": "code",
   "execution_count": 11,
   "id": "c642a211",
   "metadata": {
    "scrolled": true
   },
   "outputs": [
    {
     "data": {
      "text/html": [
       "<div>\n",
       "<style scoped>\n",
       "    .dataframe tbody tr th:only-of-type {\n",
       "        vertical-align: middle;\n",
       "    }\n",
       "\n",
       "    .dataframe tbody tr th {\n",
       "        vertical-align: top;\n",
       "    }\n",
       "\n",
       "    .dataframe thead th {\n",
       "        text-align: right;\n",
       "    }\n",
       "</style>\n",
       "<table border=\"1\" class=\"dataframe\">\n",
       "  <thead>\n",
       "    <tr style=\"text-align: right;\">\n",
       "      <th></th>\n",
       "      <th>time</th>\n",
       "      <th>temp</th>\n",
       "      <th>dwpt</th>\n",
       "      <th>rhum</th>\n",
       "      <th>prcp</th>\n",
       "      <th>snow</th>\n",
       "      <th>wdir</th>\n",
       "      <th>wspd</th>\n",
       "      <th>wpgt</th>\n",
       "      <th>pres</th>\n",
       "      <th>...</th>\n",
       "      <th>date</th>\n",
       "      <th>year</th>\n",
       "      <th>month</th>\n",
       "      <th>dow</th>\n",
       "      <th>dayname</th>\n",
       "      <th>weekend</th>\n",
       "      <th>hour</th>\n",
       "      <th>season</th>\n",
       "      <th>h_type</th>\n",
       "      <th>is_holiday</th>\n",
       "    </tr>\n",
       "  </thead>\n",
       "  <tbody>\n",
       "    <tr>\n",
       "      <th>0</th>\n",
       "      <td>2021-08-31 21:00:00+00:00</td>\n",
       "      <td>11.2</td>\n",
       "      <td>10.3</td>\n",
       "      <td>94.0</td>\n",
       "      <td>0.0</td>\n",
       "      <td>0.0</td>\n",
       "      <td>320.0</td>\n",
       "      <td>7.2</td>\n",
       "      <td>16.7</td>\n",
       "      <td>1012.6</td>\n",
       "      <td>...</td>\n",
       "      <td>2021-08-31</td>\n",
       "      <td>2021</td>\n",
       "      <td>8</td>\n",
       "      <td>1</td>\n",
       "      <td>Tuesday</td>\n",
       "      <td>no</td>\n",
       "      <td>21</td>\n",
       "      <td>Summer</td>\n",
       "      <td>not_hol</td>\n",
       "      <td>not_hol</td>\n",
       "    </tr>\n",
       "    <tr>\n",
       "      <th>1</th>\n",
       "      <td>2021-08-31 22:00:00+00:00</td>\n",
       "      <td>10.7</td>\n",
       "      <td>9.6</td>\n",
       "      <td>93.0</td>\n",
       "      <td>0.0</td>\n",
       "      <td>0.0</td>\n",
       "      <td>320.0</td>\n",
       "      <td>7.2</td>\n",
       "      <td>13.0</td>\n",
       "      <td>1012.6</td>\n",
       "      <td>...</td>\n",
       "      <td>2021-08-31</td>\n",
       "      <td>2021</td>\n",
       "      <td>8</td>\n",
       "      <td>1</td>\n",
       "      <td>Tuesday</td>\n",
       "      <td>no</td>\n",
       "      <td>22</td>\n",
       "      <td>Summer</td>\n",
       "      <td>not_hol</td>\n",
       "      <td>not_hol</td>\n",
       "    </tr>\n",
       "    <tr>\n",
       "      <th>2</th>\n",
       "      <td>2021-08-31 23:00:00+00:00</td>\n",
       "      <td>9.9</td>\n",
       "      <td>9.0</td>\n",
       "      <td>94.0</td>\n",
       "      <td>0.0</td>\n",
       "      <td>0.0</td>\n",
       "      <td>320.0</td>\n",
       "      <td>7.2</td>\n",
       "      <td>13.0</td>\n",
       "      <td>1012.2</td>\n",
       "      <td>...</td>\n",
       "      <td>2021-08-31</td>\n",
       "      <td>2021</td>\n",
       "      <td>8</td>\n",
       "      <td>1</td>\n",
       "      <td>Tuesday</td>\n",
       "      <td>no</td>\n",
       "      <td>23</td>\n",
       "      <td>Summer</td>\n",
       "      <td>not_hol</td>\n",
       "      <td>not_hol</td>\n",
       "    </tr>\n",
       "    <tr>\n",
       "      <th>3</th>\n",
       "      <td>2021-09-01 00:00:00+00:00</td>\n",
       "      <td>10.0</td>\n",
       "      <td>8.4</td>\n",
       "      <td>90.0</td>\n",
       "      <td>0.0</td>\n",
       "      <td>0.0</td>\n",
       "      <td>330.0</td>\n",
       "      <td>7.2</td>\n",
       "      <td>13.0</td>\n",
       "      <td>1011.9</td>\n",
       "      <td>...</td>\n",
       "      <td>2021-09-01</td>\n",
       "      <td>2021</td>\n",
       "      <td>9</td>\n",
       "      <td>2</td>\n",
       "      <td>Wednesday</td>\n",
       "      <td>no</td>\n",
       "      <td>0</td>\n",
       "      <td>Autumn</td>\n",
       "      <td>not_hol</td>\n",
       "      <td>not_hol</td>\n",
       "    </tr>\n",
       "    <tr>\n",
       "      <th>4</th>\n",
       "      <td>2021-09-01 01:00:00+00:00</td>\n",
       "      <td>9.0</td>\n",
       "      <td>8.1</td>\n",
       "      <td>94.0</td>\n",
       "      <td>0.0</td>\n",
       "      <td>0.0</td>\n",
       "      <td>300.0</td>\n",
       "      <td>3.6</td>\n",
       "      <td>13.0</td>\n",
       "      <td>1011.4</td>\n",
       "      <td>...</td>\n",
       "      <td>2021-09-01</td>\n",
       "      <td>2021</td>\n",
       "      <td>9</td>\n",
       "      <td>2</td>\n",
       "      <td>Wednesday</td>\n",
       "      <td>no</td>\n",
       "      <td>1</td>\n",
       "      <td>Autumn</td>\n",
       "      <td>not_hol</td>\n",
       "      <td>not_hol</td>\n",
       "    </tr>\n",
       "  </tbody>\n",
       "</table>\n",
       "<p>5 rows × 23 columns</p>\n",
       "</div>"
      ],
      "text/plain": [
       "                       time  temp  dwpt  rhum  prcp  snow   wdir  wspd  wpgt  \\\n",
       "0 2021-08-31 21:00:00+00:00  11.2  10.3  94.0   0.0   0.0  320.0   7.2  16.7   \n",
       "1 2021-08-31 22:00:00+00:00  10.7   9.6  93.0   0.0   0.0  320.0   7.2  13.0   \n",
       "2 2021-08-31 23:00:00+00:00   9.9   9.0  94.0   0.0   0.0  320.0   7.2  13.0   \n",
       "3 2021-09-01 00:00:00+00:00  10.0   8.4  90.0   0.0   0.0  330.0   7.2  13.0   \n",
       "4 2021-09-01 01:00:00+00:00   9.0   8.1  94.0   0.0   0.0  300.0   3.6  13.0   \n",
       "\n",
       "     pres  ...        date  year  month dow    dayname  weekend  hour  season  \\\n",
       "0  1012.6  ...  2021-08-31  2021      8   1    Tuesday       no    21  Summer   \n",
       "1  1012.6  ...  2021-08-31  2021      8   1    Tuesday       no    22  Summer   \n",
       "2  1012.2  ...  2021-08-31  2021      8   1    Tuesday       no    23  Summer   \n",
       "3  1011.9  ...  2021-09-01  2021      9   2  Wednesday       no     0  Autumn   \n",
       "4  1011.4  ...  2021-09-01  2021      9   2  Wednesday       no     1  Autumn   \n",
       "\n",
       "    h_type  is_holiday  \n",
       "0  not_hol     not_hol  \n",
       "1  not_hol     not_hol  \n",
       "2  not_hol     not_hol  \n",
       "3  not_hol     not_hol  \n",
       "4  not_hol     not_hol  \n",
       "\n",
       "[5 rows x 23 columns]"
      ]
     },
     "execution_count": 11,
     "metadata": {},
     "output_type": "execute_result"
    }
   ],
   "source": [
    "wrangle_dates(df_train)\n",
    "\n",
    "# Add holidays info\n",
    "df_train = df_train.merge(df_holidays, on = 'date', how = 'left')\n",
    "df_train['h_type'] = df_train['h_type'].fillna('not_hol').astype(str)\n",
    "df_train['is_holiday'] = df_train['is_holiday'].fillna('not_hol').astype(str)\n",
    "\n",
    "# Custom fill for `snow` (fill with the next non-NaN value)\n",
    "snow = df_train['snow'].to_numpy()\n",
    "snow_index = df_train.index[~df_train['snow'].isna()].tolist()\n",
    "current_snow_value = 0\n",
    "for i in range(len(snow)):\n",
    "    if i > 5241:\n",
    "        current_snow_value = 0\n",
    "        snow[i] = current_snow_value\n",
    "    if i not in (snow_index):\n",
    "        snow[i] = current_snow_value\n",
    "    if i in (snow_index):\n",
    "        current_snow_value = snow[i]\n",
    "        snow[i] = current_snow_value\n",
    "df_train['snow'] = snow\n",
    "\n",
    "# Fill `prcp` with 0\n",
    "df_train['prcp'] = df_train['prcp'].fillna(0.0)\n",
    "\n",
    "# Fill NAs with last valid values, convert `coco` to categorical\n",
    "df_train['coco'].fillna(method = 'ffill', inplace = True)\n",
    "df_train['coco'] = df_train['coco'].astype(str)\n",
    "\n",
    "df_train.head()"
   ]
  },
  {
   "cell_type": "code",
   "execution_count": 12,
   "id": "7a8f4939",
   "metadata": {
    "scrolled": false
   },
   "outputs": [],
   "source": [
    "wrangle_dates(df_test)\n",
    "\n",
    "# Add holidays info\n",
    "df_test = df_test.merge(df_holidays, on = 'date', how = 'left')\n",
    "df_test['h_type'] = df_test['h_type'].fillna('not_hol').astype(str)\n",
    "df_test['is_holiday'] = df_test['is_holiday'].fillna('not_hol').astype(str)\n",
    "\n",
    "# Fill `snow` with 0 (no snow in August)\n",
    "df_test['snow'] = df_test['snow'].fillna(0.0)\n",
    "\n",
    "# Fill `prcp` with 0\n",
    "df_test['prcp'] = df_test['prcp'].fillna(0.0)\n",
    "df_test.head()\n",
    "\n",
    "# Fill NAs with last valid values, convert `coco` to categorical\n",
    "df_test['coco'].fillna(method = 'ffill', inplace = True)\n",
    "df_test['coco'] = df_test['coco'].astype(str)"
   ]
  },
  {
   "cell_type": "markdown",
   "id": "4a891249",
   "metadata": {},
   "source": [
    "## 2.1. `consumption` transformations\n",
    "This is our target variable. Here, we first impute the few missing data points by using interpolation - in essence, this is the value of average of the previous and next time point."
   ]
  },
  {
   "cell_type": "code",
   "execution_count": 13,
   "id": "97e47256",
   "metadata": {},
   "outputs": [],
   "source": [
    "# Fill the NAs with the average of previous and next value in time-series\n",
    "df_train['y_imp'] = df_train['y_original'].interpolate()\n",
    "\n",
    "# Add a constant to avoid '0.0'\n",
    "df_train['y_imp'] = df_train['y_imp'] + 0.000001"
   ]
  },
  {
   "cell_type": "markdown",
   "id": "7a82412c",
   "metadata": {},
   "source": [
    "We also need to take care of the outliers. To that end, let's explore some potential autocorrelation values and, based on that, adjsut the values with a N-day moving average. First, let's compute a vector of autocorrelations. this should help us with selecting how many shifts would be reasonable for predictions."
   ]
  },
  {
   "cell_type": "code",
   "execution_count": 14,
   "id": "6c6fa298",
   "metadata": {},
   "outputs": [
    {
     "data": {
      "image/png": "[encoded data removed]",
      "text/plain": [
       "<Figure size 500x200 with 1 Axes>"
      ]
     },
     "metadata": {},
     "output_type": "display_data"
    }
   ],
   "source": [
    "autocors = [df_train['y_imp'].autocorr(i) for i in range(10)]\n",
    "\n",
    "plt.figure(figsize=[5,2])\n",
    "plt.plot(autocors)\n",
    "plt.show();"
   ]
  },
  {
   "cell_type": "markdown",
   "id": "0e6d94c0",
   "metadata": {},
   "source": [
    "The figure above shows that perhaps it makes sense to compute the rolling means up for three days the most, as after that the autocorrelation gets too low."
   ]
  },
  {
   "cell_type": "code",
   "execution_count": 15,
   "id": "f64843f6",
   "metadata": {
    "scrolled": true
   },
   "outputs": [
    {
     "data": {
      "text/html": [
       "<div>\n",
       "<style scoped>\n",
       "    .dataframe tbody tr th:only-of-type {\n",
       "        vertical-align: middle;\n",
       "    }\n",
       "\n",
       "    .dataframe tbody tr th {\n",
       "        vertical-align: top;\n",
       "    }\n",
       "\n",
       "    .dataframe thead th {\n",
       "        text-align: right;\n",
       "    }\n",
       "</style>\n",
       "<table border=\"1\" class=\"dataframe\">\n",
       "  <thead>\n",
       "    <tr style=\"text-align: right;\">\n",
       "      <th></th>\n",
       "      <th>time</th>\n",
       "      <th>temp</th>\n",
       "      <th>dwpt</th>\n",
       "      <th>rhum</th>\n",
       "      <th>prcp</th>\n",
       "      <th>snow</th>\n",
       "      <th>wdir</th>\n",
       "      <th>wspd</th>\n",
       "      <th>wpgt</th>\n",
       "      <th>pres</th>\n",
       "      <th>...</th>\n",
       "      <th>dow</th>\n",
       "      <th>dayname</th>\n",
       "      <th>weekend</th>\n",
       "      <th>hour</th>\n",
       "      <th>season</th>\n",
       "      <th>h_type</th>\n",
       "      <th>is_holiday</th>\n",
       "      <th>y_imp</th>\n",
       "      <th>y_imp_r2</th>\n",
       "      <th>y_imp_r3</th>\n",
       "    </tr>\n",
       "  </thead>\n",
       "  <tbody>\n",
       "    <tr>\n",
       "      <th>0</th>\n",
       "      <td>2021-08-31 21:00:00+00:00</td>\n",
       "      <td>11.2</td>\n",
       "      <td>10.3</td>\n",
       "      <td>94.0</td>\n",
       "      <td>0.0</td>\n",
       "      <td>0.0</td>\n",
       "      <td>320.0</td>\n",
       "      <td>7.2</td>\n",
       "      <td>16.7</td>\n",
       "      <td>1012.6</td>\n",
       "      <td>...</td>\n",
       "      <td>1</td>\n",
       "      <td>Tuesday</td>\n",
       "      <td>no</td>\n",
       "      <td>21</td>\n",
       "      <td>Summer</td>\n",
       "      <td>not_hol</td>\n",
       "      <td>not_hol</td>\n",
       "      <td>0.577001</td>\n",
       "      <td>0.577001</td>\n",
       "      <td>0.577001</td>\n",
       "    </tr>\n",
       "    <tr>\n",
       "      <th>1</th>\n",
       "      <td>2021-08-31 22:00:00+00:00</td>\n",
       "      <td>10.7</td>\n",
       "      <td>9.6</td>\n",
       "      <td>93.0</td>\n",
       "      <td>0.0</td>\n",
       "      <td>0.0</td>\n",
       "      <td>320.0</td>\n",
       "      <td>7.2</td>\n",
       "      <td>13.0</td>\n",
       "      <td>1012.6</td>\n",
       "      <td>...</td>\n",
       "      <td>1</td>\n",
       "      <td>Tuesday</td>\n",
       "      <td>no</td>\n",
       "      <td>22</td>\n",
       "      <td>Summer</td>\n",
       "      <td>not_hol</td>\n",
       "      <td>not_hol</td>\n",
       "      <td>0.594001</td>\n",
       "      <td>0.585501</td>\n",
       "      <td>0.594001</td>\n",
       "    </tr>\n",
       "    <tr>\n",
       "      <th>2</th>\n",
       "      <td>2021-08-31 23:00:00+00:00</td>\n",
       "      <td>9.9</td>\n",
       "      <td>9.0</td>\n",
       "      <td>94.0</td>\n",
       "      <td>0.0</td>\n",
       "      <td>0.0</td>\n",
       "      <td>320.0</td>\n",
       "      <td>7.2</td>\n",
       "      <td>13.0</td>\n",
       "      <td>1012.2</td>\n",
       "      <td>...</td>\n",
       "      <td>1</td>\n",
       "      <td>Tuesday</td>\n",
       "      <td>no</td>\n",
       "      <td>23</td>\n",
       "      <td>Summer</td>\n",
       "      <td>not_hol</td>\n",
       "      <td>not_hol</td>\n",
       "      <td>0.685001</td>\n",
       "      <td>0.639501</td>\n",
       "      <td>0.618668</td>\n",
       "    </tr>\n",
       "    <tr>\n",
       "      <th>3</th>\n",
       "      <td>2021-09-01 00:00:00+00:00</td>\n",
       "      <td>10.0</td>\n",
       "      <td>8.4</td>\n",
       "      <td>90.0</td>\n",
       "      <td>0.0</td>\n",
       "      <td>0.0</td>\n",
       "      <td>330.0</td>\n",
       "      <td>7.2</td>\n",
       "      <td>13.0</td>\n",
       "      <td>1011.9</td>\n",
       "      <td>...</td>\n",
       "      <td>2</td>\n",
       "      <td>Wednesday</td>\n",
       "      <td>no</td>\n",
       "      <td>0</td>\n",
       "      <td>Autumn</td>\n",
       "      <td>not_hol</td>\n",
       "      <td>not_hol</td>\n",
       "      <td>1.016001</td>\n",
       "      <td>0.850501</td>\n",
       "      <td>0.765001</td>\n",
       "    </tr>\n",
       "    <tr>\n",
       "      <th>4</th>\n",
       "      <td>2021-09-01 01:00:00+00:00</td>\n",
       "      <td>9.0</td>\n",
       "      <td>8.1</td>\n",
       "      <td>94.0</td>\n",
       "      <td>0.0</td>\n",
       "      <td>0.0</td>\n",
       "      <td>300.0</td>\n",
       "      <td>3.6</td>\n",
       "      <td>13.0</td>\n",
       "      <td>1011.4</td>\n",
       "      <td>...</td>\n",
       "      <td>2</td>\n",
       "      <td>Wednesday</td>\n",
       "      <td>no</td>\n",
       "      <td>1</td>\n",
       "      <td>Autumn</td>\n",
       "      <td>not_hol</td>\n",
       "      <td>not_hol</td>\n",
       "      <td>0.677001</td>\n",
       "      <td>0.846501</td>\n",
       "      <td>0.792668</td>\n",
       "    </tr>\n",
       "  </tbody>\n",
       "</table>\n",
       "<p>5 rows × 26 columns</p>\n",
       "</div>"
      ],
      "text/plain": [
       "                       time  temp  dwpt  rhum  prcp  snow   wdir  wspd  wpgt  \\\n",
       "0 2021-08-31 21:00:00+00:00  11.2  10.3  94.0   0.0   0.0  320.0   7.2  16.7   \n",
       "1 2021-08-31 22:00:00+00:00  10.7   9.6  93.0   0.0   0.0  320.0   7.2  13.0   \n",
       "2 2021-08-31 23:00:00+00:00   9.9   9.0  94.0   0.0   0.0  320.0   7.2  13.0   \n",
       "3 2021-09-01 00:00:00+00:00  10.0   8.4  90.0   0.0   0.0  330.0   7.2  13.0   \n",
       "4 2021-09-01 01:00:00+00:00   9.0   8.1  94.0   0.0   0.0  300.0   3.6  13.0   \n",
       "\n",
       "     pres  ... dow    dayname  weekend hour  season   h_type  is_holiday  \\\n",
       "0  1012.6  ...   1    Tuesday       no   21  Summer  not_hol     not_hol   \n",
       "1  1012.6  ...   1    Tuesday       no   22  Summer  not_hol     not_hol   \n",
       "2  1012.2  ...   1    Tuesday       no   23  Summer  not_hol     not_hol   \n",
       "3  1011.9  ...   2  Wednesday       no    0  Autumn  not_hol     not_hol   \n",
       "4  1011.4  ...   2  Wednesday       no    1  Autumn  not_hol     not_hol   \n",
       "\n",
       "      y_imp  y_imp_r2  y_imp_r3  \n",
       "0  0.577001  0.577001  0.577001  \n",
       "1  0.594001  0.585501  0.594001  \n",
       "2  0.685001  0.639501  0.618668  \n",
       "3  1.016001  0.850501  0.765001  \n",
       "4  0.677001  0.846501  0.792668  \n",
       "\n",
       "[5 rows x 26 columns]"
      ]
     },
     "execution_count": 15,
     "metadata": {},
     "output_type": "execute_result"
    }
   ],
   "source": [
    "# Compute new values: rolling means over 2 and 3 days\n",
    "## Fill the NAs of N rows (N = size of rolling window) with the original values\n",
    "df_train['y_imp_r2'] = df_train['y_imp'].rolling(2).mean()\n",
    "nan_idx = df_train[df_train['y_imp_r2'].isnull()].index\n",
    "df_train.loc[nan_idx.values, 'y_imp_r2'] = df_train.loc[nan_idx.values, 'y_imp_r2'].fillna(df_train.loc[nan_idx.values, 'y_imp'])\n",
    "\n",
    "df_train['y_imp_r3'] = df_train['y_imp'].rolling(3).mean()\n",
    "nan_idx = df_train[df_train['y_imp_r3'].isnull()].index\n",
    "df_train.loc[nan_idx.values, 'y_imp_r3'] = df_train.loc[nan_idx.values, 'y_imp_r3'].fillna(df_train.loc[nan_idx.values, 'y_imp'])\n",
    "\n",
    "# There's really no point to compute the 7- or 14-hour rolling averages\n",
    "#df_train['y_imp_r7'] = df_train['y_imp'].rolling(3).mean()\n",
    "#df_train['y_imp_r7'] = df_train['y_imp_r7'].fillna(df_train['y_imp'])\n",
    "\n",
    "#df_train['y_imp_r14'] = df_train['y_imp'].rolling(3).mean()\n",
    "#df_train['y_imp_r14'] = df_train['y_imp_r14'].fillna(df_train['y_imp'])\n",
    "\n",
    "df_train.head()"
   ]
  },
  {
   "cell_type": "markdown",
   "id": "5f2efb61",
   "metadata": {},
   "source": [
    "Let's take a look at the different rolling means values:"
   ]
  },
  {
   "cell_type": "code",
   "execution_count": 16,
   "id": "91c52f9d",
   "metadata": {
    "scrolled": true
   },
   "outputs": [
    {
     "data": {
      "image/png": "[encoded data removed]",
      "text/plain": [
       "<Figure size 1000x500 with 3 Axes>"
      ]
     },
     "metadata": {},
     "output_type": "display_data"
    }
   ],
   "source": [
    "fig, (ax1, ax2, ax3, #ax4, ax5\n",
    "     ) = plt.subplots(nrows = 3, #5, \n",
    "                      ncols = 1, figsize = [10, 5])\n",
    "ax1.plot(df_train['time'], df_train['y_imp'])\n",
    "ax2.plot(df_train['time'], df_train['y_imp_r2'])\n",
    "ax3.plot(df_train['time'], df_train['y_imp_r3'])\n",
    "#ax4.plot(df_train['time'], df_train['y_imp_r7'])\n",
    "#ax5.plot(df_train['time'], df_train['y_imp_r14'])\n",
    "plt.show();"
   ]
  },
  {
   "cell_type": "markdown",
   "id": "34b70287",
   "metadata": {},
   "source": [
    "There is still some a significant intra-day variation that results in spikes in the graphs. Let's try to further smooth these spikes by applying log-normalization. Let's then plot the results. Note: when predicting the values, make sure to exponentiate the predictions!"
   ]
  },
  {
   "cell_type": "code",
   "execution_count": 17,
   "id": "d9a1b0f9",
   "metadata": {},
   "outputs": [
    {
     "data": {
      "text/html": [
       "<div>\n",
       "<style scoped>\n",
       "    .dataframe tbody tr th:only-of-type {\n",
       "        vertical-align: middle;\n",
       "    }\n",
       "\n",
       "    .dataframe tbody tr th {\n",
       "        vertical-align: top;\n",
       "    }\n",
       "\n",
       "    .dataframe thead th {\n",
       "        text-align: right;\n",
       "    }\n",
       "</style>\n",
       "<table border=\"1\" class=\"dataframe\">\n",
       "  <thead>\n",
       "    <tr style=\"text-align: right;\">\n",
       "      <th></th>\n",
       "      <th>time</th>\n",
       "      <th>temp</th>\n",
       "      <th>dwpt</th>\n",
       "      <th>rhum</th>\n",
       "      <th>prcp</th>\n",
       "      <th>snow</th>\n",
       "      <th>wdir</th>\n",
       "      <th>wspd</th>\n",
       "      <th>wpgt</th>\n",
       "      <th>pres</th>\n",
       "      <th>...</th>\n",
       "      <th>hour</th>\n",
       "      <th>season</th>\n",
       "      <th>h_type</th>\n",
       "      <th>is_holiday</th>\n",
       "      <th>y_imp</th>\n",
       "      <th>y_imp_r2</th>\n",
       "      <th>y_imp_r3</th>\n",
       "      <th>y_imp_log</th>\n",
       "      <th>y_imp_r2_log</th>\n",
       "      <th>y_imp_r3_log</th>\n",
       "    </tr>\n",
       "  </thead>\n",
       "  <tbody>\n",
       "    <tr>\n",
       "      <th>0</th>\n",
       "      <td>2021-08-31 21:00:00+00:00</td>\n",
       "      <td>11.2</td>\n",
       "      <td>10.3</td>\n",
       "      <td>94.0</td>\n",
       "      <td>0.0</td>\n",
       "      <td>0.0</td>\n",
       "      <td>320.0</td>\n",
       "      <td>7.2</td>\n",
       "      <td>16.7</td>\n",
       "      <td>1012.6</td>\n",
       "      <td>...</td>\n",
       "      <td>21</td>\n",
       "      <td>Summer</td>\n",
       "      <td>not_hol</td>\n",
       "      <td>not_hol</td>\n",
       "      <td>0.577001</td>\n",
       "      <td>0.577001</td>\n",
       "      <td>0.577001</td>\n",
       "      <td>-0.549911</td>\n",
       "      <td>-0.549911</td>\n",
       "      <td>-0.549911</td>\n",
       "    </tr>\n",
       "    <tr>\n",
       "      <th>1</th>\n",
       "      <td>2021-08-31 22:00:00+00:00</td>\n",
       "      <td>10.7</td>\n",
       "      <td>9.6</td>\n",
       "      <td>93.0</td>\n",
       "      <td>0.0</td>\n",
       "      <td>0.0</td>\n",
       "      <td>320.0</td>\n",
       "      <td>7.2</td>\n",
       "      <td>13.0</td>\n",
       "      <td>1012.6</td>\n",
       "      <td>...</td>\n",
       "      <td>22</td>\n",
       "      <td>Summer</td>\n",
       "      <td>not_hol</td>\n",
       "      <td>not_hol</td>\n",
       "      <td>0.594001</td>\n",
       "      <td>0.585501</td>\n",
       "      <td>0.594001</td>\n",
       "      <td>-0.520874</td>\n",
       "      <td>-0.535287</td>\n",
       "      <td>-0.520874</td>\n",
       "    </tr>\n",
       "    <tr>\n",
       "      <th>2</th>\n",
       "      <td>2021-08-31 23:00:00+00:00</td>\n",
       "      <td>9.9</td>\n",
       "      <td>9.0</td>\n",
       "      <td>94.0</td>\n",
       "      <td>0.0</td>\n",
       "      <td>0.0</td>\n",
       "      <td>320.0</td>\n",
       "      <td>7.2</td>\n",
       "      <td>13.0</td>\n",
       "      <td>1012.2</td>\n",
       "      <td>...</td>\n",
       "      <td>23</td>\n",
       "      <td>Summer</td>\n",
       "      <td>not_hol</td>\n",
       "      <td>not_hol</td>\n",
       "      <td>0.685001</td>\n",
       "      <td>0.639501</td>\n",
       "      <td>0.618668</td>\n",
       "      <td>-0.378335</td>\n",
       "      <td>-0.447067</td>\n",
       "      <td>-0.480187</td>\n",
       "    </tr>\n",
       "    <tr>\n",
       "      <th>3</th>\n",
       "      <td>2021-09-01 00:00:00+00:00</td>\n",
       "      <td>10.0</td>\n",
       "      <td>8.4</td>\n",
       "      <td>90.0</td>\n",
       "      <td>0.0</td>\n",
       "      <td>0.0</td>\n",
       "      <td>330.0</td>\n",
       "      <td>7.2</td>\n",
       "      <td>13.0</td>\n",
       "      <td>1011.9</td>\n",
       "      <td>...</td>\n",
       "      <td>0</td>\n",
       "      <td>Autumn</td>\n",
       "      <td>not_hol</td>\n",
       "      <td>not_hol</td>\n",
       "      <td>1.016001</td>\n",
       "      <td>0.850501</td>\n",
       "      <td>0.765001</td>\n",
       "      <td>0.015874</td>\n",
       "      <td>-0.161930</td>\n",
       "      <td>-0.267878</td>\n",
       "    </tr>\n",
       "    <tr>\n",
       "      <th>4</th>\n",
       "      <td>2021-09-01 01:00:00+00:00</td>\n",
       "      <td>9.0</td>\n",
       "      <td>8.1</td>\n",
       "      <td>94.0</td>\n",
       "      <td>0.0</td>\n",
       "      <td>0.0</td>\n",
       "      <td>300.0</td>\n",
       "      <td>3.6</td>\n",
       "      <td>13.0</td>\n",
       "      <td>1011.4</td>\n",
       "      <td>...</td>\n",
       "      <td>1</td>\n",
       "      <td>Autumn</td>\n",
       "      <td>not_hol</td>\n",
       "      <td>not_hol</td>\n",
       "      <td>0.677001</td>\n",
       "      <td>0.846501</td>\n",
       "      <td>0.792668</td>\n",
       "      <td>-0.390083</td>\n",
       "      <td>-0.166644</td>\n",
       "      <td>-0.232351</td>\n",
       "    </tr>\n",
       "  </tbody>\n",
       "</table>\n",
       "<p>5 rows × 29 columns</p>\n",
       "</div>"
      ],
      "text/plain": [
       "                       time  temp  dwpt  rhum  prcp  snow   wdir  wspd  wpgt  \\\n",
       "0 2021-08-31 21:00:00+00:00  11.2  10.3  94.0   0.0   0.0  320.0   7.2  16.7   \n",
       "1 2021-08-31 22:00:00+00:00  10.7   9.6  93.0   0.0   0.0  320.0   7.2  13.0   \n",
       "2 2021-08-31 23:00:00+00:00   9.9   9.0  94.0   0.0   0.0  320.0   7.2  13.0   \n",
       "3 2021-09-01 00:00:00+00:00  10.0   8.4  90.0   0.0   0.0  330.0   7.2  13.0   \n",
       "4 2021-09-01 01:00:00+00:00   9.0   8.1  94.0   0.0   0.0  300.0   3.6  13.0   \n",
       "\n",
       "     pres  ... hour  season   h_type is_holiday     y_imp  y_imp_r2  y_imp_r3  \\\n",
       "0  1012.6  ...   21  Summer  not_hol    not_hol  0.577001  0.577001  0.577001   \n",
       "1  1012.6  ...   22  Summer  not_hol    not_hol  0.594001  0.585501  0.594001   \n",
       "2  1012.2  ...   23  Summer  not_hol    not_hol  0.685001  0.639501  0.618668   \n",
       "3  1011.9  ...    0  Autumn  not_hol    not_hol  1.016001  0.850501  0.765001   \n",
       "4  1011.4  ...    1  Autumn  not_hol    not_hol  0.677001  0.846501  0.792668   \n",
       "\n",
       "  y_imp_log y_imp_r2_log  y_imp_r3_log  \n",
       "0 -0.549911    -0.549911     -0.549911  \n",
       "1 -0.520874    -0.535287     -0.520874  \n",
       "2 -0.378335    -0.447067     -0.480187  \n",
       "3  0.015874    -0.161930     -0.267878  \n",
       "4 -0.390083    -0.166644     -0.232351  \n",
       "\n",
       "[5 rows x 29 columns]"
      ]
     },
     "execution_count": 17,
     "metadata": {},
     "output_type": "execute_result"
    }
   ],
   "source": [
    "df_train['y_imp_log'] = np.log(df_train['y_imp'])\n",
    "df_train['y_imp_r2_log'] =  np.log(df_train['y_imp_r2'])\n",
    "df_train['y_imp_r3_log'] = np.log(df_train['y_imp_r3'])\n",
    "#df_train['y_imp_r7_log'] =  np.log(df_train['y_imp_r7'])\n",
    "#df_train['y_imp_r14_log'] =  np.log(df_train['y_imp_r14'])\n",
    "df_train.head()"
   ]
  },
  {
   "cell_type": "code",
   "execution_count": 18,
   "id": "5e9b52f0",
   "metadata": {
    "scrolled": true
   },
   "outputs": [
    {
     "data": {
      "image/png": "[encoded data removed]",
      "text/plain": [
       "<Figure size 1000x500 with 3 Axes>"
      ]
     },
     "metadata": {},
     "output_type": "display_data"
    }
   ],
   "source": [
    "fig, (ax1, ax2, ax3, \n",
    "      #ax4, ax5\n",
    "     ) = plt.subplots(nrows = 3, # 5,\n",
    "                      ncols = 1, figsize = [10, 5])\n",
    "ax1.plot(df_train['time'], df_train['y_imp_log'])\n",
    "ax2.plot(df_train['time'], df_train['y_imp_r2_log'])\n",
    "ax3.plot(df_train['time'], df_train['y_imp_r3_log'])\n",
    "#ax4.plot(df_train['time'], df_train['y_imp_r7_log'])\n",
    "#ax5.plot(df_train['time'], df_train['y_imp_r14_log'])\n",
    "plt.show();"
   ]
  },
  {
   "cell_type": "markdown",
   "id": "f732c544",
   "metadata": {},
   "source": [
    "Additional target variables where the values are between M +- 2SD."
   ]
  },
  {
   "cell_type": "markdown",
   "id": "8f23cbd6",
   "metadata": {},
   "source": [
    "As an intermediate step, let's test these datasets by writing them out first"
   ]
  },
  {
   "cell_type": "code",
   "execution_count": 19,
   "id": "b547468a",
   "metadata": {},
   "outputs": [],
   "source": [
    "df_train.to_csv('data/df_train_DR2.csv')\n",
    "df_test.to_csv('data/df_test_DR2.csv')"
   ]
  },
  {
   "cell_type": "code",
   "execution_count": 20,
   "id": "c3bb7d8f",
   "metadata": {},
   "outputs": [
    {
     "ename": "SyntaxError",
     "evalue": "invalid syntax (1947214667.py, line 1)",
     "output_type": "error",
     "traceback": [
      "\u001b[0;36m  File \u001b[0;32m\"/var/folders/28/mdvjx70j6qqfykv1xw8gz1n00000gn/T/ipykernel_34389/1947214667.py\"\u001b[0;36m, line \u001b[0;32m1\u001b[0m\n\u001b[0;31m    ---\u001b[0m\n\u001b[0m       ^\u001b[0m\n\u001b[0;31mSyntaxError\u001b[0m\u001b[0;31m:\u001b[0m invalid syntax\n"
     ]
    }
   ],
   "source": [
    "---"
   ]
  },
  {
   "cell_type": "code",
   "execution_count": null,
   "id": "10f7228e",
   "metadata": {},
   "outputs": [],
   "source": []
  },
  {
   "cell_type": "code",
   "execution_count": null,
   "id": "b17feab3",
   "metadata": {},
   "outputs": [],
   "source": []
  },
  {
   "cell_type": "code",
   "execution_count": null,
   "id": "4ee23bd6",
   "metadata": {},
   "outputs": [],
   "source": []
  },
  {
   "cell_type": "code",
   "execution_count": null,
   "id": "89f823b9",
   "metadata": {},
   "outputs": [],
   "source": []
  },
  {
   "cell_type": "code",
   "execution_count": null,
   "id": "43a57653",
   "metadata": {},
   "outputs": [],
   "source": []
  },
  {
   "cell_type": "code",
   "execution_count": null,
   "id": "8791dd12",
   "metadata": {},
   "outputs": [],
   "source": []
  },
  {
   "cell_type": "code",
   "execution_count": null,
   "id": "5fa7f60d",
   "metadata": {},
   "outputs": [],
   "source": []
  },
  {
   "cell_type": "code",
   "execution_count": null,
   "id": "9bcf7a6f",
   "metadata": {},
   "outputs": [],
   "source": []
  },
  {
   "cell_type": "code",
   "execution_count": null,
   "id": "0e9d8662",
   "metadata": {},
   "outputs": [],
   "source": []
  },
  {
   "cell_type": "code",
   "execution_count": null,
   "id": "eca53f77",
   "metadata": {},
   "outputs": [],
   "source": []
  },
  {
   "cell_type": "code",
   "execution_count": null,
   "id": "c8b78b49",
   "metadata": {},
   "outputs": [],
   "source": []
  },
  {
   "cell_type": "code",
   "execution_count": null,
   "id": "6a3ad1c0",
   "metadata": {},
   "outputs": [],
   "source": []
  },
  {
   "cell_type": "markdown",
   "id": "c58284b2",
   "metadata": {},
   "source": [
    "## 3. Describing the Associations between the Features and Target\n",
    "Let's look at the correlations between the numeric variables"
   ]
  },
  {
   "cell_type": "code",
   "execution_count": null,
   "id": "375110d9",
   "metadata": {},
   "outputs": [],
   "source": [
    "cors = df_train.drop(columns = ['year']).corr()\n",
    "sns.heatmap(cors, vmin = -1, vmax = 1)\n",
    "plt.show();"
   ]
  },
  {
   "cell_type": "markdown",
   "id": "63a455ce",
   "metadata": {},
   "source": [
    "Energy consumption across various time metrics"
   ]
  },
  {
   "cell_type": "code",
   "execution_count": null,
   "id": "2676cda3",
   "metadata": {},
   "outputs": [],
   "source": [
    "def hourly_consumption_hmap(grouping_var, y_var, title):\n",
    "    df = df_train.loc[:, [grouping_var, 'hour', y_var]].\\\n",
    "    groupby([grouping_var, 'hour']).mean(y_var).reset_index().\\\n",
    "    pivot('hour', grouping_var, y_var)\n",
    "    \n",
    "    # Plot\n",
    "    sns.heatmap(df)\n",
    "    plt.title(f'Average Energy Consumption ({title} x Time of Day)')\n",
    "    plt.show();"
   ]
  },
  {
   "cell_type": "code",
   "execution_count": null,
   "id": "2af236ba",
   "metadata": {
    "scrolled": false
   },
   "outputs": [],
   "source": [
    "hourly_consumption_hmap('dow', 'y_imp', 'Day of Week')\n",
    "hourly_consumption_hmap('month', 'y_imp', 'Month')\n",
    "hourly_consumption_hmap('season', 'y_imp', 'Season')\n",
    "hourly_consumption_hmap('h_type', 'y_imp', 'Holiday Type')"
   ]
  },
  {
   "cell_type": "markdown",
   "id": "c3ebf87b",
   "metadata": {},
   "source": [
    "## Predicting Energy Consumption"
   ]
  },
  {
   "cell_type": "markdown",
   "id": "578420cb",
   "metadata": {},
   "source": [
    "Splitting the data to training, validation, and test splits"
   ]
  },
  {
   "cell_type": "code",
   "execution_count": null,
   "id": "cc9f8da6",
   "metadata": {},
   "outputs": [],
   "source": [
    "# Separate X features and target\n",
    "\n",
    "## Data to be split\n",
    "### Remove unnecessary columns, impute NaNs\n",
    "y_training =  df_train['consumption']\n",
    "X_training = df_train.drop(columns = ['consumption', 'time', 'date'])\n",
    "## Test data (used for predictions)\n",
    "X_test = df_test.drop(columns = ['time', 'date'])\n",
    "\n",
    "\n",
    "# Experiment with dropping the columns with a lot of missing values\n",
    "# X_train.isnull().sum()\n",
    "X_training = X_training.drop(columns = ['prcp', 'snow', 'coco'])\n",
    "X_test = X_test.drop(columns = ['prcp', 'snow', 'coco'])"
   ]
  },
  {
   "cell_type": "code",
   "execution_count": null,
   "id": "e6a5454e",
   "metadata": {},
   "outputs": [],
   "source": [
    "# Splits\n",
    "## Training data\n",
    "X_train = X_training.iloc[len(X_training)-1000:,:]\n",
    "y_train = y_training[len(y_training)-1000:]\n",
    "\n",
    "## Validation data\n",
    "X_val = X_training.iloc[:len(X_training)-1000,:]\n",
    "y_val = y_training[:len(X_training)-1000]"
   ]
  },
  {
   "cell_type": "code",
   "execution_count": null,
   "id": "00556887",
   "metadata": {},
   "outputs": [],
   "source": [
    "X_train.shape, y_train.shape"
   ]
  },
  {
   "cell_type": "code",
   "execution_count": null,
   "id": "64135b8f",
   "metadata": {},
   "outputs": [],
   "source": [
    "X_val.shape, y_val.shape"
   ]
  },
  {
   "cell_type": "markdown",
   "id": "cb0c263b",
   "metadata": {},
   "source": [
    "## Data Preprocessing"
   ]
  },
  {
   "cell_type": "code",
   "execution_count": null,
   "id": "b639d813",
   "metadata": {},
   "outputs": [],
   "source": [
    "# https://lifewithdata.com/2022/03/09/onehotencoder-how-to-do-one-hot-encoding-in-sklearn/\n",
    "\n",
    "from sklearn.preprocessing import StandardScaler\n",
    "from sklearn.preprocessing import OneHotEncoder\n",
    "from sklearn.pipeline import make_pipeline, Pipeline\n",
    "from sklearn.compose import ColumnTransformer\n",
    "from sklearn.ensemble import AdaBoostRegressor"
   ]
  },
  {
   "cell_type": "code",
   "execution_count": null,
   "id": "860a60b7",
   "metadata": {},
   "outputs": [],
   "source": [
    "ohe = OneHotEncoder(sparse = False)\n",
    "bla = ohe.fit_transform(X_train)"
   ]
  },
  {
   "cell_type": "code",
   "execution_count": null,
   "id": "126f7eab",
   "metadata": {},
   "outputs": [],
   "source": [
    "num_cols = X_train.select_dtypes(exclude=['object']).columns.tolist()\n",
    "cat_cols = X_train.select_dtypes(include=['object']).columns.tolist()"
   ]
  },
  {
   "cell_type": "code",
   "execution_count": null,
   "id": "282f73fa",
   "metadata": {},
   "outputs": [],
   "source": [
    "cat_cols"
   ]
  },
  {
   "cell_type": "code",
   "execution_count": null,
   "id": "c7e19a5e",
   "metadata": {},
   "outputs": [],
   "source": [
    "# pipeline for numerical columns\n",
    "num_pipe = make_pipeline(\n",
    "    StandardScaler()\n",
    ")\n",
    "\n",
    "# pipeline for categorical columns\n",
    "cat_pipe = make_pipeline(\n",
    "    OneHotEncoder(handle_unknown='ignore', sparse=False)\n",
    ")\n",
    "\n",
    "# combine both the pipelines\n",
    "full_pipe = ColumnTransformer([\n",
    "    ('num', num_pipe, num_cols),\n",
    "    ('cat', cat_pipe, cat_cols)\n",
    "])"
   ]
  },
  {
   "cell_type": "code",
   "execution_count": null,
   "id": "f564b653",
   "metadata": {},
   "outputs": [],
   "source": [
    "adaboost = make_pipeline(full_pipe, AdaBoostRegressor(n_estimators=100, random_state=0))"
   ]
  },
  {
   "cell_type": "code",
   "execution_count": null,
   "id": "abfda4a9",
   "metadata": {},
   "outputs": [],
   "source": [
    "adaboost.fit(X_train, y_train)"
   ]
  },
  {
   "cell_type": "markdown",
   "id": "b3e11ad8",
   "metadata": {},
   "source": [
    "## A naive ML-based approach"
   ]
  },
  {
   "cell_type": "code",
   "execution_count": null,
   "id": "d2fc3ba1",
   "metadata": {},
   "outputs": [],
   "source": []
  },
  {
   "cell_type": "code",
   "execution_count": null,
   "id": "ff1d658b",
   "metadata": {},
   "outputs": [],
   "source": [
    "from sklearn.model_selection import RepeatedKFold\n",
    "from sklearn.ensemble import RandomForestRegressor\n",
    "from sklearn.model_selection import cross_val_score"
   ]
  },
  {
   "cell_type": "code",
   "execution_count": null,
   "id": "d5a17238",
   "metadata": {},
   "outputs": [],
   "source": [
    "cv = RepeatedKFold(n_splits=3, n_repeats=1) # can be also adjusted!\n",
    "model = RandomForestRegressor().fit(X_train, y_train)\n",
    "cross_val_score(model, X_val, y_val, cv = cv).mean()"
   ]
  },
  {
   "cell_type": "code",
   "execution_count": null,
   "id": "2c3cba18",
   "metadata": {},
   "outputs": [],
   "source": []
  },
  {
   "cell_type": "markdown",
   "id": "c85468a4",
   "metadata": {},
   "source": [
    "## HPO"
   ]
  },
  {
   "cell_type": "code",
   "execution_count": null,
   "id": "02df1264",
   "metadata": {},
   "outputs": [],
   "source": [
    "# !pip install git+https://github.com/hyperopt/hyperopt-sklearn\n",
    "from hpsklearn import HyperoptEstimator, any_regressor, any_preprocessing, normalizer, lasso\n",
    "from hyperopt import tpe"
   ]
  },
  {
   "cell_type": "markdown",
   "id": "43cc6668",
   "metadata": {},
   "source": [
    "## Scikit-Optimize"
   ]
  },
  {
   "cell_type": "code",
   "execution_count": null,
   "id": "a9e3033f",
   "metadata": {},
   "outputs": [],
   "source": [
    "# https://scikit-optimize.github.io/stable/auto_examples/bayesian-optimization.html#sphx-glr-auto-examples-bayesian-optimization-py\n",
    "\n",
    "# !pip install scikit-optimize\n",
    "from skopt import Optimizer"
   ]
  },
  {
   "cell_type": "code",
   "execution_count": null,
   "id": "c35e9638",
   "metadata": {},
   "outputs": [],
   "source": []
  },
  {
   "cell_type": "code",
   "execution_count": null,
   "id": "94b5d7c3",
   "metadata": {},
   "outputs": [],
   "source": []
  },
  {
   "cell_type": "markdown",
   "id": "7bf0e72e",
   "metadata": {},
   "source": [
    "## The ARIMA approach\n",
    "For this approach, we used the [helpful tutorial](https://towardsdatascience.com/machine-learning-part-19-time-series-and-autoregressive-integrated-moving-average-model-arima-c1005347b0d7) for guidance.\n",
    "\n",
    "For this approach, we need to take into account the three components of a time series:\n",
    "* **Trend**: the movement of data over a larger time interval\n",
    "* **Seasonality**: variance within smaller time intervals\n",
    "* **Noise**: random variations\n",
    "\n",
    "Before building the model, we need to ensure the stationarity of the time series. In other words, the average od the time series should not be a function of time.\n"
   ]
  },
  {
   "cell_type": "code",
   "execution_count": null,
   "id": "b6e20938",
   "metadata": {},
   "outputs": [],
   "source": [
    "import numpy as np\n",
    "import pandas as pd\n",
    "from matplotlib import pyplot as plt\n",
    "from statsmodels.tsa.stattools import adfuller\n",
    "from statsmodels.tsa.seasonal import seasonal_decompose\n",
    "from statsmodels.tsa.arima_model import ARIMA\n",
    "from pandas.plotting import register_matplotlib_converters\n",
    "register_matplotlib_converters()"
   ]
  },
  {
   "cell_type": "markdown",
   "id": "671feb97",
   "metadata": {},
   "source": [
    "Let's plot the original time series in training data"
   ]
  },
  {
   "cell_type": "code",
   "execution_count": null,
   "id": "25cc5425",
   "metadata": {},
   "outputs": [],
   "source": [
    "plt.figure(figsize=[16,4])\n",
    "plt.plot(X_train['time'], y_train)\n",
    "plt.show();"
   ]
  },
  {
   "cell_type": "markdown",
   "id": "274ded34",
   "metadata": {},
   "source": [
    "Yikesy-spikesy. Let's test the data for stationarity."
   ]
  },
  {
   "cell_type": "code",
   "execution_count": null,
   "id": "7e225c77",
   "metadata": {},
   "outputs": [],
   "source": [
    "result = adfuller(y_train)\n",
    "print('ADF Statistic: {}'.format(result[0]))\n",
    "\n",
    "print('p-value: {}'.format(result[1]))\n",
    "print('Critical Values:')\n",
    "for key, value in result[4].items():\n",
    "    print('\\t{}: {}'.format(key, value))"
   ]
  },
  {
   "cell_type": "markdown",
   "id": "03214477",
   "metadata": {},
   "source": [
    "To this end, the data seem to be stationary."
   ]
  },
  {
   "cell_type": "code",
   "execution_count": null,
   "id": "9e01def8",
   "metadata": {},
   "outputs": [],
   "source": [
    "np.seterr(divide = 'ignore') \n",
    "df_log = np.log(y_train)\n",
    "\n",
    "\n",
    "\n",
    "\n",
    "plt.figure(figsize=[16,4])\n",
    "plt.plot(df_log)\n",
    "plt.show();"
   ]
  },
  {
   "cell_type": "code",
   "execution_count": null,
   "id": "eabeb872",
   "metadata": {},
   "outputs": [],
   "source": [
    "plt.plot((y_train - np.min(y_train))/(np.max(y_train)/np.min(y_train)))"
   ]
  },
  {
   "cell_type": "code",
   "execution_count": null,
   "id": "25f8e982",
   "metadata": {},
   "outputs": [],
   "source": []
  },
  {
   "cell_type": "code",
   "execution_count": null,
   "id": "feecbebf",
   "metadata": {},
   "outputs": [],
   "source": []
  }
 ],
 "metadata": {
  "kernelspec": {
   "display_name": "Python 3 (ipykernel)",
   "language": "python",
   "name": "python3"
  },
  "language_info": {
   "codemirror_mode": {
    "name": "ipython",
    "version": 3
   },
   "file_extension": ".py",
   "mimetype": "text/x-python",
   "name": "python",
   "nbconvert_exporter": "python",
   "pygments_lexer": "ipython3",
   "version": "3.7.13"
  }
 },
 "nbformat": 4,
 "nbformat_minor": 5
}
