{
  "nbformat": 4,
  "nbformat_minor": 0,
  "metadata": {
    "colab": {
      "provenance": [],
      "collapsed_sections": []
    },
    "kernelspec": {
      "name": "python3",
      "display_name": "Python 3"
    },
    "language_info": {
      "name": "python"
    }
  },
  "cells": [
    {
      "cell_type": "markdown",
      "source": [
        "Testid erinevate meetoditega"
      ],
      "metadata": {
        "id": "btXdfrd9xJBd"
      }
    },
    {
      "cell_type": "code",
      "source": [
        "import numpy as np \n",
        "import pandas as pd\n",
        "\n",
        "train =  pd.read_csv('df_clean.csv')\n",
        "test = pd.read_csv('df_clean_test.csv')"
      ],
      "metadata": {
        "id": "MZN6nW7oxIOX"
      },
      "execution_count": null,
      "outputs": []
    },
    {
      "cell_type": "code",
      "source": [
        "train.shape"
      ],
      "metadata": {
        "colab": {
          "base_uri": "https://localhost:8080/"
        },
        "id": "2qKv6HinxIQ_",
        "outputId": "d3a71a3a-6cf3-4af5-8e01-91449cda0955"
      },
      "execution_count": null,
      "outputs": [
        {
          "output_type": "execute_result",
          "data": {
            "text/plain": [
              "(8592, 25)"
            ]
          },
          "metadata": {},
          "execution_count": 59
        }
      ]
    },
    {
      "cell_type": "code",
      "source": [
        "test.shape"
      ],
      "metadata": {
        "colab": {
          "base_uri": "https://localhost:8080/"
        },
        "id": "3a-wT1op1ewa",
        "outputId": "599d2741-8def-4452-eb95-088326e42e79"
      },
      "execution_count": null,
      "outputs": [
        {
          "output_type": "execute_result",
          "data": {
            "text/plain": [
              "(168, 24)"
            ]
          },
          "metadata": {},
          "execution_count": 60
        }
      ]
    },
    {
      "cell_type": "code",
      "source": [
        "pd.set_option('display.max_columns', 500)\n",
        "train.head()"
      ],
      "metadata": {
        "colab": {
          "base_uri": "https://localhost:8080/",
          "height": 455
        },
        "id": "BnwUKIsNyFAL",
        "outputId": "922900dd-1058-4448-e716-6edb5e8919a7"
      },
      "execution_count": null,
      "outputs": [
        {
          "output_type": "execute_result",
          "data": {
            "text/plain": [
              "   Unnamed: 0                       time  temp  dwpt  rhum  prcp  snow   wdir  \\\n",
              "0           0  2021-09-01 00:00:00+03:00  11.2  10.3  94.0   0.0   0.0  320.0   \n",
              "1           1  2021-09-01 01:00:00+03:00  10.7   9.6  93.0   0.0   0.0  320.0   \n",
              "2           2  2021-09-01 02:00:00+03:00   9.9   9.0  94.0   0.0   0.0  320.0   \n",
              "3           3  2021-09-01 03:00:00+03:00  10.0   8.4  90.0   0.0   0.0  330.0   \n",
              "4           4  2021-09-01 04:00:00+03:00   9.0   8.1  94.0   0.0   0.0  300.0   \n",
              "\n",
              "   wspd  wpgt    pres  coco  el_price  consumption            timestamp  \\\n",
              "0   7.2  16.7  1012.6   2.0   0.09016        0.577  2021-09-01 00:00:00   \n",
              "1   7.2  13.0  1012.6   2.0   0.09251        0.594  2021-09-01 01:00:00   \n",
              "2   7.2  13.0  1012.2   2.0   0.08890        0.685  2021-09-01 02:00:00   \n",
              "3   7.2  13.0  1011.9   1.0   0.08735        1.016  2021-09-01 03:00:00   \n",
              "4   3.6  13.0  1011.4   2.0   0.08688        0.677  2021-09-01 04:00:00   \n",
              "\n",
              "              datetime  year  month  day  weekday  hour        date  \\\n",
              "0  2021-09-01 00:00:00  2021      9    1        2     0  2021-09-01   \n",
              "1  2021-09-01 01:00:00  2021      9    1        2     1  2021-09-01   \n",
              "2  2021-09-01 02:00:00  2021      9    1        2     2  2021-09-01   \n",
              "3  2021-09-01 03:00:00  2021      9    1        2     3  2021-09-01   \n",
              "4  2021-09-01 04:00:00  2021      9    1        2     4  2021-09-01   \n",
              "\n",
              "   is_holiday  season  google_trends_electricity  \n",
              "0       False  Autumn                          5  \n",
              "1       False  Autumn                          5  \n",
              "2       False  Autumn                          5  \n",
              "3       False  Autumn                          5  \n",
              "4       False  Autumn                          5  "
            ],
            "text/html": [
              "\n",
              "  <div id=\"df-44f72f7e-8028-407b-a253-b2d80439912f\">\n",
              "    <div class=\"colab-df-container\">\n",
              "      <div>\n",
              "<style scoped>\n",
              "    .dataframe tbody tr th:only-of-type {\n",
              "        vertical-align: middle;\n",
              "    }\n",
              "\n",
              "    .dataframe tbody tr th {\n",
              "        vertical-align: top;\n",
              "    }\n",
              "\n",
              "    .dataframe thead th {\n",
              "        text-align: right;\n",
              "    }\n",
              "</style>\n",
              "<table border=\"1\" class=\"dataframe\">\n",
              "  <thead>\n",
              "    <tr style=\"text-align: right;\">\n",
              "      <th></th>\n",
              "      <th>Unnamed: 0</th>\n",
              "      <th>time</th>\n",
              "      <th>temp</th>\n",
              "      <th>dwpt</th>\n",
              "      <th>rhum</th>\n",
              "      <th>prcp</th>\n",
              "      <th>snow</th>\n",
              "      <th>wdir</th>\n",
              "      <th>wspd</th>\n",
              "      <th>wpgt</th>\n",
              "      <th>pres</th>\n",
              "      <th>coco</th>\n",
              "      <th>el_price</th>\n",
              "      <th>consumption</th>\n",
              "      <th>timestamp</th>\n",
              "      <th>datetime</th>\n",
              "      <th>year</th>\n",
              "      <th>month</th>\n",
              "      <th>day</th>\n",
              "      <th>weekday</th>\n",
              "      <th>hour</th>\n",
              "      <th>date</th>\n",
              "      <th>is_holiday</th>\n",
              "      <th>season</th>\n",
              "      <th>google_trends_electricity</th>\n",
              "    </tr>\n",
              "  </thead>\n",
              "  <tbody>\n",
              "    <tr>\n",
              "      <th>0</th>\n",
              "      <td>0</td>\n",
              "      <td>2021-09-01 00:00:00+03:00</td>\n",
              "      <td>11.2</td>\n",
              "      <td>10.3</td>\n",
              "      <td>94.0</td>\n",
              "      <td>0.0</td>\n",
              "      <td>0.0</td>\n",
              "      <td>320.0</td>\n",
              "      <td>7.2</td>\n",
              "      <td>16.7</td>\n",
              "      <td>1012.6</td>\n",
              "      <td>2.0</td>\n",
              "      <td>0.09016</td>\n",
              "      <td>0.577</td>\n",
              "      <td>2021-09-01 00:00:00</td>\n",
              "      <td>2021-09-01 00:00:00</td>\n",
              "      <td>2021</td>\n",
              "      <td>9</td>\n",
              "      <td>1</td>\n",
              "      <td>2</td>\n",
              "      <td>0</td>\n",
              "      <td>2021-09-01</td>\n",
              "      <td>False</td>\n",
              "      <td>Autumn</td>\n",
              "      <td>5</td>\n",
              "    </tr>\n",
              "    <tr>\n",
              "      <th>1</th>\n",
              "      <td>1</td>\n",
              "      <td>2021-09-01 01:00:00+03:00</td>\n",
              "      <td>10.7</td>\n",
              "      <td>9.6</td>\n",
              "      <td>93.0</td>\n",
              "      <td>0.0</td>\n",
              "      <td>0.0</td>\n",
              "      <td>320.0</td>\n",
              "      <td>7.2</td>\n",
              "      <td>13.0</td>\n",
              "      <td>1012.6</td>\n",
              "      <td>2.0</td>\n",
              "      <td>0.09251</td>\n",
              "      <td>0.594</td>\n",
              "      <td>2021-09-01 01:00:00</td>\n",
              "      <td>2021-09-01 01:00:00</td>\n",
              "      <td>2021</td>\n",
              "      <td>9</td>\n",
              "      <td>1</td>\n",
              "      <td>2</td>\n",
              "      <td>1</td>\n",
              "      <td>2021-09-01</td>\n",
              "      <td>False</td>\n",
              "      <td>Autumn</td>\n",
              "      <td>5</td>\n",
              "    </tr>\n",
              "    <tr>\n",
              "      <th>2</th>\n",
              "      <td>2</td>\n",
              "      <td>2021-09-01 02:00:00+03:00</td>\n",
              "      <td>9.9</td>\n",
              "      <td>9.0</td>\n",
              "      <td>94.0</td>\n",
              "      <td>0.0</td>\n",
              "      <td>0.0</td>\n",
              "      <td>320.0</td>\n",
              "      <td>7.2</td>\n",
              "      <td>13.0</td>\n",
              "      <td>1012.2</td>\n",
              "      <td>2.0</td>\n",
              "      <td>0.08890</td>\n",
              "      <td>0.685</td>\n",
              "      <td>2021-09-01 02:00:00</td>\n",
              "      <td>2021-09-01 02:00:00</td>\n",
              "      <td>2021</td>\n",
              "      <td>9</td>\n",
              "      <td>1</td>\n",
              "      <td>2</td>\n",
              "      <td>2</td>\n",
              "      <td>2021-09-01</td>\n",
              "      <td>False</td>\n",
              "      <td>Autumn</td>\n",
              "      <td>5</td>\n",
              "    </tr>\n",
              "    <tr>\n",
              "      <th>3</th>\n",
              "      <td>3</td>\n",
              "      <td>2021-09-01 03:00:00+03:00</td>\n",
              "      <td>10.0</td>\n",
              "      <td>8.4</td>\n",
              "      <td>90.0</td>\n",
              "      <td>0.0</td>\n",
              "      <td>0.0</td>\n",
              "      <td>330.0</td>\n",
              "      <td>7.2</td>\n",
              "      <td>13.0</td>\n",
              "      <td>1011.9</td>\n",
              "      <td>1.0</td>\n",
              "      <td>0.08735</td>\n",
              "      <td>1.016</td>\n",
              "      <td>2021-09-01 03:00:00</td>\n",
              "      <td>2021-09-01 03:00:00</td>\n",
              "      <td>2021</td>\n",
              "      <td>9</td>\n",
              "      <td>1</td>\n",
              "      <td>2</td>\n",
              "      <td>3</td>\n",
              "      <td>2021-09-01</td>\n",
              "      <td>False</td>\n",
              "      <td>Autumn</td>\n",
              "      <td>5</td>\n",
              "    </tr>\n",
              "    <tr>\n",
              "      <th>4</th>\n",
              "      <td>4</td>\n",
              "      <td>2021-09-01 04:00:00+03:00</td>\n",
              "      <td>9.0</td>\n",
              "      <td>8.1</td>\n",
              "      <td>94.0</td>\n",
              "      <td>0.0</td>\n",
              "      <td>0.0</td>\n",
              "      <td>300.0</td>\n",
              "      <td>3.6</td>\n",
              "      <td>13.0</td>\n",
              "      <td>1011.4</td>\n",
              "      <td>2.0</td>\n",
              "      <td>0.08688</td>\n",
              "      <td>0.677</td>\n",
              "      <td>2021-09-01 04:00:00</td>\n",
              "      <td>2021-09-01 04:00:00</td>\n",
              "      <td>2021</td>\n",
              "      <td>9</td>\n",
              "      <td>1</td>\n",
              "      <td>2</td>\n",
              "      <td>4</td>\n",
              "      <td>2021-09-01</td>\n",
              "      <td>False</td>\n",
              "      <td>Autumn</td>\n",
              "      <td>5</td>\n",
              "    </tr>\n",
              "  </tbody>\n",
              "</table>\n",
              "</div>\n",
              "      <button class=\"colab-df-convert\" onclick=\"convertToInteractive('df-44f72f7e-8028-407b-a253-b2d80439912f')\"\n",
              "              title=\"Convert this dataframe to an interactive table.\"\n",
              "              style=\"display:none;\">\n",
              "        \n",
              "  <svg xmlns=\"http://www.w3.org/2000/svg\" height=\"24px\"viewBox=\"0 0 24 24\"\n",
              "       width=\"24px\">\n",
              "    <path d=\"M0 0h24v24H0V0z\" fill=\"none\"/>\n",
              "    <path d=\"M18.56 5.44l.94 2.06.94-2.06 2.06-.94-2.06-.94-.94-2.06-.94 2.06-2.06.94zm-11 1L8.5 8.5l.94-2.06 2.06-.94-2.06-.94L8.5 2.5l-.94 2.06-2.06.94zm10 10l.94 2.06.94-2.06 2.06-.94-2.06-.94-.94-2.06-.94 2.06-2.06.94z\"/><path d=\"M17.41 7.96l-1.37-1.37c-.4-.4-.92-.59-1.43-.59-.52 0-1.04.2-1.43.59L10.3 9.45l-7.72 7.72c-.78.78-.78 2.05 0 2.83L4 21.41c.39.39.9.59 1.41.59.51 0 1.02-.2 1.41-.59l7.78-7.78 2.81-2.81c.8-.78.8-2.07 0-2.86zM5.41 20L4 18.59l7.72-7.72 1.47 1.35L5.41 20z\"/>\n",
              "  </svg>\n",
              "      </button>\n",
              "      \n",
              "  <style>\n",
              "    .colab-df-container {\n",
              "      display:flex;\n",
              "      flex-wrap:wrap;\n",
              "      gap: 12px;\n",
              "    }\n",
              "\n",
              "    .colab-df-convert {\n",
              "      background-color: #E8F0FE;\n",
              "      border: none;\n",
              "      border-radius: 50%;\n",
              "      cursor: pointer;\n",
              "      display: none;\n",
              "      fill: #1967D2;\n",
              "      height: 32px;\n",
              "      padding: 0 0 0 0;\n",
              "      width: 32px;\n",
              "    }\n",
              "\n",
              "    .colab-df-convert:hover {\n",
              "      background-color: #E2EBFA;\n",
              "      box-shadow: 0px 1px 2px rgba(60, 64, 67, 0.3), 0px 1px 3px 1px rgba(60, 64, 67, 0.15);\n",
              "      fill: #174EA6;\n",
              "    }\n",
              "\n",
              "    [theme=dark] .colab-df-convert {\n",
              "      background-color: #3B4455;\n",
              "      fill: #D2E3FC;\n",
              "    }\n",
              "\n",
              "    [theme=dark] .colab-df-convert:hover {\n",
              "      background-color: #434B5C;\n",
              "      box-shadow: 0px 1px 3px 1px rgba(0, 0, 0, 0.15);\n",
              "      filter: drop-shadow(0px 1px 2px rgba(0, 0, 0, 0.3));\n",
              "      fill: #FFFFFF;\n",
              "    }\n",
              "  </style>\n",
              "\n",
              "      <script>\n",
              "        const buttonEl =\n",
              "          document.querySelector('#df-44f72f7e-8028-407b-a253-b2d80439912f button.colab-df-convert');\n",
              "        buttonEl.style.display =\n",
              "          google.colab.kernel.accessAllowed ? 'block' : 'none';\n",
              "\n",
              "        async function convertToInteractive(key) {\n",
              "          const element = document.querySelector('#df-44f72f7e-8028-407b-a253-b2d80439912f');\n",
              "          const dataTable =\n",
              "            await google.colab.kernel.invokeFunction('convertToInteractive',\n",
              "                                                     [key], {});\n",
              "          if (!dataTable) return;\n",
              "\n",
              "          const docLinkHtml = 'Like what you see? Visit the ' +\n",
              "            '<a target=\"_blank\" href=https://colab.research.google.com/notebooks/data_table.ipynb>data table notebook</a>'\n",
              "            + ' to learn more about interactive tables.';\n",
              "          element.innerHTML = '';\n",
              "          dataTable['output_type'] = 'display_data';\n",
              "          await google.colab.output.renderOutput(dataTable, element);\n",
              "          const docLink = document.createElement('div');\n",
              "          docLink.innerHTML = docLinkHtml;\n",
              "          element.appendChild(docLink);\n",
              "        }\n",
              "      </script>\n",
              "    </div>\n",
              "  </div>\n",
              "  "
            ]
          },
          "metadata": {},
          "execution_count": 61
        }
      ]
    },
    {
      "cell_type": "code",
      "source": [
        "train.dtypes"
      ],
      "metadata": {
        "colab": {
          "base_uri": "https://localhost:8080/"
        },
        "id": "NbfPZVWGyIC5",
        "outputId": "c72688d5-5e67-4c6d-bdbc-7a97ebbf0a54"
      },
      "execution_count": null,
      "outputs": [
        {
          "output_type": "execute_result",
          "data": {
            "text/plain": [
              "Unnamed: 0                     int64\n",
              "time                          object\n",
              "temp                         float64\n",
              "dwpt                         float64\n",
              "rhum                         float64\n",
              "prcp                         float64\n",
              "snow                         float64\n",
              "wdir                         float64\n",
              "wspd                         float64\n",
              "wpgt                         float64\n",
              "pres                         float64\n",
              "coco                         float64\n",
              "el_price                     float64\n",
              "consumption                  float64\n",
              "timestamp                     object\n",
              "datetime                      object\n",
              "year                           int64\n",
              "month                          int64\n",
              "day                            int64\n",
              "weekday                        int64\n",
              "hour                           int64\n",
              "date                          object\n",
              "is_holiday                      bool\n",
              "season                        object\n",
              "google_trends_electricity      int64\n",
              "dtype: object"
            ]
          },
          "metadata": {},
          "execution_count": 62
        }
      ]
    },
    {
      "cell_type": "code",
      "source": [
        "train_clean = train.drop(columns=['Unnamed: 0', 'time', 'timestamp', 'datetime', 'date'])"
      ],
      "metadata": {
        "id": "-EUeW9aqyNb0"
      },
      "execution_count": null,
      "outputs": []
    },
    {
      "cell_type": "code",
      "source": [
        "train_clean.shape"
      ],
      "metadata": {
        "colab": {
          "base_uri": "https://localhost:8080/"
        },
        "id": "Tf-0Dc0d0W-u",
        "outputId": "6539db66-1897-47c1-db98-7224148b29c6"
      },
      "execution_count": null,
      "outputs": [
        {
          "output_type": "execute_result",
          "data": {
            "text/plain": [
              "(8592, 20)"
            ]
          },
          "metadata": {},
          "execution_count": 64
        }
      ]
    },
    {
      "cell_type": "code",
      "source": [
        "test_clean = test.drop(columns=['Unnamed: 0', 'time', 'timestamp', 'datetime', 'date'])"
      ],
      "metadata": {
        "id": "Xe33RQuq0Zck"
      },
      "execution_count": null,
      "outputs": []
    },
    {
      "cell_type": "code",
      "source": [
        "test_clean.shape"
      ],
      "metadata": {
        "colab": {
          "base_uri": "https://localhost:8080/"
        },
        "id": "IdagpjBB0mnP",
        "outputId": "0303fefb-bdeb-4317-da24-f87a00790957"
      },
      "execution_count": null,
      "outputs": [
        {
          "output_type": "execute_result",
          "data": {
            "text/plain": [
              "(168, 19)"
            ]
          },
          "metadata": {},
          "execution_count": 66
        }
      ]
    },
    {
      "cell_type": "code",
      "source": [
        "X=train_clean.drop(['consumption'],axis=1)\n",
        "X['train']=1\n",
        "test_clean['train']=0\n",
        "train_test=pd.concat([X,test_clean])"
      ],
      "metadata": {
        "id": "v0ei2SXc0qQS"
      },
      "execution_count": null,
      "outputs": []
    },
    {
      "cell_type": "code",
      "source": [
        "train_test=pd.get_dummies(train_test)"
      ],
      "metadata": {
        "id": "s4hxSin92fX8"
      },
      "execution_count": null,
      "outputs": []
    },
    {
      "cell_type": "code",
      "source": [
        "train_test.head()"
      ],
      "metadata": {
        "colab": {
          "base_uri": "https://localhost:8080/",
          "height": 268
        },
        "id": "RsR9vQ5m2rdG",
        "outputId": "9054fbec-5941-4c28-d15a-4372dcffb679"
      },
      "execution_count": null,
      "outputs": [
        {
          "output_type": "execute_result",
          "data": {
            "text/plain": [
              "   temp  dwpt  rhum  prcp  snow   wdir  wspd  wpgt    pres  coco  el_price  \\\n",
              "0  11.2  10.3  94.0   0.0   0.0  320.0   7.2  16.7  1012.6   2.0   0.09016   \n",
              "1  10.7   9.6  93.0   0.0   0.0  320.0   7.2  13.0  1012.6   2.0   0.09251   \n",
              "2   9.9   9.0  94.0   0.0   0.0  320.0   7.2  13.0  1012.2   2.0   0.08890   \n",
              "3  10.0   8.4  90.0   0.0   0.0  330.0   7.2  13.0  1011.9   1.0   0.08735   \n",
              "4   9.0   8.1  94.0   0.0   0.0  300.0   3.6  13.0  1011.4   2.0   0.08688   \n",
              "\n",
              "   year  month  day  weekday  hour  is_holiday  google_trends_electricity  \\\n",
              "0  2021      9    1        2     0       False                          5   \n",
              "1  2021      9    1        2     1       False                          5   \n",
              "2  2021      9    1        2     2       False                          5   \n",
              "3  2021      9    1        2     3       False                          5   \n",
              "4  2021      9    1        2     4       False                          5   \n",
              "\n",
              "   train  season_Autumn  season_Spring  season_Summer  season_Winter  \n",
              "0      1              1              0              0              0  \n",
              "1      1              1              0              0              0  \n",
              "2      1              1              0              0              0  \n",
              "3      1              1              0              0              0  \n",
              "4      1              1              0              0              0  "
            ],
            "text/html": [
              "\n",
              "  <div id=\"df-e4cccbf9-bade-4cae-b75e-e8ef59b5830b\">\n",
              "    <div class=\"colab-df-container\">\n",
              "      <div>\n",
              "<style scoped>\n",
              "    .dataframe tbody tr th:only-of-type {\n",
              "        vertical-align: middle;\n",
              "    }\n",
              "\n",
              "    .dataframe tbody tr th {\n",
              "        vertical-align: top;\n",
              "    }\n",
              "\n",
              "    .dataframe thead th {\n",
              "        text-align: right;\n",
              "    }\n",
              "</style>\n",
              "<table border=\"1\" class=\"dataframe\">\n",
              "  <thead>\n",
              "    <tr style=\"text-align: right;\">\n",
              "      <th></th>\n",
              "      <th>temp</th>\n",
              "      <th>dwpt</th>\n",
              "      <th>rhum</th>\n",
              "      <th>prcp</th>\n",
              "      <th>snow</th>\n",
              "      <th>wdir</th>\n",
              "      <th>wspd</th>\n",
              "      <th>wpgt</th>\n",
              "      <th>pres</th>\n",
              "      <th>coco</th>\n",
              "      <th>el_price</th>\n",
              "      <th>year</th>\n",
              "      <th>month</th>\n",
              "      <th>day</th>\n",
              "      <th>weekday</th>\n",
              "      <th>hour</th>\n",
              "      <th>is_holiday</th>\n",
              "      <th>google_trends_electricity</th>\n",
              "      <th>train</th>\n",
              "      <th>season_Autumn</th>\n",
              "      <th>season_Spring</th>\n",
              "      <th>season_Summer</th>\n",
              "      <th>season_Winter</th>\n",
              "    </tr>\n",
              "  </thead>\n",
              "  <tbody>\n",
              "    <tr>\n",
              "      <th>0</th>\n",
              "      <td>11.2</td>\n",
              "      <td>10.3</td>\n",
              "      <td>94.0</td>\n",
              "      <td>0.0</td>\n",
              "      <td>0.0</td>\n",
              "      <td>320.0</td>\n",
              "      <td>7.2</td>\n",
              "      <td>16.7</td>\n",
              "      <td>1012.6</td>\n",
              "      <td>2.0</td>\n",
              "      <td>0.09016</td>\n",
              "      <td>2021</td>\n",
              "      <td>9</td>\n",
              "      <td>1</td>\n",
              "      <td>2</td>\n",
              "      <td>0</td>\n",
              "      <td>False</td>\n",
              "      <td>5</td>\n",
              "      <td>1</td>\n",
              "      <td>1</td>\n",
              "      <td>0</td>\n",
              "      <td>0</td>\n",
              "      <td>0</td>\n",
              "    </tr>\n",
              "    <tr>\n",
              "      <th>1</th>\n",
              "      <td>10.7</td>\n",
              "      <td>9.6</td>\n",
              "      <td>93.0</td>\n",
              "      <td>0.0</td>\n",
              "      <td>0.0</td>\n",
              "      <td>320.0</td>\n",
              "      <td>7.2</td>\n",
              "      <td>13.0</td>\n",
              "      <td>1012.6</td>\n",
              "      <td>2.0</td>\n",
              "      <td>0.09251</td>\n",
              "      <td>2021</td>\n",
              "      <td>9</td>\n",
              "      <td>1</td>\n",
              "      <td>2</td>\n",
              "      <td>1</td>\n",
              "      <td>False</td>\n",
              "      <td>5</td>\n",
              "      <td>1</td>\n",
              "      <td>1</td>\n",
              "      <td>0</td>\n",
              "      <td>0</td>\n",
              "      <td>0</td>\n",
              "    </tr>\n",
              "    <tr>\n",
              "      <th>2</th>\n",
              "      <td>9.9</td>\n",
              "      <td>9.0</td>\n",
              "      <td>94.0</td>\n",
              "      <td>0.0</td>\n",
              "      <td>0.0</td>\n",
              "      <td>320.0</td>\n",
              "      <td>7.2</td>\n",
              "      <td>13.0</td>\n",
              "      <td>1012.2</td>\n",
              "      <td>2.0</td>\n",
              "      <td>0.08890</td>\n",
              "      <td>2021</td>\n",
              "      <td>9</td>\n",
              "      <td>1</td>\n",
              "      <td>2</td>\n",
              "      <td>2</td>\n",
              "      <td>False</td>\n",
              "      <td>5</td>\n",
              "      <td>1</td>\n",
              "      <td>1</td>\n",
              "      <td>0</td>\n",
              "      <td>0</td>\n",
              "      <td>0</td>\n",
              "    </tr>\n",
              "    <tr>\n",
              "      <th>3</th>\n",
              "      <td>10.0</td>\n",
              "      <td>8.4</td>\n",
              "      <td>90.0</td>\n",
              "      <td>0.0</td>\n",
              "      <td>0.0</td>\n",
              "      <td>330.0</td>\n",
              "      <td>7.2</td>\n",
              "      <td>13.0</td>\n",
              "      <td>1011.9</td>\n",
              "      <td>1.0</td>\n",
              "      <td>0.08735</td>\n",
              "      <td>2021</td>\n",
              "      <td>9</td>\n",
              "      <td>1</td>\n",
              "      <td>2</td>\n",
              "      <td>3</td>\n",
              "      <td>False</td>\n",
              "      <td>5</td>\n",
              "      <td>1</td>\n",
              "      <td>1</td>\n",
              "      <td>0</td>\n",
              "      <td>0</td>\n",
              "      <td>0</td>\n",
              "    </tr>\n",
              "    <tr>\n",
              "      <th>4</th>\n",
              "      <td>9.0</td>\n",
              "      <td>8.1</td>\n",
              "      <td>94.0</td>\n",
              "      <td>0.0</td>\n",
              "      <td>0.0</td>\n",
              "      <td>300.0</td>\n",
              "      <td>3.6</td>\n",
              "      <td>13.0</td>\n",
              "      <td>1011.4</td>\n",
              "      <td>2.0</td>\n",
              "      <td>0.08688</td>\n",
              "      <td>2021</td>\n",
              "      <td>9</td>\n",
              "      <td>1</td>\n",
              "      <td>2</td>\n",
              "      <td>4</td>\n",
              "      <td>False</td>\n",
              "      <td>5</td>\n",
              "      <td>1</td>\n",
              "      <td>1</td>\n",
              "      <td>0</td>\n",
              "      <td>0</td>\n",
              "      <td>0</td>\n",
              "    </tr>\n",
              "  </tbody>\n",
              "</table>\n",
              "</div>\n",
              "      <button class=\"colab-df-convert\" onclick=\"convertToInteractive('df-e4cccbf9-bade-4cae-b75e-e8ef59b5830b')\"\n",
              "              title=\"Convert this dataframe to an interactive table.\"\n",
              "              style=\"display:none;\">\n",
              "        \n",
              "  <svg xmlns=\"http://www.w3.org/2000/svg\" height=\"24px\"viewBox=\"0 0 24 24\"\n",
              "       width=\"24px\">\n",
              "    <path d=\"M0 0h24v24H0V0z\" fill=\"none\"/>\n",
              "    <path d=\"M18.56 5.44l.94 2.06.94-2.06 2.06-.94-2.06-.94-.94-2.06-.94 2.06-2.06.94zm-11 1L8.5 8.5l.94-2.06 2.06-.94-2.06-.94L8.5 2.5l-.94 2.06-2.06.94zm10 10l.94 2.06.94-2.06 2.06-.94-2.06-.94-.94-2.06-.94 2.06-2.06.94z\"/><path d=\"M17.41 7.96l-1.37-1.37c-.4-.4-.92-.59-1.43-.59-.52 0-1.04.2-1.43.59L10.3 9.45l-7.72 7.72c-.78.78-.78 2.05 0 2.83L4 21.41c.39.39.9.59 1.41.59.51 0 1.02-.2 1.41-.59l7.78-7.78 2.81-2.81c.8-.78.8-2.07 0-2.86zM5.41 20L4 18.59l7.72-7.72 1.47 1.35L5.41 20z\"/>\n",
              "  </svg>\n",
              "      </button>\n",
              "      \n",
              "  <style>\n",
              "    .colab-df-container {\n",
              "      display:flex;\n",
              "      flex-wrap:wrap;\n",
              "      gap: 12px;\n",
              "    }\n",
              "\n",
              "    .colab-df-convert {\n",
              "      background-color: #E8F0FE;\n",
              "      border: none;\n",
              "      border-radius: 50%;\n",
              "      cursor: pointer;\n",
              "      display: none;\n",
              "      fill: #1967D2;\n",
              "      height: 32px;\n",
              "      padding: 0 0 0 0;\n",
              "      width: 32px;\n",
              "    }\n",
              "\n",
              "    .colab-df-convert:hover {\n",
              "      background-color: #E2EBFA;\n",
              "      box-shadow: 0px 1px 2px rgba(60, 64, 67, 0.3), 0px 1px 3px 1px rgba(60, 64, 67, 0.15);\n",
              "      fill: #174EA6;\n",
              "    }\n",
              "\n",
              "    [theme=dark] .colab-df-convert {\n",
              "      background-color: #3B4455;\n",
              "      fill: #D2E3FC;\n",
              "    }\n",
              "\n",
              "    [theme=dark] .colab-df-convert:hover {\n",
              "      background-color: #434B5C;\n",
              "      box-shadow: 0px 1px 3px 1px rgba(0, 0, 0, 0.15);\n",
              "      filter: drop-shadow(0px 1px 2px rgba(0, 0, 0, 0.3));\n",
              "      fill: #FFFFFF;\n",
              "    }\n",
              "  </style>\n",
              "\n",
              "      <script>\n",
              "        const buttonEl =\n",
              "          document.querySelector('#df-e4cccbf9-bade-4cae-b75e-e8ef59b5830b button.colab-df-convert');\n",
              "        buttonEl.style.display =\n",
              "          google.colab.kernel.accessAllowed ? 'block' : 'none';\n",
              "\n",
              "        async function convertToInteractive(key) {\n",
              "          const element = document.querySelector('#df-e4cccbf9-bade-4cae-b75e-e8ef59b5830b');\n",
              "          const dataTable =\n",
              "            await google.colab.kernel.invokeFunction('convertToInteractive',\n",
              "                                                     [key], {});\n",
              "          if (!dataTable) return;\n",
              "\n",
              "          const docLinkHtml = 'Like what you see? Visit the ' +\n",
              "            '<a target=\"_blank\" href=https://colab.research.google.com/notebooks/data_table.ipynb>data table notebook</a>'\n",
              "            + ' to learn more about interactive tables.';\n",
              "          element.innerHTML = '';\n",
              "          dataTable['output_type'] = 'display_data';\n",
              "          await google.colab.output.renderOutput(dataTable, element);\n",
              "          const docLink = document.createElement('div');\n",
              "          docLink.innerHTML = docLinkHtml;\n",
              "          element.appendChild(docLink);\n",
              "        }\n",
              "      </script>\n",
              "    </div>\n",
              "  </div>\n",
              "  "
            ]
          },
          "metadata": {},
          "execution_count": 69
        }
      ]
    },
    {
      "cell_type": "code",
      "source": [
        "train_test[\"is_holiday\"] = train_test[\"is_holiday\"].astype(int)"
      ],
      "metadata": {
        "id": "v_8ckN8R4pa2"
      },
      "execution_count": null,
      "outputs": []
    },
    {
      "cell_type": "code",
      "source": [
        "train_test_norm=(train_test-train_test.min())/(train_test.max()-train_test.min())"
      ],
      "metadata": {
        "id": "6NGjL77F4KZL"
      },
      "execution_count": null,
      "outputs": []
    },
    {
      "cell_type": "code",
      "source": [
        "train_test_norm.describe()"
      ],
      "metadata": {
        "colab": {
          "base_uri": "https://localhost:8080/",
          "height": 361
        },
        "id": "j_AzCjUt3fnQ",
        "outputId": "2d3a0ce0-2edb-4e51-de99-81b67744a2dc"
      },
      "execution_count": null,
      "outputs": [
        {
          "output_type": "execute_result",
          "data": {
            "text/plain": [
              "              temp         dwpt         rhum         prcp         snow  \\\n",
              "count  8760.000000  8760.000000  8760.000000  8760.000000  8760.000000   \n",
              "mean      0.575026     0.633145     0.712915     0.002455     0.004836   \n",
              "std       0.162253     0.166682     0.218779     0.031798     0.052988   \n",
              "min       0.000000     0.000000     0.000000     0.000000     0.000000   \n",
              "25%       0.462609     0.520161     0.575000     0.000000     0.000000   \n",
              "50%       0.566957     0.620968     0.787500     0.000000     0.000000   \n",
              "75%       0.692174     0.768145     0.887500     0.000000     0.000000   \n",
              "max       1.000000     1.000000     1.000000     1.000000     1.000000   \n",
              "\n",
              "              wdir         wspd         wpgt         pres         coco  \\\n",
              "count  8760.000000  8760.000000  8760.000000  8760.000000  8760.000000   \n",
              "mean      0.558018     0.288714     0.297010     0.597020     0.191689   \n",
              "std       0.246342     0.152588     0.165456     0.147128     0.198909   \n",
              "min       0.000000     0.000000     0.000000     0.000000     0.000000   \n",
              "25%       0.388889     0.227129     0.168053     0.519435     0.080000   \n",
              "50%       0.583333     0.227129     0.259567     0.614252     0.120000   \n",
              "75%       0.750000     0.340694     0.414309     0.684335     0.200000   \n",
              "max       1.000000     1.000000     1.000000     1.000000     1.000000   \n",
              "\n",
              "          el_price         year        month          day      weekday  \\\n",
              "count  8760.000000  8760.000000  8760.000000  8760.000000  8760.000000   \n",
              "mean      0.041149     0.665639     0.502439     0.490700     0.499543   \n",
              "std       0.031501     0.471793     0.313458     0.293248     0.333009   \n",
              "min       0.000000     0.000000     0.000000     0.000000     0.000000   \n",
              "25%       0.023265     0.000000     0.272727     0.233333     0.166667   \n",
              "50%       0.034519     1.000000     0.545455     0.500000     0.500000   \n",
              "75%       0.050003     1.000000     0.818182     0.733333     0.833333   \n",
              "max       1.000000     1.000000     1.000000     1.000000     1.000000   \n",
              "\n",
              "              hour   is_holiday  google_trends_electricity        train  \\\n",
              "count  8760.000000  8760.000000                8760.000000  8760.000000   \n",
              "mean      0.500000     0.032877                   0.369488     0.980822   \n",
              "std       0.300982     0.178324                   0.192332     0.137158   \n",
              "min       0.000000     0.000000                   0.000000     0.000000   \n",
              "25%       0.250000     0.000000                   0.273684     1.000000   \n",
              "50%       0.500000     0.000000                   0.305263     1.000000   \n",
              "75%       0.750000     0.000000                   0.452632     1.000000   \n",
              "max       1.000000     1.000000                   1.000000     1.000000   \n",
              "\n",
              "       season_Autumn  season_Spring  season_Summer  season_Winter  \n",
              "count    8760.000000    8760.000000    8760.000000    8760.000000  \n",
              "mean        0.249429       0.251941       0.252055       0.246575  \n",
              "std         0.432707       0.434152       0.434217       0.431042  \n",
              "min         0.000000       0.000000       0.000000       0.000000  \n",
              "25%         0.000000       0.000000       0.000000       0.000000  \n",
              "50%         0.000000       0.000000       0.000000       0.000000  \n",
              "75%         0.000000       1.000000       1.000000       0.000000  \n",
              "max         1.000000       1.000000       1.000000       1.000000  "
            ],
            "text/html": [
              "\n",
              "  <div id=\"df-871f6feb-8604-4f3f-ba4d-b62e164d9229\">\n",
              "    <div class=\"colab-df-container\">\n",
              "      <div>\n",
              "<style scoped>\n",
              "    .dataframe tbody tr th:only-of-type {\n",
              "        vertical-align: middle;\n",
              "    }\n",
              "\n",
              "    .dataframe tbody tr th {\n",
              "        vertical-align: top;\n",
              "    }\n",
              "\n",
              "    .dataframe thead th {\n",
              "        text-align: right;\n",
              "    }\n",
              "</style>\n",
              "<table border=\"1\" class=\"dataframe\">\n",
              "  <thead>\n",
              "    <tr style=\"text-align: right;\">\n",
              "      <th></th>\n",
              "      <th>temp</th>\n",
              "      <th>dwpt</th>\n",
              "      <th>rhum</th>\n",
              "      <th>prcp</th>\n",
              "      <th>snow</th>\n",
              "      <th>wdir</th>\n",
              "      <th>wspd</th>\n",
              "      <th>wpgt</th>\n",
              "      <th>pres</th>\n",
              "      <th>coco</th>\n",
              "      <th>el_price</th>\n",
              "      <th>year</th>\n",
              "      <th>month</th>\n",
              "      <th>day</th>\n",
              "      <th>weekday</th>\n",
              "      <th>hour</th>\n",
              "      <th>is_holiday</th>\n",
              "      <th>google_trends_electricity</th>\n",
              "      <th>train</th>\n",
              "      <th>season_Autumn</th>\n",
              "      <th>season_Spring</th>\n",
              "      <th>season_Summer</th>\n",
              "      <th>season_Winter</th>\n",
              "    </tr>\n",
              "  </thead>\n",
              "  <tbody>\n",
              "    <tr>\n",
              "      <th>count</th>\n",
              "      <td>8760.000000</td>\n",
              "      <td>8760.000000</td>\n",
              "      <td>8760.000000</td>\n",
              "      <td>8760.000000</td>\n",
              "      <td>8760.000000</td>\n",
              "      <td>8760.000000</td>\n",
              "      <td>8760.000000</td>\n",
              "      <td>8760.000000</td>\n",
              "      <td>8760.000000</td>\n",
              "      <td>8760.000000</td>\n",
              "      <td>8760.000000</td>\n",
              "      <td>8760.000000</td>\n",
              "      <td>8760.000000</td>\n",
              "      <td>8760.000000</td>\n",
              "      <td>8760.000000</td>\n",
              "      <td>8760.000000</td>\n",
              "      <td>8760.000000</td>\n",
              "      <td>8760.000000</td>\n",
              "      <td>8760.000000</td>\n",
              "      <td>8760.000000</td>\n",
              "      <td>8760.000000</td>\n",
              "      <td>8760.000000</td>\n",
              "      <td>8760.000000</td>\n",
              "    </tr>\n",
              "    <tr>\n",
              "      <th>mean</th>\n",
              "      <td>0.575026</td>\n",
              "      <td>0.633145</td>\n",
              "      <td>0.712915</td>\n",
              "      <td>0.002455</td>\n",
              "      <td>0.004836</td>\n",
              "      <td>0.558018</td>\n",
              "      <td>0.288714</td>\n",
              "      <td>0.297010</td>\n",
              "      <td>0.597020</td>\n",
              "      <td>0.191689</td>\n",
              "      <td>0.041149</td>\n",
              "      <td>0.665639</td>\n",
              "      <td>0.502439</td>\n",
              "      <td>0.490700</td>\n",
              "      <td>0.499543</td>\n",
              "      <td>0.500000</td>\n",
              "      <td>0.032877</td>\n",
              "      <td>0.369488</td>\n",
              "      <td>0.980822</td>\n",
              "      <td>0.249429</td>\n",
              "      <td>0.251941</td>\n",
              "      <td>0.252055</td>\n",
              "      <td>0.246575</td>\n",
              "    </tr>\n",
              "    <tr>\n",
              "      <th>std</th>\n",
              "      <td>0.162253</td>\n",
              "      <td>0.166682</td>\n",
              "      <td>0.218779</td>\n",
              "      <td>0.031798</td>\n",
              "      <td>0.052988</td>\n",
              "      <td>0.246342</td>\n",
              "      <td>0.152588</td>\n",
              "      <td>0.165456</td>\n",
              "      <td>0.147128</td>\n",
              "      <td>0.198909</td>\n",
              "      <td>0.031501</td>\n",
              "      <td>0.471793</td>\n",
              "      <td>0.313458</td>\n",
              "      <td>0.293248</td>\n",
              "      <td>0.333009</td>\n",
              "      <td>0.300982</td>\n",
              "      <td>0.178324</td>\n",
              "      <td>0.192332</td>\n",
              "      <td>0.137158</td>\n",
              "      <td>0.432707</td>\n",
              "      <td>0.434152</td>\n",
              "      <td>0.434217</td>\n",
              "      <td>0.431042</td>\n",
              "    </tr>\n",
              "    <tr>\n",
              "      <th>min</th>\n",
              "      <td>0.000000</td>\n",
              "      <td>0.000000</td>\n",
              "      <td>0.000000</td>\n",
              "      <td>0.000000</td>\n",
              "      <td>0.000000</td>\n",
              "      <td>0.000000</td>\n",
              "      <td>0.000000</td>\n",
              "      <td>0.000000</td>\n",
              "      <td>0.000000</td>\n",
              "      <td>0.000000</td>\n",
              "      <td>0.000000</td>\n",
              "      <td>0.000000</td>\n",
              "      <td>0.000000</td>\n",
              "      <td>0.000000</td>\n",
              "      <td>0.000000</td>\n",
              "      <td>0.000000</td>\n",
              "      <td>0.000000</td>\n",
              "      <td>0.000000</td>\n",
              "      <td>0.000000</td>\n",
              "      <td>0.000000</td>\n",
              "      <td>0.000000</td>\n",
              "      <td>0.000000</td>\n",
              "      <td>0.000000</td>\n",
              "    </tr>\n",
              "    <tr>\n",
              "      <th>25%</th>\n",
              "      <td>0.462609</td>\n",
              "      <td>0.520161</td>\n",
              "      <td>0.575000</td>\n",
              "      <td>0.000000</td>\n",
              "      <td>0.000000</td>\n",
              "      <td>0.388889</td>\n",
              "      <td>0.227129</td>\n",
              "      <td>0.168053</td>\n",
              "      <td>0.519435</td>\n",
              "      <td>0.080000</td>\n",
              "      <td>0.023265</td>\n",
              "      <td>0.000000</td>\n",
              "      <td>0.272727</td>\n",
              "      <td>0.233333</td>\n",
              "      <td>0.166667</td>\n",
              "      <td>0.250000</td>\n",
              "      <td>0.000000</td>\n",
              "      <td>0.273684</td>\n",
              "      <td>1.000000</td>\n",
              "      <td>0.000000</td>\n",
              "      <td>0.000000</td>\n",
              "      <td>0.000000</td>\n",
              "      <td>0.000000</td>\n",
              "    </tr>\n",
              "    <tr>\n",
              "      <th>50%</th>\n",
              "      <td>0.566957</td>\n",
              "      <td>0.620968</td>\n",
              "      <td>0.787500</td>\n",
              "      <td>0.000000</td>\n",
              "      <td>0.000000</td>\n",
              "      <td>0.583333</td>\n",
              "      <td>0.227129</td>\n",
              "      <td>0.259567</td>\n",
              "      <td>0.614252</td>\n",
              "      <td>0.120000</td>\n",
              "      <td>0.034519</td>\n",
              "      <td>1.000000</td>\n",
              "      <td>0.545455</td>\n",
              "      <td>0.500000</td>\n",
              "      <td>0.500000</td>\n",
              "      <td>0.500000</td>\n",
              "      <td>0.000000</td>\n",
              "      <td>0.305263</td>\n",
              "      <td>1.000000</td>\n",
              "      <td>0.000000</td>\n",
              "      <td>0.000000</td>\n",
              "      <td>0.000000</td>\n",
              "      <td>0.000000</td>\n",
              "    </tr>\n",
              "    <tr>\n",
              "      <th>75%</th>\n",
              "      <td>0.692174</td>\n",
              "      <td>0.768145</td>\n",
              "      <td>0.887500</td>\n",
              "      <td>0.000000</td>\n",
              "      <td>0.000000</td>\n",
              "      <td>0.750000</td>\n",
              "      <td>0.340694</td>\n",
              "      <td>0.414309</td>\n",
              "      <td>0.684335</td>\n",
              "      <td>0.200000</td>\n",
              "      <td>0.050003</td>\n",
              "      <td>1.000000</td>\n",
              "      <td>0.818182</td>\n",
              "      <td>0.733333</td>\n",
              "      <td>0.833333</td>\n",
              "      <td>0.750000</td>\n",
              "      <td>0.000000</td>\n",
              "      <td>0.452632</td>\n",
              "      <td>1.000000</td>\n",
              "      <td>0.000000</td>\n",
              "      <td>1.000000</td>\n",
              "      <td>1.000000</td>\n",
              "      <td>0.000000</td>\n",
              "    </tr>\n",
              "    <tr>\n",
              "      <th>max</th>\n",
              "      <td>1.000000</td>\n",
              "      <td>1.000000</td>\n",
              "      <td>1.000000</td>\n",
              "      <td>1.000000</td>\n",
              "      <td>1.000000</td>\n",
              "      <td>1.000000</td>\n",
              "      <td>1.000000</td>\n",
              "      <td>1.000000</td>\n",
              "      <td>1.000000</td>\n",
              "      <td>1.000000</td>\n",
              "      <td>1.000000</td>\n",
              "      <td>1.000000</td>\n",
              "      <td>1.000000</td>\n",
              "      <td>1.000000</td>\n",
              "      <td>1.000000</td>\n",
              "      <td>1.000000</td>\n",
              "      <td>1.000000</td>\n",
              "      <td>1.000000</td>\n",
              "      <td>1.000000</td>\n",
              "      <td>1.000000</td>\n",
              "      <td>1.000000</td>\n",
              "      <td>1.000000</td>\n",
              "      <td>1.000000</td>\n",
              "    </tr>\n",
              "  </tbody>\n",
              "</table>\n",
              "</div>\n",
              "      <button class=\"colab-df-convert\" onclick=\"convertToInteractive('df-871f6feb-8604-4f3f-ba4d-b62e164d9229')\"\n",
              "              title=\"Convert this dataframe to an interactive table.\"\n",
              "              style=\"display:none;\">\n",
              "        \n",
              "  <svg xmlns=\"http://www.w3.org/2000/svg\" height=\"24px\"viewBox=\"0 0 24 24\"\n",
              "       width=\"24px\">\n",
              "    <path d=\"M0 0h24v24H0V0z\" fill=\"none\"/>\n",
              "    <path d=\"M18.56 5.44l.94 2.06.94-2.06 2.06-.94-2.06-.94-.94-2.06-.94 2.06-2.06.94zm-11 1L8.5 8.5l.94-2.06 2.06-.94-2.06-.94L8.5 2.5l-.94 2.06-2.06.94zm10 10l.94 2.06.94-2.06 2.06-.94-2.06-.94-.94-2.06-.94 2.06-2.06.94z\"/><path d=\"M17.41 7.96l-1.37-1.37c-.4-.4-.92-.59-1.43-.59-.52 0-1.04.2-1.43.59L10.3 9.45l-7.72 7.72c-.78.78-.78 2.05 0 2.83L4 21.41c.39.39.9.59 1.41.59.51 0 1.02-.2 1.41-.59l7.78-7.78 2.81-2.81c.8-.78.8-2.07 0-2.86zM5.41 20L4 18.59l7.72-7.72 1.47 1.35L5.41 20z\"/>\n",
              "  </svg>\n",
              "      </button>\n",
              "      \n",
              "  <style>\n",
              "    .colab-df-container {\n",
              "      display:flex;\n",
              "      flex-wrap:wrap;\n",
              "      gap: 12px;\n",
              "    }\n",
              "\n",
              "    .colab-df-convert {\n",
              "      background-color: #E8F0FE;\n",
              "      border: none;\n",
              "      border-radius: 50%;\n",
              "      cursor: pointer;\n",
              "      display: none;\n",
              "      fill: #1967D2;\n",
              "      height: 32px;\n",
              "      padding: 0 0 0 0;\n",
              "      width: 32px;\n",
              "    }\n",
              "\n",
              "    .colab-df-convert:hover {\n",
              "      background-color: #E2EBFA;\n",
              "      box-shadow: 0px 1px 2px rgba(60, 64, 67, 0.3), 0px 1px 3px 1px rgba(60, 64, 67, 0.15);\n",
              "      fill: #174EA6;\n",
              "    }\n",
              "\n",
              "    [theme=dark] .colab-df-convert {\n",
              "      background-color: #3B4455;\n",
              "      fill: #D2E3FC;\n",
              "    }\n",
              "\n",
              "    [theme=dark] .colab-df-convert:hover {\n",
              "      background-color: #434B5C;\n",
              "      box-shadow: 0px 1px 3px 1px rgba(0, 0, 0, 0.15);\n",
              "      filter: drop-shadow(0px 1px 2px rgba(0, 0, 0, 0.3));\n",
              "      fill: #FFFFFF;\n",
              "    }\n",
              "  </style>\n",
              "\n",
              "      <script>\n",
              "        const buttonEl =\n",
              "          document.querySelector('#df-871f6feb-8604-4f3f-ba4d-b62e164d9229 button.colab-df-convert');\n",
              "        buttonEl.style.display =\n",
              "          google.colab.kernel.accessAllowed ? 'block' : 'none';\n",
              "\n",
              "        async function convertToInteractive(key) {\n",
              "          const element = document.querySelector('#df-871f6feb-8604-4f3f-ba4d-b62e164d9229');\n",
              "          const dataTable =\n",
              "            await google.colab.kernel.invokeFunction('convertToInteractive',\n",
              "                                                     [key], {});\n",
              "          if (!dataTable) return;\n",
              "\n",
              "          const docLinkHtml = 'Like what you see? Visit the ' +\n",
              "            '<a target=\"_blank\" href=https://colab.research.google.com/notebooks/data_table.ipynb>data table notebook</a>'\n",
              "            + ' to learn more about interactive tables.';\n",
              "          element.innerHTML = '';\n",
              "          dataTable['output_type'] = 'display_data';\n",
              "          await google.colab.output.renderOutput(dataTable, element);\n",
              "          const docLink = document.createElement('div');\n",
              "          docLink.innerHTML = docLinkHtml;\n",
              "          element.appendChild(docLink);\n",
              "        }\n",
              "      </script>\n",
              "    </div>\n",
              "  </div>\n",
              "  "
            ]
          },
          "metadata": {},
          "execution_count": 72
        }
      ]
    },
    {
      "cell_type": "code",
      "source": [
        "train_df=train_test[train_test['train']==1]\n",
        "test_df=train_test[train_test['train']==0]\n",
        "train_df=train_df.drop(['train'],axis=1)\n",
        "test_df=test_df.drop(['train'],axis=1)"
      ],
      "metadata": {
        "id": "RXkGd6wd5Coq"
      },
      "execution_count": null,
      "outputs": []
    },
    {
      "cell_type": "code",
      "source": [
        "train_df2 = pd.concat([train_df,train_clean['consumption']], axis=1)"
      ],
      "metadata": {
        "id": "fE8Zsyt35Zvs"
      },
      "execution_count": null,
      "outputs": []
    },
    {
      "cell_type": "code",
      "source": [
        "train_df2.shape"
      ],
      "metadata": {
        "colab": {
          "base_uri": "https://localhost:8080/"
        },
        "id": "w3o_18sX5kox",
        "outputId": "ebefe5c2-722e-4977-b2a9-5ab1f3d9dca1"
      },
      "execution_count": null,
      "outputs": [
        {
          "output_type": "execute_result",
          "data": {
            "text/plain": [
              "(8592, 23)"
            ]
          },
          "metadata": {},
          "execution_count": 75
        }
      ]
    },
    {
      "cell_type": "code",
      "source": [
        "test_df.shape"
      ],
      "metadata": {
        "colab": {
          "base_uri": "https://localhost:8080/"
        },
        "id": "Lv0DPZym5wMl",
        "outputId": "0a46f10b-3301-4c43-b50e-f84a4c4b4230"
      },
      "execution_count": null,
      "outputs": [
        {
          "output_type": "execute_result",
          "data": {
            "text/plain": [
              "(168, 22)"
            ]
          },
          "metadata": {},
          "execution_count": 76
        }
      ]
    },
    {
      "cell_type": "code",
      "source": [
        "import matplotlib.pyplot as plt\n",
        "import matplotlib.cm as cm\n",
        "\n",
        "#Get Correlation of \"Attrition\" with other variables:\n",
        "plt.figure(figsize=(15,8))\n",
        "plt.style.use('ggplot')\n",
        "\n",
        "# Get a color map\n",
        "my_cmap = cm.get_cmap('Accent')\n",
        "\n",
        "train_df2.corr()['consumption'].sort_values(ascending = False).plot(kind='bar', cmap=my_cmap)\n",
        "\n",
        "# set titles for figure, x, y\n",
        "plt.title('Atribuutide korrelatsioon tarbimisega',fontsize=20)\n",
        "plt.xlabel('Attribuut', fontsize=20)\n",
        "plt.ylabel('Korrelatsioon',fontsize=20)\n",
        "\n",
        "plt.xticks(fontsize = 10) \n",
        "plt.yticks(fontsize = 20) \n",
        "plt.grid(True)\n",
        "plt.show() "
      ],
      "metadata": {
        "colab": {
          "base_uri": "https://localhost:8080/",
          "height": 642
        },
        "id": "zMlgme4N6g_y",
        "outputId": "158d1484-139b-4460-b542-1b8b8c75ec15"
      },
      "execution_count": null,
      "outputs": [
        {
          "output_type": "display_data",
          "data": {
            "text/plain": [
              "<Figure size 1080x576 with 1 Axes>"
            ],
            "image/png": "[encoded data removed]"
          },
          "metadata": {}
        }
      ]
    },
    {
      "cell_type": "code",
      "source": [
        "from sklearn.model_selection import train_test_split\n",
        "from sklearn.metrics import mean_absolute_error\n",
        "\n",
        "y_all=train_df2['consumption']\n",
        "X_all=train_df2.drop(['consumption'],axis=1)\n",
        "train_X, val_X, train_y, val_y = train_test_split(X_all, y_all,random_state=0, test_size = 0.20)"
      ],
      "metadata": {
        "id": "ZF-bd87A8OGr"
      },
      "execution_count": null,
      "outputs": []
    },
    {
      "cell_type": "code",
      "source": [
        "from sklearn.linear_model import LinearRegression\n",
        "model_lr = LinearRegression()\n",
        "model_lr.fit(train_X, train_y)\n",
        "val_predictions_lr = model_lr.predict(val_X)"
      ],
      "metadata": {
        "id": "Zph-Vudb9g3g"
      },
      "execution_count": null,
      "outputs": []
    },
    {
      "cell_type": "code",
      "source": [
        "mean_absolute_error(val_y, val_predictions_lr)"
      ],
      "metadata": {
        "colab": {
          "base_uri": "https://localhost:8080/"
        },
        "id": "RpWxd46G-B7Y",
        "outputId": "a3dcbc7a-1e6c-4e02-acbd-897276cda734"
      },
      "execution_count": null,
      "outputs": [
        {
          "output_type": "execute_result",
          "data": {
            "text/plain": [
              "0.6040714330090984"
            ]
          },
          "metadata": {},
          "execution_count": 83
        }
      ]
    },
    {
      "cell_type": "code",
      "source": [
        "from sklearn.model_selection import KFold\n",
        "\n",
        "model_lr = LinearRegression()\n",
        "\n",
        "n_folds = 4 # we choose 4 folds\n",
        "fold_MAEs = np.zeros(n_folds)\n",
        "\n",
        "y = np.array(train_df2['consumption'])\n",
        "X = np.array(train_df2.drop(['consumption'], axis = 1))\n",
        "\n",
        "# initialise splitting mechanism\n",
        "folds = KFold(n_splits=n_folds, shuffle=True, random_state=0) # shuffle=True, random_state=0\n",
        "\n",
        "# here actual splitting is done\n",
        "folds.get_n_splits(X, y)\n",
        "\n",
        "fold_indx = 1\n",
        "\n",
        "# folds.split is an iterator that loops over different folds\n",
        "# returning a tuple with train and val indeces\n",
        "for train_index, val_index in folds.split(X, y):\n",
        "  #print(f\"CV #{fold_indx}\") # for computing \n",
        "  X_train, X_val = X[train_index], X[val_index]\n",
        "  y_train, y_val = y[train_index], y[val_index]\n",
        "\n",
        "  # train the model\n",
        "  model_lr.fit(X_train, y_train)\n",
        "\n",
        "  val_predictions = model_lr.predict(X_val)\n",
        "  fold_MAEs[fold_indx-1] = mean_absolute_error(y_val, val_predictions)\n",
        "\n",
        "  fold_indx += 1\n",
        "\n",
        "print(f'Average validation MAE is {np.mean(fold_MAEs)}') \n"
      ],
      "metadata": {
        "colab": {
          "base_uri": "https://localhost:8080/"
        },
        "id": "hp-7y3Gh-SHa",
        "outputId": "619f0c5b-fea7-466f-c7cb-b431c6a51668"
      },
      "execution_count": null,
      "outputs": [
        {
          "output_type": "stream",
          "name": "stdout",
          "text": [
            "Average validation MAE is 0.605294058088241\n"
          ]
        }
      ]
    },
    {
      "cell_type": "code",
      "source": [
        "model_lr = LinearRegression()\n",
        "model_lr.fit(X_all, y_all)"
      ],
      "metadata": {
        "colab": {
          "base_uri": "https://localhost:8080/"
        },
        "id": "XxbpN_TV_yog",
        "outputId": "59821f1c-f60a-4b16-e87e-b2c0680c841e"
      },
      "execution_count": null,
      "outputs": [
        {
          "output_type": "execute_result",
          "data": {
            "text/plain": [
              "LinearRegression()"
            ]
          },
          "metadata": {},
          "execution_count": 85
        }
      ]
    },
    {
      "cell_type": "code",
      "source": [
        "test_y_predictions_lr = model_lr.predict(test_df)"
      ],
      "metadata": {
        "id": "T4m_POgz_y3e"
      },
      "execution_count": null,
      "outputs": []
    },
    {
      "cell_type": "code",
      "source": [
        "submission_lr = pd.DataFrame(\n",
        "    {'time': test.time, 'consumption': test_y_predictions_lr},\n",
        "    columns = ['time', 'consumption'])\n",
        "submission_lr.to_csv('submission_lr.csv', index = False)"
      ],
      "metadata": {
        "id": "zZkIeyRK_zBo"
      },
      "execution_count": null,
      "outputs": []
    },
    {
      "cell_type": "markdown",
      "source": [
        "0.44184 Kaggle"
      ],
      "metadata": {
        "id": "qFCS4ve6COU4"
      }
    },
    {
      "cell_type": "code",
      "source": [],
      "metadata": {
        "id": "d7kmU92PBrdz"
      },
      "execution_count": null,
      "outputs": []
    }
  ]
}