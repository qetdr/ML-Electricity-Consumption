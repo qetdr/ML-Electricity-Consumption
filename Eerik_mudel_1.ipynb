{
 "cells": [
  {
   "cell_type": "markdown",
   "metadata": {
    "id": "btXdfrd9xJBd"
   },
   "source": [
    "# Elektri hinna ennustamine kasutades teeki `skforecast`\n",
    "\n",
    "[`skforecast`](https://joaquinamatrodrigo.github.io/skforecast/0.5.1/index.html)\n",
    "on `sklearn`'iga ühilduv lisa teek, aegridade ennustamieks."
   ]
  },
  {
   "cell_type": "markdown",
   "metadata": {
    "id": "hR31FYyiTe95"
   },
   "source": [
    "**Teegid**"
   ]
  },
  {
   "cell_type": "code",
   "execution_count": 33,
   "metadata": {},
   "outputs": [
    {
     "name": "stdout",
     "output_type": "stream",
     "text": [
      "Collecting skforecast\n",
      "  Downloading skforecast-0.5.1-py2.py3-none-any.whl (169 kB)\n",
      "\u001b[K     |████████████████████████████████| 169 kB 740 kB/s eta 0:00:01\n",
      "\u001b[?25hCollecting pandas<=1.4,>=1.2\n",
      "  Downloading pandas-1.4.0-cp38-cp38-manylinux_2_17_x86_64.manylinux2014_x86_64.whl (11.7 MB)\n",
      "\u001b[K     |████████████████████████████████| 11.7 MB 2.2 MB/s eta 0:00:01\n",
      "\u001b[?25hRequirement already satisfied: tqdm<=4.64,>=4.57.0 in /home/eeriksp/.local/lib/python3.8/site-packages (from skforecast) (4.61.1)\n",
      "Collecting scikit-learn<=1.1,>=1.0\n",
      "  Downloading scikit_learn-1.1.0-cp38-cp38-manylinux_2_17_x86_64.manylinux2014_x86_64.whl (31.0 MB)\n",
      "\u001b[K     |████████████████████████████████| 31.0 MB 1.7 MB/s eta 0:00:01\n",
      "\u001b[?25hCollecting statsmodels<=0.13,>=0.12\n",
      "  Downloading statsmodels-0.13.0-cp38-cp38-manylinux_2_17_x86_64.manylinux2014_x86_64.whl (9.9 MB)\n",
      "\u001b[K     |████████████████████████████████| 9.9 MB 737 kB/s eta 0:00:01\n",
      "\u001b[?25hCollecting matplotlib<=3.5,>=3.3\n",
      "  Downloading matplotlib-3.5.0-cp38-cp38-manylinux_2_5_x86_64.manylinux1_x86_64.whl (11.3 MB)\n",
      "\u001b[K     |████████████████████████████████| 11.3 MB 1.6 MB/s eta 0:00:01\n",
      "\u001b[?25hRequirement already satisfied: joblib<=1.2.0,>=1.1.0 in /home/eeriksp/.config/jupyterlab-desktop/jlab_server/lib/python3.8/site-packages (from skforecast) (1.2.0)\n",
      "Collecting optuna==2.10.0\n",
      "  Downloading optuna-2.10.0-py3-none-any.whl (308 kB)\n",
      "\u001b[K     |████████████████████████████████| 308 kB 865 kB/s eta 0:00:01\n",
      "\u001b[?25hCollecting seaborn==0.11\n",
      "  Downloading seaborn-0.11.0-py3-none-any.whl (283 kB)\n",
      "\u001b[K     |████████████████████████████████| 283 kB 1.0 MB/s eta 0:00:01\n",
      "\u001b[?25hCollecting numpy<=1.23,>=1.20\n",
      "  Downloading numpy-1.23.0-cp38-cp38-manylinux_2_17_x86_64.manylinux2014_x86_64.whl (17.1 MB)\n",
      "\u001b[K     |████████████████████████████████| 17.1 MB 1.4 MB/s eta 0:00:01\n",
      "\u001b[?25hCollecting scikit-optimize==0.9.0\n",
      "  Downloading scikit_optimize-0.9.0-py2.py3-none-any.whl (100 kB)\n",
      "\u001b[K     |████████████████████████████████| 100 kB 1.8 MB/s ta 0:00:01\n",
      "\u001b[?25hRequirement already satisfied: PyYAML in /home/eeriksp/.config/jupyterlab-desktop/jlab_server/lib/python3.8/site-packages (from optuna==2.10.0->skforecast) (6.0)\n",
      "Requirement already satisfied: scipy!=1.4.0 in /home/eeriksp/.config/jupyterlab-desktop/jlab_server/lib/python3.8/site-packages (from optuna==2.10.0->skforecast) (1.9.1)\n",
      "Collecting colorlog\n",
      "  Downloading colorlog-6.7.0-py2.py3-none-any.whl (11 kB)\n",
      "Collecting cliff\n",
      "  Downloading cliff-4.0.0-py3-none-any.whl (80 kB)\n",
      "\u001b[K     |████████████████████████████████| 80 kB 1.5 MB/s eta 0:00:01\n",
      "\u001b[?25hCollecting alembic\n",
      "  Downloading alembic-1.8.1-py3-none-any.whl (209 kB)\n",
      "\u001b[K     |████████████████████████████████| 209 kB 3.0 MB/s eta 0:00:01\n",
      "\u001b[?25hRequirement already satisfied: packaging>=20.0 in /home/eeriksp/.config/jupyterlab-desktop/jlab_server/lib/python3.8/site-packages (from optuna==2.10.0->skforecast) (21.3)\n",
      "Collecting sqlalchemy>=1.1.0\n",
      "  Downloading SQLAlchemy-1.4.43-cp38-cp38-manylinux_2_5_x86_64.manylinux1_x86_64.manylinux_2_17_x86_64.manylinux2014_x86_64.whl (1.6 MB)\n",
      "\u001b[K     |████████████████████████████████| 1.6 MB 1.6 MB/s eta 0:00:01\n",
      "\u001b[?25hCollecting cmaes>=0.8.2\n",
      "  Downloading cmaes-0.9.0-py3-none-any.whl (23 kB)\n",
      "Collecting pyaml>=16.9\n",
      "  Downloading pyaml-21.10.1-py2.py3-none-any.whl (24 kB)\n",
      "Requirement already satisfied: fonttools>=4.22.0 in /home/eeriksp/.config/jupyterlab-desktop/jlab_server/lib/python3.8/site-packages (from matplotlib<=3.5,>=3.3->skforecast) (4.37.1)\n",
      "Requirement already satisfied: pillow>=6.2.0 in /home/eeriksp/.config/jupyterlab-desktop/jlab_server/lib/python3.8/site-packages (from matplotlib<=3.5,>=3.3->skforecast) (9.2.0)\n",
      "Requirement already satisfied: cycler>=0.10 in /home/eeriksp/.config/jupyterlab-desktop/jlab_server/lib/python3.8/site-packages (from matplotlib<=3.5,>=3.3->skforecast) (0.11.0)\n",
      "Requirement already satisfied: python-dateutil>=2.7 in /home/eeriksp/.config/jupyterlab-desktop/jlab_server/lib/python3.8/site-packages (from matplotlib<=3.5,>=3.3->skforecast) (2.8.2)\n",
      "Requirement already satisfied: kiwisolver>=1.0.1 in /home/eeriksp/.config/jupyterlab-desktop/jlab_server/lib/python3.8/site-packages (from matplotlib<=3.5,>=3.3->skforecast) (1.4.4)\n",
      "Collecting setuptools-scm>=4\n",
      "  Using cached setuptools_scm-7.0.5-py3-none-any.whl (42 kB)\n",
      "Requirement already satisfied: pyparsing>=2.2.1 in /home/eeriksp/.local/lib/python3.8/site-packages (from matplotlib<=3.5,>=3.3->skforecast) (2.4.7)\n",
      "Requirement already satisfied: pytz>=2020.1 in /home/eeriksp/.local/lib/python3.8/site-packages (from pandas<=1.4,>=1.2->skforecast) (2021.1)\n",
      "Requirement already satisfied: six>=1.5 in /home/eeriksp/.local/lib/python3.8/site-packages (from python-dateutil>=2.7->matplotlib<=3.5,>=3.3->skforecast) (1.16.0)\n",
      "Requirement already satisfied: threadpoolctl>=2.0.0 in /home/eeriksp/.config/jupyterlab-desktop/jlab_server/lib/python3.8/site-packages (from scikit-learn<=1.1,>=1.0->skforecast) (3.1.0)\n",
      "Requirement already satisfied: setuptools in /home/eeriksp/.config/jupyterlab-desktop/jlab_server/lib/python3.8/site-packages (from setuptools-scm>=4->matplotlib<=3.5,>=3.3->skforecast) (65.3.0)\n",
      "Collecting tomli>=1.0.0\n",
      "  Using cached tomli-2.0.1-py3-none-any.whl (12 kB)\n",
      "Requirement already satisfied: typing-extensions in /home/eeriksp/.config/jupyterlab-desktop/jlab_server/lib/python3.8/site-packages (from setuptools-scm>=4->matplotlib<=3.5,>=3.3->skforecast) (4.3.0)\n",
      "Collecting greenlet!=0.4.17\n",
      "  Downloading greenlet-2.0.1-cp38-cp38-manylinux_2_17_x86_64.manylinux2014_x86_64.whl (544 kB)\n",
      "\u001b[K     |████████████████████████████████| 544 kB 3.4 MB/s eta 0:00:01\n",
      "\u001b[?25hRequirement already satisfied: patsy>=0.5.2 in /home/eeriksp/.config/jupyterlab-desktop/jlab_server/lib/python3.8/site-packages (from statsmodels<=0.13,>=0.12->skforecast) (0.5.2)\n",
      "Collecting Mako\n",
      "  Downloading Mako-1.2.3-py3-none-any.whl (78 kB)\n",
      "\u001b[K     |████████████████████████████████| 78 kB 2.8 MB/s eta 0:00:01\n",
      "\u001b[?25hRequirement already satisfied: importlib-metadata in /home/eeriksp/.local/lib/python3.8/site-packages (from alembic->optuna==2.10.0->skforecast) (4.5.0)\n",
      "Requirement already satisfied: importlib-resources in /home/eeriksp/.config/jupyterlab-desktop/jlab_server/lib/python3.8/site-packages (from alembic->optuna==2.10.0->skforecast) (5.9.0)\n",
      "Collecting autopage>=0.4.0\n",
      "  Downloading autopage-0.5.1-py3-none-any.whl (29 kB)\n",
      "Collecting cmd2>=1.0.0\n",
      "  Downloading cmd2-2.4.2-py3-none-any.whl (147 kB)\n",
      "\u001b[K     |████████████████████████████████| 147 kB 3.4 MB/s eta 0:00:01\n",
      "\u001b[?25hCollecting PrettyTable>=0.7.2\n",
      "  Downloading prettytable-3.5.0-py3-none-any.whl (26 kB)\n",
      "Collecting stevedore>=2.0.1\n",
      "  Downloading stevedore-4.1.0-py3-none-any.whl (50 kB)\n",
      "\u001b[K     |████████████████████████████████| 50 kB 2.4 MB/s eta 0:00:01\n",
      "\u001b[?25hCollecting pyperclip>=1.6\n",
      "  Downloading pyperclip-1.8.2.tar.gz (20 kB)\n",
      "Requirement already satisfied: attrs>=16.3.0 in /home/eeriksp/.config/jupyterlab-desktop/jlab_server/lib/python3.8/site-packages (from cmd2>=1.0.0->cliff->optuna==2.10.0->skforecast) (22.1.0)\n",
      "Requirement already satisfied: wcwidth>=0.1.7 in /home/eeriksp/.config/jupyterlab-desktop/jlab_server/lib/python3.8/site-packages (from cmd2>=1.0.0->cliff->optuna==2.10.0->skforecast) (0.2.5)\n",
      "Requirement already satisfied: zipp>=0.5 in /home/eeriksp/.local/lib/python3.8/site-packages (from importlib-metadata->alembic->optuna==2.10.0->skforecast) (3.4.1)\n",
      "Collecting pbr!=2.1.0,>=2.0.0\n",
      "  Downloading pbr-5.11.0-py2.py3-none-any.whl (112 kB)\n",
      "\u001b[K     |████████████████████████████████| 112 kB 1.0 MB/s eta 0:00:01\n",
      "\u001b[?25hRequirement already satisfied: MarkupSafe>=0.9.2 in /home/eeriksp/.config/jupyterlab-desktop/jlab_server/lib/python3.8/site-packages (from Mako->alembic->optuna==2.10.0->skforecast) (2.1.1)\n",
      "Building wheels for collected packages: pyperclip\n",
      "  Building wheel for pyperclip (setup.py) ... \u001b[?25ldone\n",
      "\u001b[?25h  Created wheel for pyperclip: filename=pyperclip-1.8.2-py3-none-any.whl size=11123 sha256=1766f175a89c28d31eb52b22fb205b816e7fbb936f4187fea5d277f232a85882\n",
      "  Stored in directory: /home/eeriksp/.cache/pip/wheels/7f/1a/65/84ff8c386bec21fca6d220ea1f5498a0367883a78dd5ba6122\n",
      "Successfully built pyperclip\n",
      "Installing collected packages: tomli, pyperclip, pbr, numpy, greenlet, stevedore, sqlalchemy, setuptools-scm, PrettyTable, Mako, cmd2, autopage, scikit-learn, pyaml, pandas, matplotlib, colorlog, cmaes, cliff, alembic, statsmodels, seaborn, scikit-optimize, optuna, skforecast\n",
      "  Attempting uninstall: numpy\n",
      "    Found existing installation: numpy 1.23.2\n",
      "    Uninstalling numpy-1.23.2:\n",
      "      Successfully uninstalled numpy-1.23.2\n",
      "  Attempting uninstall: scikit-learn\n",
      "    Found existing installation: scikit-learn 1.1.3\n",
      "    Uninstalling scikit-learn-1.1.3:\n",
      "      Successfully uninstalled scikit-learn-1.1.3\n",
      "  Attempting uninstall: pandas\n",
      "    Found existing installation: pandas 1.4.3\n",
      "    Uninstalling pandas-1.4.3:\n",
      "      Successfully uninstalled pandas-1.4.3\n",
      "  Attempting uninstall: matplotlib\n",
      "    Found existing installation: matplotlib 3.5.3\n",
      "    Uninstalling matplotlib-3.5.3:\n",
      "      Successfully uninstalled matplotlib-3.5.3\n",
      "  Attempting uninstall: statsmodels\n",
      "    Found existing installation: statsmodels 0.13.2\n",
      "    Uninstalling statsmodels-0.13.2:\n",
      "      Successfully uninstalled statsmodels-0.13.2\n",
      "  Attempting uninstall: seaborn\n",
      "    Found existing installation: seaborn 0.12.0\n",
      "    Uninstalling seaborn-0.12.0:\n",
      "      Successfully uninstalled seaborn-0.12.0\n",
      "\u001b[31mERROR: pip's dependency resolver does not currently take into account all the packages that are installed. This behaviour is the source of the following dependency conflicts.\n",
      "plotnine 0.10.1 requires statsmodels>=0.13.2, but you have statsmodels 0.13.0 which is incompatible.\u001b[0m\n",
      "Successfully installed Mako-1.2.3 PrettyTable-3.5.0 alembic-1.8.1 autopage-0.5.1 cliff-4.0.0 cmaes-0.9.0 cmd2-2.4.2 colorlog-6.7.0 greenlet-2.0.1 matplotlib-3.5.0 numpy-1.23.0 optuna-2.10.0 pandas-1.4.0 pbr-5.11.0 pyaml-21.10.1 pyperclip-1.8.2 scikit-learn-1.1.0 scikit-optimize-0.9.0 seaborn-0.11.0 setuptools-scm-7.0.5 skforecast-0.5.1 sqlalchemy-1.4.43 statsmodels-0.13.0 stevedore-4.1.0 tomli-2.0.1\n",
      "\u001b[33mWARNING: You are using pip version 21.1.2; however, version 22.3.1 is available.\n",
      "You should consider upgrading via the '/home/eeriksp/.config/jupyterlab-desktop/jlab_server/bin/python3.8 -m pip install --upgrade pip' command.\u001b[0m\n"
     ]
    }
   ],
   "source": [
    "!pip install skforecast"
   ]
  },
  {
   "cell_type": "code",
   "execution_count": 1,
   "metadata": {},
   "outputs": [
    {
     "data": {
      "text/plain": [
       "'/home/eeriksp/Develop/electricity-consumption'"
      ]
     },
     "execution_count": 1,
     "metadata": {},
     "output_type": "execute_result"
    }
   ],
   "source": [
    "pwd"
   ]
  },
  {
   "cell_type": "code",
   "execution_count": 1,
   "metadata": {
    "id": "MZN6nW7oxIOX"
   },
   "outputs": [],
   "source": [
    "# arvutamine ja joonistamine\n",
    "import numpy as np \n",
    "import pandas as pd\n",
    "import matplotlib.pyplot as plt\n",
    "import matplotlib.cm as cm\n",
    "\n",
    "# treenimine, tulemused\n",
    "from sklearn.model_selection import train_test_split\n",
    "from sklearn.model_selection import KFold\n",
    "from sklearn.metrics import mean_absolute_error\n",
    "\n",
    "# regressorid\n",
    "from sklearn.linear_model import LinearRegression, Lasso, Ridge, ElasticNet\n",
    "from sklearn.tree import DecisionTreeRegressor\n",
    "from sklearn.ensemble import RandomForestRegressor\n",
    "\n",
    "# aegridade spetsiifiline\n",
    "from skforecast.ForecasterAutoreg import ForecasterAutoreg\n"
   ]
  },
  {
   "cell_type": "markdown",
   "metadata": {
    "id": "JEv1tbb7UD8G"
   },
   "source": [
    "**Andmed ja puhastamine**"
   ]
  },
  {
   "cell_type": "code",
   "execution_count": 7,
   "metadata": {
    "id": "WrA6hVMYUFmS"
   },
   "outputs": [],
   "source": [
    "# laen treening- ja testandmed\n",
    "data_raw =  pd.read_csv('./data/df_clean.csv')\n",
    "test_raw = pd.read_csv('./data/df_clean_test.csv')"
   ]
  },
  {
   "cell_type": "code",
   "execution_count": 8,
   "metadata": {},
   "outputs": [
    {
     "data": {
      "text/html": [
       "<div>\n",
       "<style scoped>\n",
       "    .dataframe tbody tr th:only-of-type {\n",
       "        vertical-align: middle;\n",
       "    }\n",
       "\n",
       "    .dataframe tbody tr th {\n",
       "        vertical-align: top;\n",
       "    }\n",
       "\n",
       "    .dataframe thead th {\n",
       "        text-align: right;\n",
       "    }\n",
       "</style>\n",
       "<table border=\"1\" class=\"dataframe\">\n",
       "  <thead>\n",
       "    <tr style=\"text-align: right;\">\n",
       "      <th></th>\n",
       "      <th>Unnamed: 0</th>\n",
       "      <th>time</th>\n",
       "      <th>temp</th>\n",
       "      <th>dwpt</th>\n",
       "      <th>rhum</th>\n",
       "      <th>prcp</th>\n",
       "      <th>snow</th>\n",
       "      <th>wdir</th>\n",
       "      <th>wspd</th>\n",
       "      <th>wpgt</th>\n",
       "      <th>...</th>\n",
       "      <th>datetime</th>\n",
       "      <th>year</th>\n",
       "      <th>month</th>\n",
       "      <th>day</th>\n",
       "      <th>weekday</th>\n",
       "      <th>hour</th>\n",
       "      <th>date</th>\n",
       "      <th>is_holiday</th>\n",
       "      <th>season</th>\n",
       "      <th>google_trends_electricity</th>\n",
       "    </tr>\n",
       "  </thead>\n",
       "  <tbody>\n",
       "    <tr>\n",
       "      <th>0</th>\n",
       "      <td>0</td>\n",
       "      <td>2021-09-01 00:00:00+03:00</td>\n",
       "      <td>11.2</td>\n",
       "      <td>10.3</td>\n",
       "      <td>94.0</td>\n",
       "      <td>0.0</td>\n",
       "      <td>0.0</td>\n",
       "      <td>320.0</td>\n",
       "      <td>7.2</td>\n",
       "      <td>16.7</td>\n",
       "      <td>...</td>\n",
       "      <td>2021-09-01 00:00:00</td>\n",
       "      <td>2021</td>\n",
       "      <td>9</td>\n",
       "      <td>1</td>\n",
       "      <td>2</td>\n",
       "      <td>0</td>\n",
       "      <td>2021-09-01</td>\n",
       "      <td>False</td>\n",
       "      <td>Autumn</td>\n",
       "      <td>5</td>\n",
       "    </tr>\n",
       "    <tr>\n",
       "      <th>1</th>\n",
       "      <td>1</td>\n",
       "      <td>2021-09-01 01:00:00+03:00</td>\n",
       "      <td>10.7</td>\n",
       "      <td>9.6</td>\n",
       "      <td>93.0</td>\n",
       "      <td>0.0</td>\n",
       "      <td>0.0</td>\n",
       "      <td>320.0</td>\n",
       "      <td>7.2</td>\n",
       "      <td>13.0</td>\n",
       "      <td>...</td>\n",
       "      <td>2021-09-01 01:00:00</td>\n",
       "      <td>2021</td>\n",
       "      <td>9</td>\n",
       "      <td>1</td>\n",
       "      <td>2</td>\n",
       "      <td>1</td>\n",
       "      <td>2021-09-01</td>\n",
       "      <td>False</td>\n",
       "      <td>Autumn</td>\n",
       "      <td>5</td>\n",
       "    </tr>\n",
       "    <tr>\n",
       "      <th>2</th>\n",
       "      <td>2</td>\n",
       "      <td>2021-09-01 02:00:00+03:00</td>\n",
       "      <td>9.9</td>\n",
       "      <td>9.0</td>\n",
       "      <td>94.0</td>\n",
       "      <td>0.0</td>\n",
       "      <td>0.0</td>\n",
       "      <td>320.0</td>\n",
       "      <td>7.2</td>\n",
       "      <td>13.0</td>\n",
       "      <td>...</td>\n",
       "      <td>2021-09-01 02:00:00</td>\n",
       "      <td>2021</td>\n",
       "      <td>9</td>\n",
       "      <td>1</td>\n",
       "      <td>2</td>\n",
       "      <td>2</td>\n",
       "      <td>2021-09-01</td>\n",
       "      <td>False</td>\n",
       "      <td>Autumn</td>\n",
       "      <td>5</td>\n",
       "    </tr>\n",
       "    <tr>\n",
       "      <th>3</th>\n",
       "      <td>3</td>\n",
       "      <td>2021-09-01 03:00:00+03:00</td>\n",
       "      <td>10.0</td>\n",
       "      <td>8.4</td>\n",
       "      <td>90.0</td>\n",
       "      <td>0.0</td>\n",
       "      <td>0.0</td>\n",
       "      <td>330.0</td>\n",
       "      <td>7.2</td>\n",
       "      <td>13.0</td>\n",
       "      <td>...</td>\n",
       "      <td>2021-09-01 03:00:00</td>\n",
       "      <td>2021</td>\n",
       "      <td>9</td>\n",
       "      <td>1</td>\n",
       "      <td>2</td>\n",
       "      <td>3</td>\n",
       "      <td>2021-09-01</td>\n",
       "      <td>False</td>\n",
       "      <td>Autumn</td>\n",
       "      <td>5</td>\n",
       "    </tr>\n",
       "    <tr>\n",
       "      <th>4</th>\n",
       "      <td>4</td>\n",
       "      <td>2021-09-01 04:00:00+03:00</td>\n",
       "      <td>9.0</td>\n",
       "      <td>8.1</td>\n",
       "      <td>94.0</td>\n",
       "      <td>0.0</td>\n",
       "      <td>0.0</td>\n",
       "      <td>300.0</td>\n",
       "      <td>3.6</td>\n",
       "      <td>13.0</td>\n",
       "      <td>...</td>\n",
       "      <td>2021-09-01 04:00:00</td>\n",
       "      <td>2021</td>\n",
       "      <td>9</td>\n",
       "      <td>1</td>\n",
       "      <td>2</td>\n",
       "      <td>4</td>\n",
       "      <td>2021-09-01</td>\n",
       "      <td>False</td>\n",
       "      <td>Autumn</td>\n",
       "      <td>5</td>\n",
       "    </tr>\n",
       "  </tbody>\n",
       "</table>\n",
       "<p>5 rows × 25 columns</p>\n",
       "</div>"
      ],
      "text/plain": [
       "   Unnamed: 0                       time  temp  dwpt  rhum  prcp  snow   wdir  \\\n",
       "0           0  2021-09-01 00:00:00+03:00  11.2  10.3  94.0   0.0   0.0  320.0   \n",
       "1           1  2021-09-01 01:00:00+03:00  10.7   9.6  93.0   0.0   0.0  320.0   \n",
       "2           2  2021-09-01 02:00:00+03:00   9.9   9.0  94.0   0.0   0.0  320.0   \n",
       "3           3  2021-09-01 03:00:00+03:00  10.0   8.4  90.0   0.0   0.0  330.0   \n",
       "4           4  2021-09-01 04:00:00+03:00   9.0   8.1  94.0   0.0   0.0  300.0   \n",
       "\n",
       "   wspd  wpgt  ...             datetime  year  month  day weekday hour  \\\n",
       "0   7.2  16.7  ...  2021-09-01 00:00:00  2021      9    1       2    0   \n",
       "1   7.2  13.0  ...  2021-09-01 01:00:00  2021      9    1       2    1   \n",
       "2   7.2  13.0  ...  2021-09-01 02:00:00  2021      9    1       2    2   \n",
       "3   7.2  13.0  ...  2021-09-01 03:00:00  2021      9    1       2    3   \n",
       "4   3.6  13.0  ...  2021-09-01 04:00:00  2021      9    1       2    4   \n",
       "\n",
       "         date  is_holiday  season  google_trends_electricity  \n",
       "0  2021-09-01       False  Autumn                          5  \n",
       "1  2021-09-01       False  Autumn                          5  \n",
       "2  2021-09-01       False  Autumn                          5  \n",
       "3  2021-09-01       False  Autumn                          5  \n",
       "4  2021-09-01       False  Autumn                          5  \n",
       "\n",
       "[5 rows x 25 columns]"
      ]
     },
     "execution_count": 8,
     "metadata": {},
     "output_type": "execute_result"
    }
   ],
   "source": [
    "data_raw.head()"
   ]
  },
  {
   "cell_type": "code",
   "execution_count": 28,
   "metadata": {
    "colab": {
     "base_uri": "https://localhost:8080/"
    },
    "id": "2qKv6HinxIQ_",
    "outputId": "6b6522d8-806a-4237-ccf0-e7070aa302a3"
   },
   "outputs": [],
   "source": [
    "data = data_raw.set_index(pd.to_datetime(data_raw['timestamp']))[[\"consumption\"]]\n",
    "data = data[~data.index.duplicated()].asfreq(\"H\").sort_index()\n",
    "\n",
    "test = test_raw.set_index(pd.to_datetime(test_raw['timestamp']))[[]]\n",
    "test = test[~test.index.duplicated()].asfreq(\"H\").sort_index()\n",
    "test = test.tz_localize(\"+03:00\")"
   ]
  },
  {
   "cell_type": "code",
   "execution_count": 17,
   "metadata": {},
   "outputs": [
    {
     "data": {
      "image/png": "[encoded data removed]",
      "text/plain": [
       "<Figure size 1600x400 with 1 Axes>"
      ]
     },
     "metadata": {},
     "output_type": "display_data"
    }
   ],
   "source": [
    "fig, ax=plt.subplots(figsize=(16, 4))\n",
    "data[\"consumption\"].plot()\n",
    "plt.show()"
   ]
  },
  {
   "cell_type": "code",
   "execution_count": 18,
   "metadata": {},
   "outputs": [
    {
     "data": {
      "text/html": [
       "<div>\n",
       "<style scoped>\n",
       "    .dataframe tbody tr th:only-of-type {\n",
       "        vertical-align: middle;\n",
       "    }\n",
       "\n",
       "    .dataframe tbody tr th {\n",
       "        vertical-align: top;\n",
       "    }\n",
       "\n",
       "    .dataframe thead th {\n",
       "        text-align: right;\n",
       "    }\n",
       "</style>\n",
       "<table border=\"1\" class=\"dataframe\">\n",
       "  <thead>\n",
       "    <tr style=\"text-align: right;\">\n",
       "      <th></th>\n",
       "      <th>consumption</th>\n",
       "    </tr>\n",
       "    <tr>\n",
       "      <th>timestamp</th>\n",
       "      <th></th>\n",
       "    </tr>\n",
       "  </thead>\n",
       "  <tbody>\n",
       "    <tr>\n",
       "      <th>2022-07-31 08:00:00</th>\n",
       "      <td>0.942</td>\n",
       "    </tr>\n",
       "    <tr>\n",
       "      <th>2022-07-31 09:00:00</th>\n",
       "      <td>0.714</td>\n",
       "    </tr>\n",
       "    <tr>\n",
       "      <th>2022-07-31 10:00:00</th>\n",
       "      <td>0.294</td>\n",
       "    </tr>\n",
       "    <tr>\n",
       "      <th>2022-07-31 11:00:00</th>\n",
       "      <td>0.672</td>\n",
       "    </tr>\n",
       "    <tr>\n",
       "      <th>2022-07-31 12:00:00</th>\n",
       "      <td>0.812</td>\n",
       "    </tr>\n",
       "  </tbody>\n",
       "</table>\n",
       "</div>"
      ],
      "text/plain": [
       "                     consumption\n",
       "timestamp                       \n",
       "2022-07-31 08:00:00        0.942\n",
       "2022-07-31 09:00:00        0.714\n",
       "2022-07-31 10:00:00        0.294\n",
       "2022-07-31 11:00:00        0.672\n",
       "2022-07-31 12:00:00        0.812"
      ]
     },
     "execution_count": 18,
     "metadata": {},
     "output_type": "execute_result"
    }
   ],
   "source": [
    "data.shape\n",
    "train = data[7900:8000]\n",
    "val = data[8000:8050]\n",
    "\n",
    "val.head()"
   ]
  },
  {
   "cell_type": "code",
   "execution_count": 19,
   "metadata": {},
   "outputs": [
    {
     "data": {
      "image/png": "[encoded data removed]",
      "text/plain": [
       "<Figure size 1600x400 with 1 Axes>"
      ]
     },
     "metadata": {},
     "output_type": "display_data"
    }
   ],
   "source": [
    "fig, ax=plt.subplots(figsize=(16, 4))\n",
    "train[\"consumption\"].plot(ax=ax, label=\"train\")\n",
    "val[\"consumption\"].plot(ax=ax, label=\"val\")\n",
    "plt.legend()\n",
    "plt.show()"
   ]
  },
  {
   "cell_type": "code",
   "execution_count": 20,
   "metadata": {
    "colab": {
     "base_uri": "https://localhost:8080/"
    },
    "id": "NbfPZVWGyIC5",
    "outputId": "f02b67c2-eb53-4fa6-aaf6-0afc89875cec"
   },
   "outputs": [],
   "source": [
    "forecaster = ForecasterAutoreg(\n",
    "                regressor = RandomForestRegressor(n_estimators=1000),\n",
    "                lags      = 20\n",
    "             )\n",
    "\n",
    "forecaster.fit(y=train[\"consumption\"])"
   ]
  },
  {
   "cell_type": "code",
   "execution_count": 21,
   "metadata": {},
   "outputs": [],
   "source": [
    "predictions = forecaster.predict(50)"
   ]
  },
  {
   "cell_type": "code",
   "execution_count": 87,
   "metadata": {},
   "outputs": [
    {
     "data": {
      "image/png": "[encoded data removed]",
      "text/plain": [
       "<Figure size 1600x400 with 1 Axes>"
      ]
     },
     "metadata": {},
     "output_type": "display_data"
    }
   ],
   "source": [
    "fig, ax=plt.subplots(figsize=(16, 4))\n",
    "train[\"consumption\"].plot(ax=ax, label=\"train\")\n",
    "val[\"consumption\"].plot(ax=ax, label=\"val\")\n",
    "predictions.plot(ax=ax, label=\"prediction\")\n",
    "plt.legend()\n",
    "plt.show()"
   ]
  },
  {
   "cell_type": "code",
   "execution_count": 25,
   "metadata": {},
   "outputs": [],
   "source": [
    "forecaster = ForecasterAutoreg(\n",
    "                regressor = RandomForestRegressor(n_estimators=1000),\n",
    "                lags      = 20\n",
    "             )\n",
    "\n",
    "forecaster.fit(y=data[\"consumption\"].fillna(method=\"ffill\"))"
   ]
  },
  {
   "cell_type": "code",
   "execution_count": 29,
   "metadata": {
    "id": "Tkf9udPfU-mN"
   },
   "outputs": [],
   "source": [
    "import csv\n",
    "\n",
    "submission_1 = pd.DataFrame(\n",
    "    {'time': test.index, 'consumption': forecaster.predict(len(test))},\n",
    "    columns = ['time', 'consumption'])\n",
    "submission_1.to_csv('submission_1.csv', index = False)\n",
    "\n",
    "\n"
   ]
  },
  {
   "cell_type": "code",
   "execution_count": null,
   "metadata": {},
   "outputs": [],
   "source": []
  },
  {
   "cell_type": "code",
   "execution_count": 8,
   "metadata": {
    "colab": {
     "base_uri": "https://localhost:8080/"
    },
    "id": "37DmKcPmW30n",
    "outputId": "93e388a4-a4ca-4a52-e7aa-1fe7f6144b33"
   },
   "outputs": [
    {
     "data": {
      "text/plain": [
       "(8760, 25)"
      ]
     },
     "execution_count": 8,
     "metadata": {},
     "output_type": "execute_result"
    }
   ],
   "source": [
    "train_test.shape"
   ]
  },
  {
   "cell_type": "code",
   "execution_count": 9,
   "metadata": {
    "id": "-EUeW9aqyNb0"
   },
   "outputs": [],
   "source": [
    "# eemaldan veerud, mida ei vaja analüüsiks\n",
    "train_test = train_test.drop(columns=['Unnamed: 0', 'time', 'timestamp', 'datetime', 'date'])"
   ]
  },
  {
   "cell_type": "code",
   "execution_count": 10,
   "metadata": {
    "id": "SvFP3hSJXCnf"
   },
   "outputs": [],
   "source": [
    "# is_holiday booleanist täisarvuks\n",
    "train_test[\"is_holiday\"] = train_test[\"is_holiday\"].astype(int)"
   ]
  },
  {
   "cell_type": "code",
   "execution_count": 11,
   "metadata": {
    "id": "s4hxSin92fX8"
   },
   "outputs": [],
   "source": [
    "train_test=pd.get_dummies(train_test)"
   ]
  },
  {
   "cell_type": "code",
   "execution_count": 12,
   "metadata": {
    "colab": {
     "base_uri": "https://localhost:8080/",
     "height": 206
    },
    "id": "RsR9vQ5m2rdG",
    "outputId": "9ec5b9dd-3221-4718-b890-5490e2a079c8"
   },
   "outputs": [
    {
     "data": {
      "text/html": [
       "\n",
       "  <div id=\"df-17fcbc33-d926-47e0-baaf-0579aea2bc28\">\n",
       "    <div class=\"colab-df-container\">\n",
       "      <div>\n",
       "<style scoped>\n",
       "    .dataframe tbody tr th:only-of-type {\n",
       "        vertical-align: middle;\n",
       "    }\n",
       "\n",
       "    .dataframe tbody tr th {\n",
       "        vertical-align: top;\n",
       "    }\n",
       "\n",
       "    .dataframe thead th {\n",
       "        text-align: right;\n",
       "    }\n",
       "</style>\n",
       "<table border=\"1\" class=\"dataframe\">\n",
       "  <thead>\n",
       "    <tr style=\"text-align: right;\">\n",
       "      <th></th>\n",
       "      <th>temp</th>\n",
       "      <th>dwpt</th>\n",
       "      <th>rhum</th>\n",
       "      <th>prcp</th>\n",
       "      <th>snow</th>\n",
       "      <th>wdir</th>\n",
       "      <th>wspd</th>\n",
       "      <th>wpgt</th>\n",
       "      <th>pres</th>\n",
       "      <th>coco</th>\n",
       "      <th>el_price</th>\n",
       "      <th>year</th>\n",
       "      <th>month</th>\n",
       "      <th>day</th>\n",
       "      <th>weekday</th>\n",
       "      <th>hour</th>\n",
       "      <th>is_holiday</th>\n",
       "      <th>google_trends_electricity</th>\n",
       "      <th>train</th>\n",
       "      <th>season_Autumn</th>\n",
       "      <th>season_Spring</th>\n",
       "      <th>season_Summer</th>\n",
       "      <th>season_Winter</th>\n",
       "    </tr>\n",
       "  </thead>\n",
       "  <tbody>\n",
       "    <tr>\n",
       "      <th>0</th>\n",
       "      <td>11.2</td>\n",
       "      <td>10.3</td>\n",
       "      <td>94.0</td>\n",
       "      <td>0.0</td>\n",
       "      <td>0.0</td>\n",
       "      <td>320.0</td>\n",
       "      <td>7.2</td>\n",
       "      <td>16.7</td>\n",
       "      <td>1012.6</td>\n",
       "      <td>2.0</td>\n",
       "      <td>0.09016</td>\n",
       "      <td>2021</td>\n",
       "      <td>9</td>\n",
       "      <td>1</td>\n",
       "      <td>2</td>\n",
       "      <td>0</td>\n",
       "      <td>0</td>\n",
       "      <td>5</td>\n",
       "      <td>1</td>\n",
       "      <td>1</td>\n",
       "      <td>0</td>\n",
       "      <td>0</td>\n",
       "      <td>0</td>\n",
       "    </tr>\n",
       "    <tr>\n",
       "      <th>1</th>\n",
       "      <td>10.7</td>\n",
       "      <td>9.6</td>\n",
       "      <td>93.0</td>\n",
       "      <td>0.0</td>\n",
       "      <td>0.0</td>\n",
       "      <td>320.0</td>\n",
       "      <td>7.2</td>\n",
       "      <td>13.0</td>\n",
       "      <td>1012.6</td>\n",
       "      <td>2.0</td>\n",
       "      <td>0.09251</td>\n",
       "      <td>2021</td>\n",
       "      <td>9</td>\n",
       "      <td>1</td>\n",
       "      <td>2</td>\n",
       "      <td>1</td>\n",
       "      <td>0</td>\n",
       "      <td>5</td>\n",
       "      <td>1</td>\n",
       "      <td>1</td>\n",
       "      <td>0</td>\n",
       "      <td>0</td>\n",
       "      <td>0</td>\n",
       "    </tr>\n",
       "    <tr>\n",
       "      <th>2</th>\n",
       "      <td>9.9</td>\n",
       "      <td>9.0</td>\n",
       "      <td>94.0</td>\n",
       "      <td>0.0</td>\n",
       "      <td>0.0</td>\n",
       "      <td>320.0</td>\n",
       "      <td>7.2</td>\n",
       "      <td>13.0</td>\n",
       "      <td>1012.2</td>\n",
       "      <td>2.0</td>\n",
       "      <td>0.08890</td>\n",
       "      <td>2021</td>\n",
       "      <td>9</td>\n",
       "      <td>1</td>\n",
       "      <td>2</td>\n",
       "      <td>2</td>\n",
       "      <td>0</td>\n",
       "      <td>5</td>\n",
       "      <td>1</td>\n",
       "      <td>1</td>\n",
       "      <td>0</td>\n",
       "      <td>0</td>\n",
       "      <td>0</td>\n",
       "    </tr>\n",
       "    <tr>\n",
       "      <th>3</th>\n",
       "      <td>10.0</td>\n",
       "      <td>8.4</td>\n",
       "      <td>90.0</td>\n",
       "      <td>0.0</td>\n",
       "      <td>0.0</td>\n",
       "      <td>330.0</td>\n",
       "      <td>7.2</td>\n",
       "      <td>13.0</td>\n",
       "      <td>1011.9</td>\n",
       "      <td>1.0</td>\n",
       "      <td>0.08735</td>\n",
       "      <td>2021</td>\n",
       "      <td>9</td>\n",
       "      <td>1</td>\n",
       "      <td>2</td>\n",
       "      <td>3</td>\n",
       "      <td>0</td>\n",
       "      <td>5</td>\n",
       "      <td>1</td>\n",
       "      <td>1</td>\n",
       "      <td>0</td>\n",
       "      <td>0</td>\n",
       "      <td>0</td>\n",
       "    </tr>\n",
       "    <tr>\n",
       "      <th>4</th>\n",
       "      <td>9.0</td>\n",
       "      <td>8.1</td>\n",
       "      <td>94.0</td>\n",
       "      <td>0.0</td>\n",
       "      <td>0.0</td>\n",
       "      <td>300.0</td>\n",
       "      <td>3.6</td>\n",
       "      <td>13.0</td>\n",
       "      <td>1011.4</td>\n",
       "      <td>2.0</td>\n",
       "      <td>0.08688</td>\n",
       "      <td>2021</td>\n",
       "      <td>9</td>\n",
       "      <td>1</td>\n",
       "      <td>2</td>\n",
       "      <td>4</td>\n",
       "      <td>0</td>\n",
       "      <td>5</td>\n",
       "      <td>1</td>\n",
       "      <td>1</td>\n",
       "      <td>0</td>\n",
       "      <td>0</td>\n",
       "      <td>0</td>\n",
       "    </tr>\n",
       "  </tbody>\n",
       "</table>\n",
       "</div>\n",
       "      <button class=\"colab-df-convert\" onclick=\"convertToInteractive('df-17fcbc33-d926-47e0-baaf-0579aea2bc28')\"\n",
       "              title=\"Convert this dataframe to an interactive table.\"\n",
       "              style=\"display:none;\">\n",
       "        \n",
       "  <svg xmlns=\"http://www.w3.org/2000/svg\" height=\"24px\"viewBox=\"0 0 24 24\"\n",
       "       width=\"24px\">\n",
       "    <path d=\"M0 0h24v24H0V0z\" fill=\"none\"/>\n",
       "    <path d=\"M18.56 5.44l.94 2.06.94-2.06 2.06-.94-2.06-.94-.94-2.06-.94 2.06-2.06.94zm-11 1L8.5 8.5l.94-2.06 2.06-.94-2.06-.94L8.5 2.5l-.94 2.06-2.06.94zm10 10l.94 2.06.94-2.06 2.06-.94-2.06-.94-.94-2.06-.94 2.06-2.06.94z\"/><path d=\"M17.41 7.96l-1.37-1.37c-.4-.4-.92-.59-1.43-.59-.52 0-1.04.2-1.43.59L10.3 9.45l-7.72 7.72c-.78.78-.78 2.05 0 2.83L4 21.41c.39.39.9.59 1.41.59.51 0 1.02-.2 1.41-.59l7.78-7.78 2.81-2.81c.8-.78.8-2.07 0-2.86zM5.41 20L4 18.59l7.72-7.72 1.47 1.35L5.41 20z\"/>\n",
       "  </svg>\n",
       "      </button>\n",
       "      \n",
       "  <style>\n",
       "    .colab-df-container {\n",
       "      display:flex;\n",
       "      flex-wrap:wrap;\n",
       "      gap: 12px;\n",
       "    }\n",
       "\n",
       "    .colab-df-convert {\n",
       "      background-color: #E8F0FE;\n",
       "      border: none;\n",
       "      border-radius: 50%;\n",
       "      cursor: pointer;\n",
       "      display: none;\n",
       "      fill: #1967D2;\n",
       "      height: 32px;\n",
       "      padding: 0 0 0 0;\n",
       "      width: 32px;\n",
       "    }\n",
       "\n",
       "    .colab-df-convert:hover {\n",
       "      background-color: #E2EBFA;\n",
       "      box-shadow: 0px 1px 2px rgba(60, 64, 67, 0.3), 0px 1px 3px 1px rgba(60, 64, 67, 0.15);\n",
       "      fill: #174EA6;\n",
       "    }\n",
       "\n",
       "    [theme=dark] .colab-df-convert {\n",
       "      background-color: #3B4455;\n",
       "      fill: #D2E3FC;\n",
       "    }\n",
       "\n",
       "    [theme=dark] .colab-df-convert:hover {\n",
       "      background-color: #434B5C;\n",
       "      box-shadow: 0px 1px 3px 1px rgba(0, 0, 0, 0.15);\n",
       "      filter: drop-shadow(0px 1px 2px rgba(0, 0, 0, 0.3));\n",
       "      fill: #FFFFFF;\n",
       "    }\n",
       "  </style>\n",
       "\n",
       "      <script>\n",
       "        const buttonEl =\n",
       "          document.querySelector('#df-17fcbc33-d926-47e0-baaf-0579aea2bc28 button.colab-df-convert');\n",
       "        buttonEl.style.display =\n",
       "          google.colab.kernel.accessAllowed ? 'block' : 'none';\n",
       "\n",
       "        async function convertToInteractive(key) {\n",
       "          const element = document.querySelector('#df-17fcbc33-d926-47e0-baaf-0579aea2bc28');\n",
       "          const dataTable =\n",
       "            await google.colab.kernel.invokeFunction('convertToInteractive',\n",
       "                                                     [key], {});\n",
       "          if (!dataTable) return;\n",
       "\n",
       "          const docLinkHtml = 'Like what you see? Visit the ' +\n",
       "            '<a target=\"_blank\" href=https://colab.research.google.com/notebooks/data_table.ipynb>data table notebook</a>'\n",
       "            + ' to learn more about interactive tables.';\n",
       "          element.innerHTML = '';\n",
       "          dataTable['output_type'] = 'display_data';\n",
       "          await google.colab.output.renderOutput(dataTable, element);\n",
       "          const docLink = document.createElement('div');\n",
       "          docLink.innerHTML = docLinkHtml;\n",
       "          element.appendChild(docLink);\n",
       "        }\n",
       "      </script>\n",
       "    </div>\n",
       "  </div>\n",
       "  "
      ],
      "text/plain": [
       "   temp  dwpt  rhum  prcp  snow   wdir  wspd  wpgt    pres  coco  el_price  \\\n",
       "0  11.2  10.3  94.0   0.0   0.0  320.0   7.2  16.7  1012.6   2.0   0.09016   \n",
       "1  10.7   9.6  93.0   0.0   0.0  320.0   7.2  13.0  1012.6   2.0   0.09251   \n",
       "2   9.9   9.0  94.0   0.0   0.0  320.0   7.2  13.0  1012.2   2.0   0.08890   \n",
       "3  10.0   8.4  90.0   0.0   0.0  330.0   7.2  13.0  1011.9   1.0   0.08735   \n",
       "4   9.0   8.1  94.0   0.0   0.0  300.0   3.6  13.0  1011.4   2.0   0.08688   \n",
       "\n",
       "   year  month  day  weekday  hour  is_holiday  google_trends_electricity  \\\n",
       "0  2021      9    1        2     0           0                          5   \n",
       "1  2021      9    1        2     1           0                          5   \n",
       "2  2021      9    1        2     2           0                          5   \n",
       "3  2021      9    1        2     3           0                          5   \n",
       "4  2021      9    1        2     4           0                          5   \n",
       "\n",
       "   train  season_Autumn  season_Spring  season_Summer  season_Winter  \n",
       "0      1              1              0              0              0  \n",
       "1      1              1              0              0              0  \n",
       "2      1              1              0              0              0  \n",
       "3      1              1              0              0              0  \n",
       "4      1              1              0              0              0  "
      ]
     },
     "execution_count": 12,
     "metadata": {},
     "output_type": "execute_result"
    }
   ],
   "source": [
    "train_test.head()"
   ]
  },
  {
   "cell_type": "code",
   "execution_count": 13,
   "metadata": {
    "id": "6NGjL77F4KZL"
   },
   "outputs": [],
   "source": [
    "# normaliseerin andmed\n",
    "train_test=(train_test-train_test.min())/(train_test.max()-train_test.min())"
   ]
  },
  {
   "cell_type": "code",
   "execution_count": 14,
   "metadata": {
    "colab": {
     "base_uri": "https://localhost:8080/",
     "height": 364
    },
    "id": "j_AzCjUt3fnQ",
    "outputId": "3f6098ca-b129-447c-d037-b47cf7f76d05"
   },
   "outputs": [
    {
     "data": {
      "text/html": [
       "\n",
       "  <div id=\"df-311c61ea-8d54-4121-83f2-b60544d216f4\">\n",
       "    <div class=\"colab-df-container\">\n",
       "      <div>\n",
       "<style scoped>\n",
       "    .dataframe tbody tr th:only-of-type {\n",
       "        vertical-align: middle;\n",
       "    }\n",
       "\n",
       "    .dataframe tbody tr th {\n",
       "        vertical-align: top;\n",
       "    }\n",
       "\n",
       "    .dataframe thead th {\n",
       "        text-align: right;\n",
       "    }\n",
       "</style>\n",
       "<table border=\"1\" class=\"dataframe\">\n",
       "  <thead>\n",
       "    <tr style=\"text-align: right;\">\n",
       "      <th></th>\n",
       "      <th>temp</th>\n",
       "      <th>dwpt</th>\n",
       "      <th>rhum</th>\n",
       "      <th>prcp</th>\n",
       "      <th>snow</th>\n",
       "      <th>wdir</th>\n",
       "      <th>wspd</th>\n",
       "      <th>wpgt</th>\n",
       "      <th>pres</th>\n",
       "      <th>coco</th>\n",
       "      <th>el_price</th>\n",
       "      <th>year</th>\n",
       "      <th>month</th>\n",
       "      <th>day</th>\n",
       "      <th>weekday</th>\n",
       "      <th>hour</th>\n",
       "      <th>is_holiday</th>\n",
       "      <th>google_trends_electricity</th>\n",
       "      <th>train</th>\n",
       "      <th>season_Autumn</th>\n",
       "      <th>season_Spring</th>\n",
       "      <th>season_Summer</th>\n",
       "      <th>season_Winter</th>\n",
       "    </tr>\n",
       "  </thead>\n",
       "  <tbody>\n",
       "    <tr>\n",
       "      <th>count</th>\n",
       "      <td>8760.000000</td>\n",
       "      <td>8760.000000</td>\n",
       "      <td>8760.000000</td>\n",
       "      <td>8760.000000</td>\n",
       "      <td>8760.000000</td>\n",
       "      <td>8760.000000</td>\n",
       "      <td>8760.000000</td>\n",
       "      <td>8760.000000</td>\n",
       "      <td>8760.000000</td>\n",
       "      <td>8760.000000</td>\n",
       "      <td>8760.000000</td>\n",
       "      <td>8760.000000</td>\n",
       "      <td>8760.000000</td>\n",
       "      <td>8760.000000</td>\n",
       "      <td>8760.000000</td>\n",
       "      <td>8760.000000</td>\n",
       "      <td>8760.000000</td>\n",
       "      <td>8760.000000</td>\n",
       "      <td>8760.000000</td>\n",
       "      <td>8760.000000</td>\n",
       "      <td>8760.000000</td>\n",
       "      <td>8760.000000</td>\n",
       "      <td>8760.000000</td>\n",
       "    </tr>\n",
       "    <tr>\n",
       "      <th>mean</th>\n",
       "      <td>0.575026</td>\n",
       "      <td>0.633145</td>\n",
       "      <td>0.712915</td>\n",
       "      <td>0.002455</td>\n",
       "      <td>0.004836</td>\n",
       "      <td>0.558018</td>\n",
       "      <td>0.288714</td>\n",
       "      <td>0.297010</td>\n",
       "      <td>0.597020</td>\n",
       "      <td>0.191689</td>\n",
       "      <td>0.041149</td>\n",
       "      <td>0.665639</td>\n",
       "      <td>0.502439</td>\n",
       "      <td>0.490700</td>\n",
       "      <td>0.499543</td>\n",
       "      <td>0.500000</td>\n",
       "      <td>0.032877</td>\n",
       "      <td>0.369488</td>\n",
       "      <td>0.980822</td>\n",
       "      <td>0.249429</td>\n",
       "      <td>0.251941</td>\n",
       "      <td>0.252055</td>\n",
       "      <td>0.246575</td>\n",
       "    </tr>\n",
       "    <tr>\n",
       "      <th>std</th>\n",
       "      <td>0.162253</td>\n",
       "      <td>0.166682</td>\n",
       "      <td>0.218779</td>\n",
       "      <td>0.031798</td>\n",
       "      <td>0.052988</td>\n",
       "      <td>0.246342</td>\n",
       "      <td>0.152588</td>\n",
       "      <td>0.165456</td>\n",
       "      <td>0.147128</td>\n",
       "      <td>0.198909</td>\n",
       "      <td>0.031501</td>\n",
       "      <td>0.471793</td>\n",
       "      <td>0.313458</td>\n",
       "      <td>0.293248</td>\n",
       "      <td>0.333009</td>\n",
       "      <td>0.300982</td>\n",
       "      <td>0.178324</td>\n",
       "      <td>0.192332</td>\n",
       "      <td>0.137158</td>\n",
       "      <td>0.432707</td>\n",
       "      <td>0.434152</td>\n",
       "      <td>0.434217</td>\n",
       "      <td>0.431042</td>\n",
       "    </tr>\n",
       "    <tr>\n",
       "      <th>min</th>\n",
       "      <td>0.000000</td>\n",
       "      <td>0.000000</td>\n",
       "      <td>0.000000</td>\n",
       "      <td>0.000000</td>\n",
       "      <td>0.000000</td>\n",
       "      <td>0.000000</td>\n",
       "      <td>0.000000</td>\n",
       "      <td>0.000000</td>\n",
       "      <td>0.000000</td>\n",
       "      <td>0.000000</td>\n",
       "      <td>0.000000</td>\n",
       "      <td>0.000000</td>\n",
       "      <td>0.000000</td>\n",
       "      <td>0.000000</td>\n",
       "      <td>0.000000</td>\n",
       "      <td>0.000000</td>\n",
       "      <td>0.000000</td>\n",
       "      <td>0.000000</td>\n",
       "      <td>0.000000</td>\n",
       "      <td>0.000000</td>\n",
       "      <td>0.000000</td>\n",
       "      <td>0.000000</td>\n",
       "      <td>0.000000</td>\n",
       "    </tr>\n",
       "    <tr>\n",
       "      <th>25%</th>\n",
       "      <td>0.462609</td>\n",
       "      <td>0.520161</td>\n",
       "      <td>0.575000</td>\n",
       "      <td>0.000000</td>\n",
       "      <td>0.000000</td>\n",
       "      <td>0.388889</td>\n",
       "      <td>0.227129</td>\n",
       "      <td>0.168053</td>\n",
       "      <td>0.519435</td>\n",
       "      <td>0.080000</td>\n",
       "      <td>0.023265</td>\n",
       "      <td>0.000000</td>\n",
       "      <td>0.272727</td>\n",
       "      <td>0.233333</td>\n",
       "      <td>0.166667</td>\n",
       "      <td>0.250000</td>\n",
       "      <td>0.000000</td>\n",
       "      <td>0.273684</td>\n",
       "      <td>1.000000</td>\n",
       "      <td>0.000000</td>\n",
       "      <td>0.000000</td>\n",
       "      <td>0.000000</td>\n",
       "      <td>0.000000</td>\n",
       "    </tr>\n",
       "    <tr>\n",
       "      <th>50%</th>\n",
       "      <td>0.566957</td>\n",
       "      <td>0.620968</td>\n",
       "      <td>0.787500</td>\n",
       "      <td>0.000000</td>\n",
       "      <td>0.000000</td>\n",
       "      <td>0.583333</td>\n",
       "      <td>0.227129</td>\n",
       "      <td>0.259567</td>\n",
       "      <td>0.614252</td>\n",
       "      <td>0.120000</td>\n",
       "      <td>0.034519</td>\n",
       "      <td>1.000000</td>\n",
       "      <td>0.545455</td>\n",
       "      <td>0.500000</td>\n",
       "      <td>0.500000</td>\n",
       "      <td>0.500000</td>\n",
       "      <td>0.000000</td>\n",
       "      <td>0.305263</td>\n",
       "      <td>1.000000</td>\n",
       "      <td>0.000000</td>\n",
       "      <td>0.000000</td>\n",
       "      <td>0.000000</td>\n",
       "      <td>0.000000</td>\n",
       "    </tr>\n",
       "    <tr>\n",
       "      <th>75%</th>\n",
       "      <td>0.692174</td>\n",
       "      <td>0.768145</td>\n",
       "      <td>0.887500</td>\n",
       "      <td>0.000000</td>\n",
       "      <td>0.000000</td>\n",
       "      <td>0.750000</td>\n",
       "      <td>0.340694</td>\n",
       "      <td>0.414309</td>\n",
       "      <td>0.684335</td>\n",
       "      <td>0.200000</td>\n",
       "      <td>0.050003</td>\n",
       "      <td>1.000000</td>\n",
       "      <td>0.818182</td>\n",
       "      <td>0.733333</td>\n",
       "      <td>0.833333</td>\n",
       "      <td>0.750000</td>\n",
       "      <td>0.000000</td>\n",
       "      <td>0.452632</td>\n",
       "      <td>1.000000</td>\n",
       "      <td>0.000000</td>\n",
       "      <td>1.000000</td>\n",
       "      <td>1.000000</td>\n",
       "      <td>0.000000</td>\n",
       "    </tr>\n",
       "    <tr>\n",
       "      <th>max</th>\n",
       "      <td>1.000000</td>\n",
       "      <td>1.000000</td>\n",
       "      <td>1.000000</td>\n",
       "      <td>1.000000</td>\n",
       "      <td>1.000000</td>\n",
       "      <td>1.000000</td>\n",
       "      <td>1.000000</td>\n",
       "      <td>1.000000</td>\n",
       "      <td>1.000000</td>\n",
       "      <td>1.000000</td>\n",
       "      <td>1.000000</td>\n",
       "      <td>1.000000</td>\n",
       "      <td>1.000000</td>\n",
       "      <td>1.000000</td>\n",
       "      <td>1.000000</td>\n",
       "      <td>1.000000</td>\n",
       "      <td>1.000000</td>\n",
       "      <td>1.000000</td>\n",
       "      <td>1.000000</td>\n",
       "      <td>1.000000</td>\n",
       "      <td>1.000000</td>\n",
       "      <td>1.000000</td>\n",
       "      <td>1.000000</td>\n",
       "    </tr>\n",
       "  </tbody>\n",
       "</table>\n",
       "</div>\n",
       "      <button class=\"colab-df-convert\" onclick=\"convertToInteractive('df-311c61ea-8d54-4121-83f2-b60544d216f4')\"\n",
       "              title=\"Convert this dataframe to an interactive table.\"\n",
       "              style=\"display:none;\">\n",
       "        \n",
       "  <svg xmlns=\"http://www.w3.org/2000/svg\" height=\"24px\"viewBox=\"0 0 24 24\"\n",
       "       width=\"24px\">\n",
       "    <path d=\"M0 0h24v24H0V0z\" fill=\"none\"/>\n",
       "    <path d=\"M18.56 5.44l.94 2.06.94-2.06 2.06-.94-2.06-.94-.94-2.06-.94 2.06-2.06.94zm-11 1L8.5 8.5l.94-2.06 2.06-.94-2.06-.94L8.5 2.5l-.94 2.06-2.06.94zm10 10l.94 2.06.94-2.06 2.06-.94-2.06-.94-.94-2.06-.94 2.06-2.06.94z\"/><path d=\"M17.41 7.96l-1.37-1.37c-.4-.4-.92-.59-1.43-.59-.52 0-1.04.2-1.43.59L10.3 9.45l-7.72 7.72c-.78.78-.78 2.05 0 2.83L4 21.41c.39.39.9.59 1.41.59.51 0 1.02-.2 1.41-.59l7.78-7.78 2.81-2.81c.8-.78.8-2.07 0-2.86zM5.41 20L4 18.59l7.72-7.72 1.47 1.35L5.41 20z\"/>\n",
       "  </svg>\n",
       "      </button>\n",
       "      \n",
       "  <style>\n",
       "    .colab-df-container {\n",
       "      display:flex;\n",
       "      flex-wrap:wrap;\n",
       "      gap: 12px;\n",
       "    }\n",
       "\n",
       "    .colab-df-convert {\n",
       "      background-color: #E8F0FE;\n",
       "      border: none;\n",
       "      border-radius: 50%;\n",
       "      cursor: pointer;\n",
       "      display: none;\n",
       "      fill: #1967D2;\n",
       "      height: 32px;\n",
       "      padding: 0 0 0 0;\n",
       "      width: 32px;\n",
       "    }\n",
       "\n",
       "    .colab-df-convert:hover {\n",
       "      background-color: #E2EBFA;\n",
       "      box-shadow: 0px 1px 2px rgba(60, 64, 67, 0.3), 0px 1px 3px 1px rgba(60, 64, 67, 0.15);\n",
       "      fill: #174EA6;\n",
       "    }\n",
       "\n",
       "    [theme=dark] .colab-df-convert {\n",
       "      background-color: #3B4455;\n",
       "      fill: #D2E3FC;\n",
       "    }\n",
       "\n",
       "    [theme=dark] .colab-df-convert:hover {\n",
       "      background-color: #434B5C;\n",
       "      box-shadow: 0px 1px 3px 1px rgba(0, 0, 0, 0.15);\n",
       "      filter: drop-shadow(0px 1px 2px rgba(0, 0, 0, 0.3));\n",
       "      fill: #FFFFFF;\n",
       "    }\n",
       "  </style>\n",
       "\n",
       "      <script>\n",
       "        const buttonEl =\n",
       "          document.querySelector('#df-311c61ea-8d54-4121-83f2-b60544d216f4 button.colab-df-convert');\n",
       "        buttonEl.style.display =\n",
       "          google.colab.kernel.accessAllowed ? 'block' : 'none';\n",
       "\n",
       "        async function convertToInteractive(key) {\n",
       "          const element = document.querySelector('#df-311c61ea-8d54-4121-83f2-b60544d216f4');\n",
       "          const dataTable =\n",
       "            await google.colab.kernel.invokeFunction('convertToInteractive',\n",
       "                                                     [key], {});\n",
       "          if (!dataTable) return;\n",
       "\n",
       "          const docLinkHtml = 'Like what you see? Visit the ' +\n",
       "            '<a target=\"_blank\" href=https://colab.research.google.com/notebooks/data_table.ipynb>data table notebook</a>'\n",
       "            + ' to learn more about interactive tables.';\n",
       "          element.innerHTML = '';\n",
       "          dataTable['output_type'] = 'display_data';\n",
       "          await google.colab.output.renderOutput(dataTable, element);\n",
       "          const docLink = document.createElement('div');\n",
       "          docLink.innerHTML = docLinkHtml;\n",
       "          element.appendChild(docLink);\n",
       "        }\n",
       "      </script>\n",
       "    </div>\n",
       "  </div>\n",
       "  "
      ],
      "text/plain": [
       "              temp         dwpt         rhum         prcp         snow  \\\n",
       "count  8760.000000  8760.000000  8760.000000  8760.000000  8760.000000   \n",
       "mean      0.575026     0.633145     0.712915     0.002455     0.004836   \n",
       "std       0.162253     0.166682     0.218779     0.031798     0.052988   \n",
       "min       0.000000     0.000000     0.000000     0.000000     0.000000   \n",
       "25%       0.462609     0.520161     0.575000     0.000000     0.000000   \n",
       "50%       0.566957     0.620968     0.787500     0.000000     0.000000   \n",
       "75%       0.692174     0.768145     0.887500     0.000000     0.000000   \n",
       "max       1.000000     1.000000     1.000000     1.000000     1.000000   \n",
       "\n",
       "              wdir         wspd         wpgt         pres         coco  \\\n",
       "count  8760.000000  8760.000000  8760.000000  8760.000000  8760.000000   \n",
       "mean      0.558018     0.288714     0.297010     0.597020     0.191689   \n",
       "std       0.246342     0.152588     0.165456     0.147128     0.198909   \n",
       "min       0.000000     0.000000     0.000000     0.000000     0.000000   \n",
       "25%       0.388889     0.227129     0.168053     0.519435     0.080000   \n",
       "50%       0.583333     0.227129     0.259567     0.614252     0.120000   \n",
       "75%       0.750000     0.340694     0.414309     0.684335     0.200000   \n",
       "max       1.000000     1.000000     1.000000     1.000000     1.000000   \n",
       "\n",
       "          el_price         year        month          day      weekday  \\\n",
       "count  8760.000000  8760.000000  8760.000000  8760.000000  8760.000000   \n",
       "mean      0.041149     0.665639     0.502439     0.490700     0.499543   \n",
       "std       0.031501     0.471793     0.313458     0.293248     0.333009   \n",
       "min       0.000000     0.000000     0.000000     0.000000     0.000000   \n",
       "25%       0.023265     0.000000     0.272727     0.233333     0.166667   \n",
       "50%       0.034519     1.000000     0.545455     0.500000     0.500000   \n",
       "75%       0.050003     1.000000     0.818182     0.733333     0.833333   \n",
       "max       1.000000     1.000000     1.000000     1.000000     1.000000   \n",
       "\n",
       "              hour   is_holiday  google_trends_electricity        train  \\\n",
       "count  8760.000000  8760.000000                8760.000000  8760.000000   \n",
       "mean      0.500000     0.032877                   0.369488     0.980822   \n",
       "std       0.300982     0.178324                   0.192332     0.137158   \n",
       "min       0.000000     0.000000                   0.000000     0.000000   \n",
       "25%       0.250000     0.000000                   0.273684     1.000000   \n",
       "50%       0.500000     0.000000                   0.305263     1.000000   \n",
       "75%       0.750000     0.000000                   0.452632     1.000000   \n",
       "max       1.000000     1.000000                   1.000000     1.000000   \n",
       "\n",
       "       season_Autumn  season_Spring  season_Summer  season_Winter  \n",
       "count    8760.000000    8760.000000    8760.000000    8760.000000  \n",
       "mean        0.249429       0.251941       0.252055       0.246575  \n",
       "std         0.432707       0.434152       0.434217       0.431042  \n",
       "min         0.000000       0.000000       0.000000       0.000000  \n",
       "25%         0.000000       0.000000       0.000000       0.000000  \n",
       "50%         0.000000       0.000000       0.000000       0.000000  \n",
       "75%         0.000000       1.000000       1.000000       0.000000  \n",
       "max         1.000000       1.000000       1.000000       1.000000  "
      ]
     },
     "execution_count": 14,
     "metadata": {},
     "output_type": "execute_result"
    }
   ],
   "source": [
    "train_test.describe()"
   ]
  },
  {
   "cell_type": "code",
   "execution_count": 15,
   "metadata": {
    "id": "RXkGd6wd5Coq"
   },
   "outputs": [],
   "source": [
    "# eraldan uuesti treening- ja testandmestiku\n",
    "train_df=train_test[train_test['train']==1]\n",
    "test_df=train_test[train_test['train']==0]\n",
    "train_df=train_df.drop(['train'],axis=1)\n",
    "test_df=test_df.drop(['train'],axis=1)"
   ]
  },
  {
   "cell_type": "code",
   "execution_count": 16,
   "metadata": {
    "id": "fE8Zsyt35Zvs"
   },
   "outputs": [],
   "source": [
    "# lisan treeningandmestikule tagasi 'consumption' atribuudi\n",
    "train_df = pd.concat([train_df,train['consumption']], axis=1)"
   ]
  },
  {
   "cell_type": "code",
   "execution_count": 17,
   "metadata": {
    "colab": {
     "base_uri": "https://localhost:8080/"
    },
    "collapsed": true,
    "id": "w3o_18sX5kox",
    "jupyter": {
     "outputs_hidden": true
    },
    "outputId": "bc6ed8c0-bc92-4d4a-f388-3a74a4d592c4",
    "tags": []
   },
   "outputs": [
    {
     "data": {
      "text/plain": [
       "(8592, 23)"
      ]
     },
     "execution_count": 17,
     "metadata": {},
     "output_type": "execute_result"
    }
   ],
   "source": [
    "train_df.shape"
   ]
  },
  {
   "cell_type": "code",
   "execution_count": 18,
   "metadata": {
    "colab": {
     "base_uri": "https://localhost:8080/"
    },
    "id": "Lv0DPZym5wMl",
    "outputId": "ad8903e0-a6d9-4313-d3ff-872dcf774456"
   },
   "outputs": [
    {
     "data": {
      "text/plain": [
       "(168, 22)"
      ]
     },
     "execution_count": 18,
     "metadata": {},
     "output_type": "execute_result"
    }
   ],
   "source": [
    "test_df.shape"
   ]
  },
  {
   "cell_type": "code",
   "execution_count": 19,
   "metadata": {
    "colab": {
     "base_uri": "https://localhost:8080/",
     "height": 642
    },
    "id": "zMlgme4N6g_y",
    "outputId": "ec75ddea-8aba-4700-f860-cf9b25c69b8a"
   },
   "outputs": [
    {
     "data": {
      "image/png": "[encoded data removed]",
      "text/plain": [
       "<Figure size 1080x576 with 1 Axes>"
      ]
     },
     "metadata": {
      "needs_background": "light"
     },
     "output_type": "display_data"
    }
   ],
   "source": [
    "# illustreerin teiste atribuutide korrelatsiooni 'consumption'iga\n",
    "\n",
    "plt.figure(figsize=(15,8))\n",
    "plt.style.use('ggplot')\n",
    "\n",
    "my_cmap = cm.get_cmap('Accent')\n",
    "\n",
    "train_df.corr()['consumption'].sort_values(ascending = False).plot(kind='bar', cmap=my_cmap)\n",
    "\n",
    "plt.title('Atribuutide korrelatsioon tarbimisega',fontsize=20)\n",
    "plt.xlabel('Attribuut', fontsize=20)\n",
    "plt.ylabel('Korrelatsioon',fontsize=20)\n",
    "\n",
    "plt.xticks(fontsize = 10) \n",
    "plt.yticks(fontsize = 20) \n",
    "plt.grid(True)\n",
    "plt.show() "
   ]
  },
  {
   "cell_type": "markdown",
   "metadata": {
    "id": "y5HYd6JrYSOE"
   },
   "source": [
    "**Lineaarregressioon**"
   ]
  },
  {
   "cell_type": "code",
   "execution_count": 20,
   "metadata": {
    "id": "ZF-bd87A8OGr"
   },
   "outputs": [],
   "source": [
    "y_lr = train_df['consumption']\n",
    "X_lr = train_df.drop(['consumption'],axis=1)\n",
    "train_X, val_X, train_y, val_y = train_test_split(X_lr, y_lr,random_state=0, test_size = 0.20)"
   ]
  },
  {
   "cell_type": "code",
   "execution_count": 21,
   "metadata": {
    "id": "Zph-Vudb9g3g"
   },
   "outputs": [],
   "source": [
    "model_lr = LinearRegression()\n",
    "model_lr.fit(train_X, train_y)\n",
    "val_predictions_lr = model_lr.predict(val_X)"
   ]
  },
  {
   "cell_type": "code",
   "execution_count": 22,
   "metadata": {
    "colab": {
     "base_uri": "https://localhost:8080/"
    },
    "id": "RpWxd46G-B7Y",
    "outputId": "2e128d92-2ff1-41b5-dcbd-75d34bce3ab0"
   },
   "outputs": [
    {
     "data": {
      "text/plain": [
       "0.6040714330090525"
      ]
     },
     "execution_count": 22,
     "metadata": {},
     "output_type": "execute_result"
    }
   ],
   "source": [
    "mean_absolute_error(val_y, val_predictions_lr)"
   ]
  },
  {
   "cell_type": "code",
   "execution_count": 23,
   "metadata": {
    "colab": {
     "base_uri": "https://localhost:8080/"
    },
    "id": "hp-7y3Gh-SHa",
    "outputId": "3744a22c-11ab-4cac-e5ed-910ee906ba43"
   },
   "outputs": [
    {
     "name": "stdout",
     "output_type": "stream",
     "text": [
      "Keskmine valideerimisvalimi MAE on 0.6053018360936587\n"
     ]
    }
   ],
   "source": [
    "# katse ristvalideerimisega\n",
    "\n",
    "model_lr = LinearRegression()\n",
    "\n",
    "n_folds = 4\n",
    "fold_MAEs = np.zeros(n_folds)\n",
    "\n",
    "y = np.array(train_df['consumption'])\n",
    "X = np.array(train_df.drop(['consumption'], axis = 1))\n",
    "\n",
    "folds = KFold(n_splits=n_folds, shuffle=True, random_state=0)\n",
    "\n",
    "folds.get_n_splits(X, y)\n",
    "\n",
    "fold_indx = 1\n",
    "\n",
    "for train_index, val_index in folds.split(X, y):\n",
    "  X_train, X_val = X[train_index], X[val_index]\n",
    "  y_train, y_val = y[train_index], y[val_index]\n",
    "\n",
    "  model_lr.fit(X_train, y_train)\n",
    "\n",
    "  val_predictions = model_lr.predict(X_val)\n",
    "  fold_MAEs[fold_indx-1] = mean_absolute_error(y_val, val_predictions)\n",
    "\n",
    "  fold_indx += 1\n",
    "\n",
    "print(f'Keskmine valideerimisvalimi MAE on {np.mean(fold_MAEs)}') \n"
   ]
  },
  {
   "cell_type": "markdown",
   "metadata": {
    "id": "5mp-PEdRZBEj"
   },
   "source": [
    "Ristvalideerimine midagi juurde ei andnud, tulemus veidi halvem."
   ]
  },
  {
   "cell_type": "code",
   "execution_count": 24,
   "metadata": {
    "colab": {
     "base_uri": "https://localhost:8080/"
    },
    "id": "XxbpN_TV_yog",
    "outputId": "da5b46fc-7be9-404e-9662-bc528a76ee53"
   },
   "outputs": [
    {
     "data": {
      "text/plain": [
       "LinearRegression()"
      ]
     },
     "execution_count": 24,
     "metadata": {},
     "output_type": "execute_result"
    }
   ],
   "source": [
    "model_lr = LinearRegression()\n",
    "model_lr.fit(X_lr, y_lr) #siin ei ole nüüd seda train-test splitti"
   ]
  },
  {
   "cell_type": "code",
   "execution_count": 25,
   "metadata": {
    "id": "T4m_POgz_y3e"
   },
   "outputs": [],
   "source": [
    "test_y_ennustused_lr = model_lr.predict(test_df)"
   ]
  },
  {
   "cell_type": "code",
   "execution_count": 26,
   "metadata": {
    "id": "zZkIeyRK_zBo"
   },
   "outputs": [],
   "source": [
    "# genereerin Kaggle'i ennustuste faili\n",
    "submission_lr = pd.DataFrame(\n",
    "    {'time': test.time, 'consumption': test_y_ennustused_lr},\n",
    "    columns = ['time', 'consumption'])\n",
    "submission_lr.to_csv('submission_lr.csv', index = False)"
   ]
  },
  {
   "cell_type": "markdown",
   "metadata": {
    "id": "qFCS4ve6COU4"
   },
   "source": [
    "Kaggle'i tulemuseks andis 0.44184."
   ]
  },
  {
   "cell_type": "markdown",
   "metadata": {
    "id": "3tjKSa_jasqn"
   },
   "source": [
    "**Ridge, Lasso ja ElasticNet regressioonid**"
   ]
  },
  {
   "cell_type": "code",
   "execution_count": 27,
   "metadata": {
    "id": "d7kmU92PBrdz"
   },
   "outputs": [],
   "source": [
    "lambda_ = 1\n",
    "\n",
    "lr = LinearRegression()\n",
    "lr_ridge = Ridge(lambda_)\n",
    "lr_lasso = Lasso(lambda_)\n",
    "lr_elastic = ElasticNet(alpha = lambda_)\n",
    "\n",
    "lr.fit(X_lr, y_lr)\n",
    "lr_ridge.fit(X_lr, y_lr)\n",
    "lr_lasso.fit(X_lr, y_lr)\n",
    "lr_elastic.fit(X_lr, y_lr)\n",
    "\n",
    "predict_lr = lr.predict(val_X)\n",
    "predict_ridge = lr_ridge.predict(val_X)\n",
    "predict_lasso = lr_lasso.predict(val_X)\n",
    "predict_elastic = lr_elastic.predict(val_X)"
   ]
  },
  {
   "cell_type": "code",
   "execution_count": 28,
   "metadata": {
    "colab": {
     "base_uri": "https://localhost:8080/"
    },
    "id": "GWp-SXePeDcq",
    "outputId": "448fee6f-654c-4b63-fc9f-6ddb585fedf0"
   },
   "outputs": [
    {
     "name": "stdout",
     "output_type": "stream",
     "text": [
      "Valideerimisvalimi lineaarregressiooni MAE on 0.6006756380890054.\n",
      "Valideerimisvalimi ridge regressiooni MAE on 0.6012899604219334.\n",
      "Valideerimisvalimi lasso regressiooni MAE on 0.6684276661840554.\n",
      "Valideerimisvalimi elasticnet regressiooni MAE on 0.6684276661840554.\n"
     ]
    }
   ],
   "source": [
    "mae_lrr = mean_absolute_error(val_y, predict_lr)\n",
    "print(f'Valideerimisvalimi lineaarregressiooni MAE on {mae_lrr}.')\n",
    "\n",
    "mae_ridge = mean_absolute_error(val_y, predict_ridge)\n",
    "print(f'Valideerimisvalimi ridge regressiooni MAE on {mae_ridge}.')\n",
    "\n",
    "mae_lasso = mean_absolute_error(val_y, predict_lasso)\n",
    "print(f'Valideerimisvalimi lasso regressiooni MAE on {mae_lasso}.')\n",
    "\n",
    "mae_elastic = mean_absolute_error(val_y, predict_elastic)\n",
    "print(f'Valideerimisvalimi elasticnet regressiooni MAE on {mae_elastic}.')\n"
   ]
  },
  {
   "cell_type": "code",
   "execution_count": 29,
   "metadata": {
    "id": "5_vUxTT5t8j2"
   },
   "outputs": [],
   "source": [
    "# genereerin Kaggle'i ennustuste faili RIDGE jaoks\n",
    "lambda_ = 1 \n",
    "model_ridge = Ridge(lambda_)\n",
    "model_ridge.fit(X_lr, y_lr) \n",
    "test_y_ennustused_ridge = model_ridge.predict(test_df)"
   ]
  },
  {
   "cell_type": "code",
   "execution_count": 30,
   "metadata": {
    "id": "mTXOL7ZSuj_F"
   },
   "outputs": [],
   "source": [
    "submission_ridge = pd.DataFrame(\n",
    "    {'time': test.time, 'consumption': test_y_ennustused_ridge},\n",
    "    columns = ['time', 'consumption'])\n",
    "submission_ridge.to_csv('submission_ridge.csv', index = False)"
   ]
  },
  {
   "cell_type": "markdown",
   "metadata": {
    "id": "j3y-biJavazo"
   },
   "source": [
    "Kaggle'i tulemuseks andis 0.40911."
   ]
  },
  {
   "cell_type": "code",
   "execution_count": 31,
   "metadata": {
    "id": "BIFtXhh2x7Mj"
   },
   "outputs": [],
   "source": [
    "# genereerin Kaggle'i ennustuste faili LASSO jaoks\n",
    "lambda_ = 1 \n",
    "model_lasso = Lasso(lambda_)\n",
    "model_lasso.fit(X_lr, y_lr) \n",
    "test_y_ennustused_lasso = model_lasso.predict(test_df)"
   ]
  },
  {
   "cell_type": "code",
   "execution_count": 32,
   "metadata": {
    "id": "BJZfhoSzx7YK"
   },
   "outputs": [],
   "source": [
    "submission_lasso = pd.DataFrame(\n",
    "    {'time': test.time, 'consumption': test_y_ennustused_lasso},\n",
    "    columns = ['time', 'consumption'])\n",
    "submission_lasso.to_csv('submission_lasso.csv', index = False)"
   ]
  },
  {
   "cell_type": "markdown",
   "metadata": {
    "id": "zjemvbUIx7wm"
   },
   "source": [
    "Kaggle'i tulemuseks andis 0.59306."
   ]
  },
  {
   "cell_type": "markdown",
   "metadata": {
    "id": "XZhGSlFMpUW1"
   },
   "source": [
    "**Otsustuspuu**"
   ]
  },
  {
   "cell_type": "code",
   "execution_count": 33,
   "metadata": {
    "colab": {
     "base_uri": "https://localhost:8080/"
    },
    "id": "hONERXL7eE-l",
    "outputId": "7c893b4b-bf39-40d9-ddd3-d9559bcefd4a"
   },
   "outputs": [
    {
     "name": "stdout",
     "output_type": "stream",
     "text": [
      "Keskmine MAE sügavusele 1 on 0.6096382119397998.\n",
      "Keskmine MAE sügavusele 2 on 0.6028876863326238.\n",
      "Keskmine MAE sügavusele 3 on 0.5790933650985636.\n",
      "Keskmine MAE sügavusele 4 on 0.574374340502702.\n",
      "Keskmine MAE sügavusele 5 on 0.5551377285887014.\n",
      "Keskmine MAE sügavusele 6 on 0.5452116418014454.\n",
      "Keskmine MAE sügavusele 7 on 0.5411004960231558.\n",
      "Keskmine MAE sügavusele 8 on 0.542967478316541.\n",
      "Keskmine MAE sügavusele 9 on 0.541922394024945.\n",
      "Keskmine MAE sügavusele 10 on 0.541535494712619.\n",
      "Keskmine MAE sügavusele 11 on 0.5476523370453696.\n",
      "Keskmine MAE sügavusele 12 on 0.5516267546344645.\n",
      "Keskmine MAE sügavusele 13 on 0.5680368196629983.\n",
      "Keskmine MAE sügavusele 14 on 0.5756310008923609.\n",
      "Keskmine MAE sügavusele 15 on 0.5791369022064741.\n",
      "Keskmine MAE sügavusele 20 on 0.6033803157638413.\n",
      "Keskmine MAE sügavusele 30 on 0.6046469681098696.\n",
      "Keskmine MAE sügavusele 40 on 0.6064135242085662.\n",
      "Keskmine MAE sügavusele 50 on 0.6059870810055866.\n"
     ]
    }
   ],
   "source": [
    "max_depths = [1, 2, 3, 4, 5, 6, 7, 8, 9, 10, 11, 12, 13, 14, 15, 20, 30, 40, 50]\n",
    "\n",
    "error = np.zeros(len(max_depths))\n",
    "\n",
    "y = np.array(train_df['consumption'])\n",
    "X = np.array(train_df.drop(['consumption'], axis = 1))\n",
    "\n",
    "for i, depth in enumerate(max_depths):\n",
    "\n",
    "  kf = KFold(n_splits=4, random_state=0, shuffle=True)\n",
    "\n",
    "  fold_mae = []\n",
    "  for train_index, val_index in kf.split(X):\n",
    "\n",
    "    X_train, X_val = X[train_index], X[val_index]\n",
    "    y_train, y_val = y[train_index], y[val_index]\n",
    "\n",
    "    model = DecisionTreeRegressor(max_depth = depth)\n",
    "\n",
    "    model.fit(X_train, y_train) \n",
    "\n",
    "    predictions = model.predict(X_val)\n",
    "\n",
    "    error_mae = mean_absolute_error(y_val, predictions)\n",
    "    fold_mae.append(error_mae)\n",
    "\n",
    "  print(f'Keskmine MAE sügavusele {depth} on {np.mean(fold_mae)}.')\n",
    "  error[i] = np.mean(fold_mae)"
   ]
  },
  {
   "cell_type": "code",
   "execution_count": 34,
   "metadata": {
    "colab": {
     "base_uri": "https://localhost:8080/",
     "height": 408
    },
    "id": "_GeMvI2Nqb18",
    "outputId": "c72f05be-6c87-4b79-ce91-0d4bd20c1256"
   },
   "outputs": [
    {
     "data": {
      "text/plain": [
       "Text(0, 0.5, 'MAE')"
      ]
     },
     "execution_count": 34,
     "metadata": {},
     "output_type": "execute_result"
    },
    {
     "data": {
      "image/png": "[encoded data removed]",
      "text/plain": [
       "<Figure size 1800x432 with 1 Axes>"
      ]
     },
     "metadata": {},
     "output_type": "display_data"
    }
   ],
   "source": [
    "plt.figure(figsize=(25, 6))\n",
    "\n",
    "plt.plot(max_depths, error, marker = 'o')\n",
    "plt.xlabel('Puu sügavus (depth)')\n",
    "plt.ylabel('MAE')"
   ]
  },
  {
   "cell_type": "code",
   "execution_count": 35,
   "metadata": {
    "colab": {
     "base_uri": "https://localhost:8080/"
    },
    "id": "YtDFOKaPqkG-",
    "outputId": "e536cb47-6f58-4422-fb39-541182dffb35"
   },
   "outputs": [
    {
     "name": "stdout",
     "output_type": "stream",
     "text": [
      "Otsustuspuu MAE on 0.5097244146589971.\n"
     ]
    }
   ],
   "source": [
    "model_dt = DecisionTreeRegressor(max_depth = 9)\n",
    "model_dt.fit(train_X, train_y)\n",
    "\n",
    "predictions_dt = model_dt.predict(val_X)\n",
    "mae_dt = mean_absolute_error(val_y, predictions_dt)\n",
    "\n",
    "print(f'Otsustuspuu MAE on {mae_dt}.')"
   ]
  },
  {
   "cell_type": "code",
   "execution_count": 36,
   "metadata": {
    "id": "mWRoE_EBzSCd"
   },
   "outputs": [],
   "source": [
    "model_Dt = DecisionTreeRegressor(max_depth = 9)\n",
    "model_Dt.fit(X_lr, y_lr)\n",
    "\n",
    "test_y_predictions_dt = model_Dt.predict(test_df)"
   ]
  },
  {
   "cell_type": "code",
   "execution_count": 37,
   "metadata": {
    "id": "JRVncNFrzSGn"
   },
   "outputs": [],
   "source": [
    "submission_dt = pd.DataFrame(\n",
    "    {'time': test.time, 'consumption': test_y_predictions_dt},\n",
    "    columns = ['time', 'consumption'])\n",
    "submission_dt.to_csv('submission_dt.csv', index = False)"
   ]
  },
  {
   "cell_type": "markdown",
   "metadata": {
    "id": "143w6s9J0Hl5"
   },
   "source": [
    "Kaggle'i tulemuseks andis 1.33609. Ju on tegu ülesobitamisega."
   ]
  },
  {
   "cell_type": "markdown",
   "metadata": {
    "id": "5WLtPqEnL_cT"
   },
   "source": [
    "**Random Forest**"
   ]
  },
  {
   "cell_type": "code",
   "execution_count": 38,
   "metadata": {
    "colab": {
     "base_uri": "https://localhost:8080/"
    },
    "id": "vSNIYb7o0O_O",
    "outputId": "d818c07d-38f8-4bf8-ea78-20e06e98a506"
   },
   "outputs": [
    {
     "name": "stdout",
     "output_type": "stream",
     "text": [
      "Keskmine MAE 50 puule on 0.48361642923649906\n",
      "Keskmine MAE 100 puule on 0.4782721426908752\n",
      "Keskmine MAE 500 puule on 0.4772387399906891\n",
      "Keskmine MAE 750 puule on 0.4758865282433271\n",
      "Keskmine MAE 1000 puule on 0.4758690811219739\n"
     ]
    }
   ],
   "source": [
    "nr_trees = [50, 100, 500, 750, 1000]\n",
    "\n",
    "error = np.zeros(len(nr_trees))\n",
    "\n",
    "y = np.array(train_df['consumption'])\n",
    "X = np.array(train_df.drop(['consumption'], axis = 1))\n",
    "\n",
    "for i, tree in enumerate(nr_trees):\n",
    "\n",
    "  kf = KFold(n_splits=4, random_state=0, shuffle=True)\n",
    "\n",
    "  fold_mae = []\n",
    "  for train_index, val_index in kf.split(X):\n",
    "\n",
    "    X_train, X_val = X[train_index], X[val_index]\n",
    "    y_train, y_val = y[train_index], y[val_index]\n",
    "\n",
    "    model = RandomForestRegressor(n_estimators = tree)\n",
    "\n",
    "    model.fit(X_train, y_train) \n",
    "\n",
    "    predictions = model.predict(X_val)\n",
    "\n",
    "    error_mae = mean_absolute_error(y_val, predictions)\n",
    "    fold_mae.append(error_mae)\n",
    "\n",
    "  print(f'Keskmine MAE {tree} puule on {np.mean(fold_mae)}')\n",
    "  error[i] = np.mean(fold_mae)"
   ]
  },
  {
   "cell_type": "code",
   "execution_count": 39,
   "metadata": {
    "colab": {
     "base_uri": "https://localhost:8080/",
     "height": 412
    },
    "id": "HrfzAbVyQOTF",
    "outputId": "a05eee9d-0c28-46cf-f2f2-e20f2d5d49ed"
   },
   "outputs": [
    {
     "data": {
      "text/plain": [
       "Text(0, 0.5, 'MAE')"
      ]
     },
     "execution_count": 39,
     "metadata": {},
     "output_type": "execute_result"
    },
    {
     "data": {
      "image/png": "[encoded data removed]",
      "text/plain": [
       "<Figure size 1800x432 with 1 Axes>"
      ]
     },
     "metadata": {},
     "output_type": "display_data"
    }
   ],
   "source": [
    "plt.figure(figsize=(25, 6))\n",
    "\n",
    "plt.plot(nr_trees, error)\n",
    "plt.xlabel('Puude arv')\n",
    "plt.ylabel('MAE')"
   ]
  },
  {
   "cell_type": "code",
   "execution_count": 40,
   "metadata": {
    "colab": {
     "base_uri": "https://localhost:8080/"
    },
    "id": "whRDX79uQZp7",
    "outputId": "96ea5534-f196-4fef-e2ab-4eba878ff4b9"
   },
   "outputs": [
    {
     "name": "stdout",
     "output_type": "stream",
     "text": [
      "MAE Random Foresti puhul on 0.46152981966259454\n"
     ]
    }
   ],
   "source": [
    "model_rf = RandomForestRegressor(n_estimators = 500)\n",
    "model_rf.fit(train_X, train_y)\n",
    "\n",
    "predictions_rf = model_rf.predict(val_X)\n",
    "mae_rf = mean_absolute_error(val_y, predictions_rf) \n",
    "\n",
    "print(f'MAE Random Foresti puhul on {mae_rf}')"
   ]
  },
  {
   "cell_type": "code",
   "execution_count": 41,
   "metadata": {
    "id": "t0pW8d46QZuy"
   },
   "outputs": [],
   "source": [
    "model_rf = RandomForestRegressor(n_estimators=500)\n",
    "model_rf.fit(X_lr, y_lr)\n",
    "\n",
    "test_y_ennustused_rf = model_rf.predict(test_df)"
   ]
  },
  {
   "cell_type": "code",
   "execution_count": 42,
   "metadata": {
    "id": "5aG35IodQZ9J"
   },
   "outputs": [],
   "source": [
    "submission_rf = pd.DataFrame(\n",
    "    {'time': test.time, 'consumption': test_y_ennustused_rf},\n",
    "    columns = ['time', 'consumption'])\n",
    "submission_rf.to_csv('submission_rf.csv', index = False)"
   ]
  },
  {
   "cell_type": "markdown",
   "metadata": {
    "id": "PIlT9d6FRgWR"
   },
   "source": [
    "Kaggle'i tulemuseks andis ."
   ]
  }
 ],
 "metadata": {
  "accelerator": "GPU",
  "colab": {
   "collapsed_sections": [],
   "provenance": []
  },
  "gpuClass": "standard",
  "kernelspec": {
   "display_name": "Python 3 (ipykernel)",
   "language": "python",
   "name": "python3"
  },
  "language_info": {
   "codemirror_mode": {
    "name": "ipython",
    "version": 3
   },
   "file_extension": ".py",
   "mimetype": "text/x-python",
   "name": "python",
   "nbconvert_exporter": "python",
   "pygments_lexer": "ipython3",
   "version": "3.8.13"
  }
 },
 "nbformat": 4,
 "nbformat_minor": 4
}
