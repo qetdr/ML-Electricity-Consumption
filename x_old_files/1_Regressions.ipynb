{
  "nbformat": 4,
  "nbformat_minor": 0,
  "metadata": {
    "colab": {
      "provenance": [],
      "collapsed_sections": []
    },
    "kernelspec": {
      "name": "python3",
      "display_name": "Python 3"
    },
    "language_info": {
      "name": "python"
    },
    "accelerator": "GPU",
    "gpuClass": "standard"
  },
  "cells": [
    {
      "cell_type": "markdown",
      "source": [
        "# MAE arvutused regressioonide ja otsustuspuuga "
      ],
      "metadata": {
        "id": "btXdfrd9xJBd"
      }
    },
    {
      "cell_type": "markdown",
      "source": [
        "**Teegid**"
      ],
      "metadata": {
        "id": "hR31FYyiTe95"
      }
    },
    {
      "cell_type": "code",
      "source": [
        "# arvutamine ja joonistamine\n",
        "import numpy as np \n",
        "import pandas as pd\n",
        "import matplotlib.pyplot as plt\n",
        "import matplotlib.cm as cm\n",
        "\n",
        "# treenimine, tulemused\n",
        "from sklearn.model_selection import train_test_split\n",
        "from sklearn.model_selection import KFold\n",
        "from sklearn.metrics import mean_absolute_error\n",
        "\n",
        "# regressorid\n",
        "from sklearn.linear_model import LinearRegression, Lasso, Ridge, ElasticNet\n",
        "from sklearn.tree import DecisionTreeRegressor\n",
        "from sklearn.ensemble import RandomForestRegressor\n",
        "\n",
        "# tuunimine\n",
        "from sklearn.model_selection import cross_val_score\n",
        "from sklearn.model_selection import GridSearchCV\n",
        "from sklearn.model_selection import RandomizedSearchCV\n",
        "#from sklearn.linear_model import RidgeCV\n",
        "#from sklearn.model_selection import RepeatedKFold\n",
        "\n",
        "# We don't like warnings\n",
        "import warnings\n",
        "warnings.filterwarnings('ignore')"
      ],
      "metadata": {
        "id": "MZN6nW7oxIOX"
      },
      "execution_count": 2,
      "outputs": []
    },
    {
      "cell_type": "markdown",
      "source": [
        "**Andmed ja puhastamine**"
      ],
      "metadata": {
        "id": "JEv1tbb7UD8G"
      }
    },
    {
      "cell_type": "code",
      "source": [
        "# laen treening- ja testandmed\n",
        "train =  pd.read_csv('df_clean.csv')\n",
        "test = pd.read_csv('df_clean_test.csv')"
      ],
      "metadata": {
        "id": "WrA6hVMYUFmS"
      },
      "execution_count": 3,
      "outputs": []
    },
    {
      "cell_type": "code",
      "source": [
        "train.shape"
      ],
      "metadata": {
        "colab": {
          "base_uri": "https://localhost:8080/"
        },
        "id": "2qKv6HinxIQ_",
        "outputId": "6644acca-418f-40d5-bbfb-5f54c176943a"
      },
      "execution_count": 4,
      "outputs": [
        {
          "output_type": "execute_result",
          "data": {
            "text/plain": [
              "(8592, 25)"
            ]
          },
          "metadata": {},
          "execution_count": 4
        }
      ]
    },
    {
      "cell_type": "code",
      "source": [
        "test.shape"
      ],
      "metadata": {
        "colab": {
          "base_uri": "https://localhost:8080/"
        },
        "id": "3a-wT1op1ewa",
        "outputId": "0c8d8e0c-c5ff-44f9-bc36-a53ad638c90e"
      },
      "execution_count": 5,
      "outputs": [
        {
          "output_type": "execute_result",
          "data": {
            "text/plain": [
              "(168, 24)"
            ]
          },
          "metadata": {},
          "execution_count": 5
        }
      ]
    },
    {
      "cell_type": "code",
      "source": [
        "pd.set_option('display.max_columns', 500)\n",
        "train.head()"
      ],
      "metadata": {
        "colab": {
          "base_uri": "https://localhost:8080/",
          "height": 354
        },
        "id": "BnwUKIsNyFAL",
        "outputId": "fe357730-38a4-427e-a6c1-d40f53060f9f"
      },
      "execution_count": 6,
      "outputs": [
        {
          "output_type": "execute_result",
          "data": {
            "text/plain": [
              "   Unnamed: 0                       time  temp  dwpt  rhum  prcp  snow   wdir  \\\n",
              "0           0  2021-09-01 00:00:00+03:00  11.2  10.3  94.0   0.0   0.0  320.0   \n",
              "1           1  2021-09-01 01:00:00+03:00  10.7   9.6  93.0   0.0   0.0  320.0   \n",
              "2           2  2021-09-01 02:00:00+03:00   9.9   9.0  94.0   0.0   0.0  320.0   \n",
              "3           3  2021-09-01 03:00:00+03:00  10.0   8.4  90.0   0.0   0.0  330.0   \n",
              "4           4  2021-09-01 04:00:00+03:00   9.0   8.1  94.0   0.0   0.0  300.0   \n",
              "\n",
              "   wspd  wpgt    pres  coco  el_price  consumption            timestamp  \\\n",
              "0   7.2  16.7  1012.6   2.0   0.09016        0.577  2021-09-01 00:00:00   \n",
              "1   7.2  13.0  1012.6   2.0   0.09251        0.594  2021-09-01 01:00:00   \n",
              "2   7.2  13.0  1012.2   2.0   0.08890        0.685  2021-09-01 02:00:00   \n",
              "3   7.2  13.0  1011.9   1.0   0.08735        1.016  2021-09-01 03:00:00   \n",
              "4   3.6  13.0  1011.4   2.0   0.08688        0.677  2021-09-01 04:00:00   \n",
              "\n",
              "              datetime  year  month  day  weekday  hour        date  \\\n",
              "0  2021-09-01 00:00:00  2021      9    1        2     0  2021-09-01   \n",
              "1  2021-09-01 01:00:00  2021      9    1        2     1  2021-09-01   \n",
              "2  2021-09-01 02:00:00  2021      9    1        2     2  2021-09-01   \n",
              "3  2021-09-01 03:00:00  2021      9    1        2     3  2021-09-01   \n",
              "4  2021-09-01 04:00:00  2021      9    1        2     4  2021-09-01   \n",
              "\n",
              "   is_holiday  season  google_trends_electricity  \n",
              "0       False  Autumn                          5  \n",
              "1       False  Autumn                          5  \n",
              "2       False  Autumn                          5  \n",
              "3       False  Autumn                          5  \n",
              "4       False  Autumn                          5  "
            ],
            "text/html": [
              "\n",
              "  <div id=\"df-0cdc2390-1ad2-4f20-87bb-30cfb6f1d126\">\n",
              "    <div class=\"colab-df-container\">\n",
              "      <div>\n",
              "<style scoped>\n",
              "    .dataframe tbody tr th:only-of-type {\n",
              "        vertical-align: middle;\n",
              "    }\n",
              "\n",
              "    .dataframe tbody tr th {\n",
              "        vertical-align: top;\n",
              "    }\n",
              "\n",
              "    .dataframe thead th {\n",
              "        text-align: right;\n",
              "    }\n",
              "</style>\n",
              "<table border=\"1\" class=\"dataframe\">\n",
              "  <thead>\n",
              "    <tr style=\"text-align: right;\">\n",
              "      <th></th>\n",
              "      <th>Unnamed: 0</th>\n",
              "      <th>time</th>\n",
              "      <th>temp</th>\n",
              "      <th>dwpt</th>\n",
              "      <th>rhum</th>\n",
              "      <th>prcp</th>\n",
              "      <th>snow</th>\n",
              "      <th>wdir</th>\n",
              "      <th>wspd</th>\n",
              "      <th>wpgt</th>\n",
              "      <th>pres</th>\n",
              "      <th>coco</th>\n",
              "      <th>el_price</th>\n",
              "      <th>consumption</th>\n",
              "      <th>timestamp</th>\n",
              "      <th>datetime</th>\n",
              "      <th>year</th>\n",
              "      <th>month</th>\n",
              "      <th>day</th>\n",
              "      <th>weekday</th>\n",
              "      <th>hour</th>\n",
              "      <th>date</th>\n",
              "      <th>is_holiday</th>\n",
              "      <th>season</th>\n",
              "      <th>google_trends_electricity</th>\n",
              "    </tr>\n",
              "  </thead>\n",
              "  <tbody>\n",
              "    <tr>\n",
              "      <th>0</th>\n",
              "      <td>0</td>\n",
              "      <td>2021-09-01 00:00:00+03:00</td>\n",
              "      <td>11.2</td>\n",
              "      <td>10.3</td>\n",
              "      <td>94.0</td>\n",
              "      <td>0.0</td>\n",
              "      <td>0.0</td>\n",
              "      <td>320.0</td>\n",
              "      <td>7.2</td>\n",
              "      <td>16.7</td>\n",
              "      <td>1012.6</td>\n",
              "      <td>2.0</td>\n",
              "      <td>0.09016</td>\n",
              "      <td>0.577</td>\n",
              "      <td>2021-09-01 00:00:00</td>\n",
              "      <td>2021-09-01 00:00:00</td>\n",
              "      <td>2021</td>\n",
              "      <td>9</td>\n",
              "      <td>1</td>\n",
              "      <td>2</td>\n",
              "      <td>0</td>\n",
              "      <td>2021-09-01</td>\n",
              "      <td>False</td>\n",
              "      <td>Autumn</td>\n",
              "      <td>5</td>\n",
              "    </tr>\n",
              "    <tr>\n",
              "      <th>1</th>\n",
              "      <td>1</td>\n",
              "      <td>2021-09-01 01:00:00+03:00</td>\n",
              "      <td>10.7</td>\n",
              "      <td>9.6</td>\n",
              "      <td>93.0</td>\n",
              "      <td>0.0</td>\n",
              "      <td>0.0</td>\n",
              "      <td>320.0</td>\n",
              "      <td>7.2</td>\n",
              "      <td>13.0</td>\n",
              "      <td>1012.6</td>\n",
              "      <td>2.0</td>\n",
              "      <td>0.09251</td>\n",
              "      <td>0.594</td>\n",
              "      <td>2021-09-01 01:00:00</td>\n",
              "      <td>2021-09-01 01:00:00</td>\n",
              "      <td>2021</td>\n",
              "      <td>9</td>\n",
              "      <td>1</td>\n",
              "      <td>2</td>\n",
              "      <td>1</td>\n",
              "      <td>2021-09-01</td>\n",
              "      <td>False</td>\n",
              "      <td>Autumn</td>\n",
              "      <td>5</td>\n",
              "    </tr>\n",
              "    <tr>\n",
              "      <th>2</th>\n",
              "      <td>2</td>\n",
              "      <td>2021-09-01 02:00:00+03:00</td>\n",
              "      <td>9.9</td>\n",
              "      <td>9.0</td>\n",
              "      <td>94.0</td>\n",
              "      <td>0.0</td>\n",
              "      <td>0.0</td>\n",
              "      <td>320.0</td>\n",
              "      <td>7.2</td>\n",
              "      <td>13.0</td>\n",
              "      <td>1012.2</td>\n",
              "      <td>2.0</td>\n",
              "      <td>0.08890</td>\n",
              "      <td>0.685</td>\n",
              "      <td>2021-09-01 02:00:00</td>\n",
              "      <td>2021-09-01 02:00:00</td>\n",
              "      <td>2021</td>\n",
              "      <td>9</td>\n",
              "      <td>1</td>\n",
              "      <td>2</td>\n",
              "      <td>2</td>\n",
              "      <td>2021-09-01</td>\n",
              "      <td>False</td>\n",
              "      <td>Autumn</td>\n",
              "      <td>5</td>\n",
              "    </tr>\n",
              "    <tr>\n",
              "      <th>3</th>\n",
              "      <td>3</td>\n",
              "      <td>2021-09-01 03:00:00+03:00</td>\n",
              "      <td>10.0</td>\n",
              "      <td>8.4</td>\n",
              "      <td>90.0</td>\n",
              "      <td>0.0</td>\n",
              "      <td>0.0</td>\n",
              "      <td>330.0</td>\n",
              "      <td>7.2</td>\n",
              "      <td>13.0</td>\n",
              "      <td>1011.9</td>\n",
              "      <td>1.0</td>\n",
              "      <td>0.08735</td>\n",
              "      <td>1.016</td>\n",
              "      <td>2021-09-01 03:00:00</td>\n",
              "      <td>2021-09-01 03:00:00</td>\n",
              "      <td>2021</td>\n",
              "      <td>9</td>\n",
              "      <td>1</td>\n",
              "      <td>2</td>\n",
              "      <td>3</td>\n",
              "      <td>2021-09-01</td>\n",
              "      <td>False</td>\n",
              "      <td>Autumn</td>\n",
              "      <td>5</td>\n",
              "    </tr>\n",
              "    <tr>\n",
              "      <th>4</th>\n",
              "      <td>4</td>\n",
              "      <td>2021-09-01 04:00:00+03:00</td>\n",
              "      <td>9.0</td>\n",
              "      <td>8.1</td>\n",
              "      <td>94.0</td>\n",
              "      <td>0.0</td>\n",
              "      <td>0.0</td>\n",
              "      <td>300.0</td>\n",
              "      <td>3.6</td>\n",
              "      <td>13.0</td>\n",
              "      <td>1011.4</td>\n",
              "      <td>2.0</td>\n",
              "      <td>0.08688</td>\n",
              "      <td>0.677</td>\n",
              "      <td>2021-09-01 04:00:00</td>\n",
              "      <td>2021-09-01 04:00:00</td>\n",
              "      <td>2021</td>\n",
              "      <td>9</td>\n",
              "      <td>1</td>\n",
              "      <td>2</td>\n",
              "      <td>4</td>\n",
              "      <td>2021-09-01</td>\n",
              "      <td>False</td>\n",
              "      <td>Autumn</td>\n",
              "      <td>5</td>\n",
              "    </tr>\n",
              "  </tbody>\n",
              "</table>\n",
              "</div>\n",
              "      <button class=\"colab-df-convert\" onclick=\"convertToInteractive('df-0cdc2390-1ad2-4f20-87bb-30cfb6f1d126')\"\n",
              "              title=\"Convert this dataframe to an interactive table.\"\n",
              "              style=\"display:none;\">\n",
              "        \n",
              "  <svg xmlns=\"http://www.w3.org/2000/svg\" height=\"24px\"viewBox=\"0 0 24 24\"\n",
              "       width=\"24px\">\n",
              "    <path d=\"M0 0h24v24H0V0z\" fill=\"none\"/>\n",
              "    <path d=\"M18.56 5.44l.94 2.06.94-2.06 2.06-.94-2.06-.94-.94-2.06-.94 2.06-2.06.94zm-11 1L8.5 8.5l.94-2.06 2.06-.94-2.06-.94L8.5 2.5l-.94 2.06-2.06.94zm10 10l.94 2.06.94-2.06 2.06-.94-2.06-.94-.94-2.06-.94 2.06-2.06.94z\"/><path d=\"M17.41 7.96l-1.37-1.37c-.4-.4-.92-.59-1.43-.59-.52 0-1.04.2-1.43.59L10.3 9.45l-7.72 7.72c-.78.78-.78 2.05 0 2.83L4 21.41c.39.39.9.59 1.41.59.51 0 1.02-.2 1.41-.59l7.78-7.78 2.81-2.81c.8-.78.8-2.07 0-2.86zM5.41 20L4 18.59l7.72-7.72 1.47 1.35L5.41 20z\"/>\n",
              "  </svg>\n",
              "      </button>\n",
              "      \n",
              "  <style>\n",
              "    .colab-df-container {\n",
              "      display:flex;\n",
              "      flex-wrap:wrap;\n",
              "      gap: 12px;\n",
              "    }\n",
              "\n",
              "    .colab-df-convert {\n",
              "      background-color: #E8F0FE;\n",
              "      border: none;\n",
              "      border-radius: 50%;\n",
              "      cursor: pointer;\n",
              "      display: none;\n",
              "      fill: #1967D2;\n",
              "      height: 32px;\n",
              "      padding: 0 0 0 0;\n",
              "      width: 32px;\n",
              "    }\n",
              "\n",
              "    .colab-df-convert:hover {\n",
              "      background-color: #E2EBFA;\n",
              "      box-shadow: 0px 1px 2px rgba(60, 64, 67, 0.3), 0px 1px 3px 1px rgba(60, 64, 67, 0.15);\n",
              "      fill: #174EA6;\n",
              "    }\n",
              "\n",
              "    [theme=dark] .colab-df-convert {\n",
              "      background-color: #3B4455;\n",
              "      fill: #D2E3FC;\n",
              "    }\n",
              "\n",
              "    [theme=dark] .colab-df-convert:hover {\n",
              "      background-color: #434B5C;\n",
              "      box-shadow: 0px 1px 3px 1px rgba(0, 0, 0, 0.15);\n",
              "      filter: drop-shadow(0px 1px 2px rgba(0, 0, 0, 0.3));\n",
              "      fill: #FFFFFF;\n",
              "    }\n",
              "  </style>\n",
              "\n",
              "      <script>\n",
              "        const buttonEl =\n",
              "          document.querySelector('#df-0cdc2390-1ad2-4f20-87bb-30cfb6f1d126 button.colab-df-convert');\n",
              "        buttonEl.style.display =\n",
              "          google.colab.kernel.accessAllowed ? 'block' : 'none';\n",
              "\n",
              "        async function convertToInteractive(key) {\n",
              "          const element = document.querySelector('#df-0cdc2390-1ad2-4f20-87bb-30cfb6f1d126');\n",
              "          const dataTable =\n",
              "            await google.colab.kernel.invokeFunction('convertToInteractive',\n",
              "                                                     [key], {});\n",
              "          if (!dataTable) return;\n",
              "\n",
              "          const docLinkHtml = 'Like what you see? Visit the ' +\n",
              "            '<a target=\"_blank\" href=https://colab.research.google.com/notebooks/data_table.ipynb>data table notebook</a>'\n",
              "            + ' to learn more about interactive tables.';\n",
              "          element.innerHTML = '';\n",
              "          dataTable['output_type'] = 'display_data';\n",
              "          await google.colab.output.renderOutput(dataTable, element);\n",
              "          const docLink = document.createElement('div');\n",
              "          docLink.innerHTML = docLinkHtml;\n",
              "          element.appendChild(docLink);\n",
              "        }\n",
              "      </script>\n",
              "    </div>\n",
              "  </div>\n",
              "  "
            ]
          },
          "metadata": {},
          "execution_count": 6
        }
      ]
    },
    {
      "cell_type": "code",
      "source": [
        "train.dtypes"
      ],
      "metadata": {
        "colab": {
          "base_uri": "https://localhost:8080/"
        },
        "id": "NbfPZVWGyIC5",
        "outputId": "61172c34-4943-488c-c61f-17667f3a19ad"
      },
      "execution_count": 7,
      "outputs": [
        {
          "output_type": "execute_result",
          "data": {
            "text/plain": [
              "Unnamed: 0                     int64\n",
              "time                          object\n",
              "temp                         float64\n",
              "dwpt                         float64\n",
              "rhum                         float64\n",
              "prcp                         float64\n",
              "snow                         float64\n",
              "wdir                         float64\n",
              "wspd                         float64\n",
              "wpgt                         float64\n",
              "pres                         float64\n",
              "coco                         float64\n",
              "el_price                     float64\n",
              "consumption                  float64\n",
              "timestamp                     object\n",
              "datetime                      object\n",
              "year                           int64\n",
              "month                          int64\n",
              "day                            int64\n",
              "weekday                        int64\n",
              "hour                           int64\n",
              "date                          object\n",
              "is_holiday                      bool\n",
              "season                        object\n",
              "google_trends_electricity      int64\n",
              "dtype: object"
            ]
          },
          "metadata": {},
          "execution_count": 7
        }
      ]
    },
    {
      "cell_type": "code",
      "source": [
        "# ühendan (ajutiselt) treening- ja testandmestiku, et viia puhastamine läbi ühise andmestiku peal\n",
        "train_vahe = train.drop(['consumption'],axis=1)\n",
        "train_vahe['train']=1\n",
        "test_vahe = test\n",
        "test_vahe['train']=0\n",
        "train_test=pd.concat([train_vahe,test_vahe])"
      ],
      "metadata": {
        "id": "Tkf9udPfU-mN"
      },
      "execution_count": 8,
      "outputs": []
    },
    {
      "cell_type": "code",
      "source": [
        "train_test.shape"
      ],
      "metadata": {
        "colab": {
          "base_uri": "https://localhost:8080/"
        },
        "id": "37DmKcPmW30n",
        "outputId": "65f49233-5d78-48a0-e495-6039919a691e"
      },
      "execution_count": 9,
      "outputs": [
        {
          "output_type": "execute_result",
          "data": {
            "text/plain": [
              "(8760, 25)"
            ]
          },
          "metadata": {},
          "execution_count": 9
        }
      ]
    },
    {
      "cell_type": "code",
      "source": [
        "# eemaldan veerud, mida ei vaja analüüsiks\n",
        "train_test = train_test.drop(columns=['Unnamed: 0', 'time', 'timestamp', 'datetime', 'date'])"
      ],
      "metadata": {
        "id": "-EUeW9aqyNb0"
      },
      "execution_count": 10,
      "outputs": []
    },
    {
      "cell_type": "code",
      "source": [
        "# is_holiday booleanist täisarvuks\n",
        "train_test[\"is_holiday\"] = train_test[\"is_holiday\"].astype(int)"
      ],
      "metadata": {
        "id": "SvFP3hSJXCnf"
      },
      "execution_count": 11,
      "outputs": []
    },
    {
      "cell_type": "code",
      "source": [
        "train_test=pd.get_dummies(train_test)"
      ],
      "metadata": {
        "id": "s4hxSin92fX8"
      },
      "execution_count": 12,
      "outputs": []
    },
    {
      "cell_type": "code",
      "source": [
        "train_test.head()"
      ],
      "metadata": {
        "colab": {
          "base_uri": "https://localhost:8080/",
          "height": 206
        },
        "id": "RsR9vQ5m2rdG",
        "outputId": "646a873f-8876-474b-cd19-ba13761221a5"
      },
      "execution_count": 13,
      "outputs": [
        {
          "output_type": "execute_result",
          "data": {
            "text/plain": [
              "   temp  dwpt  rhum  prcp  snow   wdir  wspd  wpgt    pres  coco  el_price  \\\n",
              "0  11.2  10.3  94.0   0.0   0.0  320.0   7.2  16.7  1012.6   2.0   0.09016   \n",
              "1  10.7   9.6  93.0   0.0   0.0  320.0   7.2  13.0  1012.6   2.0   0.09251   \n",
              "2   9.9   9.0  94.0   0.0   0.0  320.0   7.2  13.0  1012.2   2.0   0.08890   \n",
              "3  10.0   8.4  90.0   0.0   0.0  330.0   7.2  13.0  1011.9   1.0   0.08735   \n",
              "4   9.0   8.1  94.0   0.0   0.0  300.0   3.6  13.0  1011.4   2.0   0.08688   \n",
              "\n",
              "   year  month  day  weekday  hour  is_holiday  google_trends_electricity  \\\n",
              "0  2021      9    1        2     0           0                          5   \n",
              "1  2021      9    1        2     1           0                          5   \n",
              "2  2021      9    1        2     2           0                          5   \n",
              "3  2021      9    1        2     3           0                          5   \n",
              "4  2021      9    1        2     4           0                          5   \n",
              "\n",
              "   train  season_Autumn  season_Spring  season_Summer  season_Winter  \n",
              "0      1              1              0              0              0  \n",
              "1      1              1              0              0              0  \n",
              "2      1              1              0              0              0  \n",
              "3      1              1              0              0              0  \n",
              "4      1              1              0              0              0  "
            ],
            "text/html": [
              "\n",
              "  <div id=\"df-06d504c3-10c2-4a25-8312-5aaae56a9359\">\n",
              "    <div class=\"colab-df-container\">\n",
              "      <div>\n",
              "<style scoped>\n",
              "    .dataframe tbody tr th:only-of-type {\n",
              "        vertical-align: middle;\n",
              "    }\n",
              "\n",
              "    .dataframe tbody tr th {\n",
              "        vertical-align: top;\n",
              "    }\n",
              "\n",
              "    .dataframe thead th {\n",
              "        text-align: right;\n",
              "    }\n",
              "</style>\n",
              "<table border=\"1\" class=\"dataframe\">\n",
              "  <thead>\n",
              "    <tr style=\"text-align: right;\">\n",
              "      <th></th>\n",
              "      <th>temp</th>\n",
              "      <th>dwpt</th>\n",
              "      <th>rhum</th>\n",
              "      <th>prcp</th>\n",
              "      <th>snow</th>\n",
              "      <th>wdir</th>\n",
              "      <th>wspd</th>\n",
              "      <th>wpgt</th>\n",
              "      <th>pres</th>\n",
              "      <th>coco</th>\n",
              "      <th>el_price</th>\n",
              "      <th>year</th>\n",
              "      <th>month</th>\n",
              "      <th>day</th>\n",
              "      <th>weekday</th>\n",
              "      <th>hour</th>\n",
              "      <th>is_holiday</th>\n",
              "      <th>google_trends_electricity</th>\n",
              "      <th>train</th>\n",
              "      <th>season_Autumn</th>\n",
              "      <th>season_Spring</th>\n",
              "      <th>season_Summer</th>\n",
              "      <th>season_Winter</th>\n",
              "    </tr>\n",
              "  </thead>\n",
              "  <tbody>\n",
              "    <tr>\n",
              "      <th>0</th>\n",
              "      <td>11.2</td>\n",
              "      <td>10.3</td>\n",
              "      <td>94.0</td>\n",
              "      <td>0.0</td>\n",
              "      <td>0.0</td>\n",
              "      <td>320.0</td>\n",
              "      <td>7.2</td>\n",
              "      <td>16.7</td>\n",
              "      <td>1012.6</td>\n",
              "      <td>2.0</td>\n",
              "      <td>0.09016</td>\n",
              "      <td>2021</td>\n",
              "      <td>9</td>\n",
              "      <td>1</td>\n",
              "      <td>2</td>\n",
              "      <td>0</td>\n",
              "      <td>0</td>\n",
              "      <td>5</td>\n",
              "      <td>1</td>\n",
              "      <td>1</td>\n",
              "      <td>0</td>\n",
              "      <td>0</td>\n",
              "      <td>0</td>\n",
              "    </tr>\n",
              "    <tr>\n",
              "      <th>1</th>\n",
              "      <td>10.7</td>\n",
              "      <td>9.6</td>\n",
              "      <td>93.0</td>\n",
              "      <td>0.0</td>\n",
              "      <td>0.0</td>\n",
              "      <td>320.0</td>\n",
              "      <td>7.2</td>\n",
              "      <td>13.0</td>\n",
              "      <td>1012.6</td>\n",
              "      <td>2.0</td>\n",
              "      <td>0.09251</td>\n",
              "      <td>2021</td>\n",
              "      <td>9</td>\n",
              "      <td>1</td>\n",
              "      <td>2</td>\n",
              "      <td>1</td>\n",
              "      <td>0</td>\n",
              "      <td>5</td>\n",
              "      <td>1</td>\n",
              "      <td>1</td>\n",
              "      <td>0</td>\n",
              "      <td>0</td>\n",
              "      <td>0</td>\n",
              "    </tr>\n",
              "    <tr>\n",
              "      <th>2</th>\n",
              "      <td>9.9</td>\n",
              "      <td>9.0</td>\n",
              "      <td>94.0</td>\n",
              "      <td>0.0</td>\n",
              "      <td>0.0</td>\n",
              "      <td>320.0</td>\n",
              "      <td>7.2</td>\n",
              "      <td>13.0</td>\n",
              "      <td>1012.2</td>\n",
              "      <td>2.0</td>\n",
              "      <td>0.08890</td>\n",
              "      <td>2021</td>\n",
              "      <td>9</td>\n",
              "      <td>1</td>\n",
              "      <td>2</td>\n",
              "      <td>2</td>\n",
              "      <td>0</td>\n",
              "      <td>5</td>\n",
              "      <td>1</td>\n",
              "      <td>1</td>\n",
              "      <td>0</td>\n",
              "      <td>0</td>\n",
              "      <td>0</td>\n",
              "    </tr>\n",
              "    <tr>\n",
              "      <th>3</th>\n",
              "      <td>10.0</td>\n",
              "      <td>8.4</td>\n",
              "      <td>90.0</td>\n",
              "      <td>0.0</td>\n",
              "      <td>0.0</td>\n",
              "      <td>330.0</td>\n",
              "      <td>7.2</td>\n",
              "      <td>13.0</td>\n",
              "      <td>1011.9</td>\n",
              "      <td>1.0</td>\n",
              "      <td>0.08735</td>\n",
              "      <td>2021</td>\n",
              "      <td>9</td>\n",
              "      <td>1</td>\n",
              "      <td>2</td>\n",
              "      <td>3</td>\n",
              "      <td>0</td>\n",
              "      <td>5</td>\n",
              "      <td>1</td>\n",
              "      <td>1</td>\n",
              "      <td>0</td>\n",
              "      <td>0</td>\n",
              "      <td>0</td>\n",
              "    </tr>\n",
              "    <tr>\n",
              "      <th>4</th>\n",
              "      <td>9.0</td>\n",
              "      <td>8.1</td>\n",
              "      <td>94.0</td>\n",
              "      <td>0.0</td>\n",
              "      <td>0.0</td>\n",
              "      <td>300.0</td>\n",
              "      <td>3.6</td>\n",
              "      <td>13.0</td>\n",
              "      <td>1011.4</td>\n",
              "      <td>2.0</td>\n",
              "      <td>0.08688</td>\n",
              "      <td>2021</td>\n",
              "      <td>9</td>\n",
              "      <td>1</td>\n",
              "      <td>2</td>\n",
              "      <td>4</td>\n",
              "      <td>0</td>\n",
              "      <td>5</td>\n",
              "      <td>1</td>\n",
              "      <td>1</td>\n",
              "      <td>0</td>\n",
              "      <td>0</td>\n",
              "      <td>0</td>\n",
              "    </tr>\n",
              "  </tbody>\n",
              "</table>\n",
              "</div>\n",
              "      <button class=\"colab-df-convert\" onclick=\"convertToInteractive('df-06d504c3-10c2-4a25-8312-5aaae56a9359')\"\n",
              "              title=\"Convert this dataframe to an interactive table.\"\n",
              "              style=\"display:none;\">\n",
              "        \n",
              "  <svg xmlns=\"http://www.w3.org/2000/svg\" height=\"24px\"viewBox=\"0 0 24 24\"\n",
              "       width=\"24px\">\n",
              "    <path d=\"M0 0h24v24H0V0z\" fill=\"none\"/>\n",
              "    <path d=\"M18.56 5.44l.94 2.06.94-2.06 2.06-.94-2.06-.94-.94-2.06-.94 2.06-2.06.94zm-11 1L8.5 8.5l.94-2.06 2.06-.94-2.06-.94L8.5 2.5l-.94 2.06-2.06.94zm10 10l.94 2.06.94-2.06 2.06-.94-2.06-.94-.94-2.06-.94 2.06-2.06.94z\"/><path d=\"M17.41 7.96l-1.37-1.37c-.4-.4-.92-.59-1.43-.59-.52 0-1.04.2-1.43.59L10.3 9.45l-7.72 7.72c-.78.78-.78 2.05 0 2.83L4 21.41c.39.39.9.59 1.41.59.51 0 1.02-.2 1.41-.59l7.78-7.78 2.81-2.81c.8-.78.8-2.07 0-2.86zM5.41 20L4 18.59l7.72-7.72 1.47 1.35L5.41 20z\"/>\n",
              "  </svg>\n",
              "      </button>\n",
              "      \n",
              "  <style>\n",
              "    .colab-df-container {\n",
              "      display:flex;\n",
              "      flex-wrap:wrap;\n",
              "      gap: 12px;\n",
              "    }\n",
              "\n",
              "    .colab-df-convert {\n",
              "      background-color: #E8F0FE;\n",
              "      border: none;\n",
              "      border-radius: 50%;\n",
              "      cursor: pointer;\n",
              "      display: none;\n",
              "      fill: #1967D2;\n",
              "      height: 32px;\n",
              "      padding: 0 0 0 0;\n",
              "      width: 32px;\n",
              "    }\n",
              "\n",
              "    .colab-df-convert:hover {\n",
              "      background-color: #E2EBFA;\n",
              "      box-shadow: 0px 1px 2px rgba(60, 64, 67, 0.3), 0px 1px 3px 1px rgba(60, 64, 67, 0.15);\n",
              "      fill: #174EA6;\n",
              "    }\n",
              "\n",
              "    [theme=dark] .colab-df-convert {\n",
              "      background-color: #3B4455;\n",
              "      fill: #D2E3FC;\n",
              "    }\n",
              "\n",
              "    [theme=dark] .colab-df-convert:hover {\n",
              "      background-color: #434B5C;\n",
              "      box-shadow: 0px 1px 3px 1px rgba(0, 0, 0, 0.15);\n",
              "      filter: drop-shadow(0px 1px 2px rgba(0, 0, 0, 0.3));\n",
              "      fill: #FFFFFF;\n",
              "    }\n",
              "  </style>\n",
              "\n",
              "      <script>\n",
              "        const buttonEl =\n",
              "          document.querySelector('#df-06d504c3-10c2-4a25-8312-5aaae56a9359 button.colab-df-convert');\n",
              "        buttonEl.style.display =\n",
              "          google.colab.kernel.accessAllowed ? 'block' : 'none';\n",
              "\n",
              "        async function convertToInteractive(key) {\n",
              "          const element = document.querySelector('#df-06d504c3-10c2-4a25-8312-5aaae56a9359');\n",
              "          const dataTable =\n",
              "            await google.colab.kernel.invokeFunction('convertToInteractive',\n",
              "                                                     [key], {});\n",
              "          if (!dataTable) return;\n",
              "\n",
              "          const docLinkHtml = 'Like what you see? Visit the ' +\n",
              "            '<a target=\"_blank\" href=https://colab.research.google.com/notebooks/data_table.ipynb>data table notebook</a>'\n",
              "            + ' to learn more about interactive tables.';\n",
              "          element.innerHTML = '';\n",
              "          dataTable['output_type'] = 'display_data';\n",
              "          await google.colab.output.renderOutput(dataTable, element);\n",
              "          const docLink = document.createElement('div');\n",
              "          docLink.innerHTML = docLinkHtml;\n",
              "          element.appendChild(docLink);\n",
              "        }\n",
              "      </script>\n",
              "    </div>\n",
              "  </div>\n",
              "  "
            ]
          },
          "metadata": {},
          "execution_count": 13
        }
      ]
    },
    {
      "cell_type": "code",
      "source": [
        "# normaliseerin andmed\n",
        "train_test=(train_test-train_test.min())/(train_test.max()-train_test.min())"
      ],
      "metadata": {
        "id": "6NGjL77F4KZL"
      },
      "execution_count": 14,
      "outputs": []
    },
    {
      "cell_type": "code",
      "source": [
        "train_test.describe()"
      ],
      "metadata": {
        "colab": {
          "base_uri": "https://localhost:8080/",
          "height": 364
        },
        "id": "j_AzCjUt3fnQ",
        "outputId": "0a8cc487-6bb9-4c3c-94f7-cca1b508ff11"
      },
      "execution_count": 15,
      "outputs": [
        {
          "output_type": "execute_result",
          "data": {
            "text/plain": [
              "              temp         dwpt         rhum         prcp         snow  \\\n",
              "count  8760.000000  8760.000000  8760.000000  8760.000000  8760.000000   \n",
              "mean      0.575026     0.633145     0.712915     0.002455     0.004836   \n",
              "std       0.162253     0.166682     0.218779     0.031798     0.052988   \n",
              "min       0.000000     0.000000     0.000000     0.000000     0.000000   \n",
              "25%       0.462609     0.520161     0.575000     0.000000     0.000000   \n",
              "50%       0.566957     0.620968     0.787500     0.000000     0.000000   \n",
              "75%       0.692174     0.768145     0.887500     0.000000     0.000000   \n",
              "max       1.000000     1.000000     1.000000     1.000000     1.000000   \n",
              "\n",
              "              wdir         wspd         wpgt         pres         coco  \\\n",
              "count  8760.000000  8760.000000  8760.000000  8760.000000  8760.000000   \n",
              "mean      0.558018     0.288714     0.297010     0.597020     0.191689   \n",
              "std       0.246342     0.152588     0.165456     0.147128     0.198909   \n",
              "min       0.000000     0.000000     0.000000     0.000000     0.000000   \n",
              "25%       0.388889     0.227129     0.168053     0.519435     0.080000   \n",
              "50%       0.583333     0.227129     0.259567     0.614252     0.120000   \n",
              "75%       0.750000     0.340694     0.414309     0.684335     0.200000   \n",
              "max       1.000000     1.000000     1.000000     1.000000     1.000000   \n",
              "\n",
              "          el_price         year        month          day      weekday  \\\n",
              "count  8760.000000  8760.000000  8760.000000  8760.000000  8760.000000   \n",
              "mean      0.041149     0.665639     0.502439     0.490700     0.499543   \n",
              "std       0.031501     0.471793     0.313458     0.293248     0.333009   \n",
              "min       0.000000     0.000000     0.000000     0.000000     0.000000   \n",
              "25%       0.023265     0.000000     0.272727     0.233333     0.166667   \n",
              "50%       0.034519     1.000000     0.545455     0.500000     0.500000   \n",
              "75%       0.050003     1.000000     0.818182     0.733333     0.833333   \n",
              "max       1.000000     1.000000     1.000000     1.000000     1.000000   \n",
              "\n",
              "              hour   is_holiday  google_trends_electricity        train  \\\n",
              "count  8760.000000  8760.000000                8760.000000  8760.000000   \n",
              "mean      0.500000     0.032877                   0.369488     0.980822   \n",
              "std       0.300982     0.178324                   0.192332     0.137158   \n",
              "min       0.000000     0.000000                   0.000000     0.000000   \n",
              "25%       0.250000     0.000000                   0.273684     1.000000   \n",
              "50%       0.500000     0.000000                   0.305263     1.000000   \n",
              "75%       0.750000     0.000000                   0.452632     1.000000   \n",
              "max       1.000000     1.000000                   1.000000     1.000000   \n",
              "\n",
              "       season_Autumn  season_Spring  season_Summer  season_Winter  \n",
              "count    8760.000000    8760.000000    8760.000000    8760.000000  \n",
              "mean        0.249429       0.251941       0.252055       0.246575  \n",
              "std         0.432707       0.434152       0.434217       0.431042  \n",
              "min         0.000000       0.000000       0.000000       0.000000  \n",
              "25%         0.000000       0.000000       0.000000       0.000000  \n",
              "50%         0.000000       0.000000       0.000000       0.000000  \n",
              "75%         0.000000       1.000000       1.000000       0.000000  \n",
              "max         1.000000       1.000000       1.000000       1.000000  "
            ],
            "text/html": [
              "\n",
              "  <div id=\"df-e2a3449e-ec32-40e6-8299-30896492abb7\">\n",
              "    <div class=\"colab-df-container\">\n",
              "      <div>\n",
              "<style scoped>\n",
              "    .dataframe tbody tr th:only-of-type {\n",
              "        vertical-align: middle;\n",
              "    }\n",
              "\n",
              "    .dataframe tbody tr th {\n",
              "        vertical-align: top;\n",
              "    }\n",
              "\n",
              "    .dataframe thead th {\n",
              "        text-align: right;\n",
              "    }\n",
              "</style>\n",
              "<table border=\"1\" class=\"dataframe\">\n",
              "  <thead>\n",
              "    <tr style=\"text-align: right;\">\n",
              "      <th></th>\n",
              "      <th>temp</th>\n",
              "      <th>dwpt</th>\n",
              "      <th>rhum</th>\n",
              "      <th>prcp</th>\n",
              "      <th>snow</th>\n",
              "      <th>wdir</th>\n",
              "      <th>wspd</th>\n",
              "      <th>wpgt</th>\n",
              "      <th>pres</th>\n",
              "      <th>coco</th>\n",
              "      <th>el_price</th>\n",
              "      <th>year</th>\n",
              "      <th>month</th>\n",
              "      <th>day</th>\n",
              "      <th>weekday</th>\n",
              "      <th>hour</th>\n",
              "      <th>is_holiday</th>\n",
              "      <th>google_trends_electricity</th>\n",
              "      <th>train</th>\n",
              "      <th>season_Autumn</th>\n",
              "      <th>season_Spring</th>\n",
              "      <th>season_Summer</th>\n",
              "      <th>season_Winter</th>\n",
              "    </tr>\n",
              "  </thead>\n",
              "  <tbody>\n",
              "    <tr>\n",
              "      <th>count</th>\n",
              "      <td>8760.000000</td>\n",
              "      <td>8760.000000</td>\n",
              "      <td>8760.000000</td>\n",
              "      <td>8760.000000</td>\n",
              "      <td>8760.000000</td>\n",
              "      <td>8760.000000</td>\n",
              "      <td>8760.000000</td>\n",
              "      <td>8760.000000</td>\n",
              "      <td>8760.000000</td>\n",
              "      <td>8760.000000</td>\n",
              "      <td>8760.000000</td>\n",
              "      <td>8760.000000</td>\n",
              "      <td>8760.000000</td>\n",
              "      <td>8760.000000</td>\n",
              "      <td>8760.000000</td>\n",
              "      <td>8760.000000</td>\n",
              "      <td>8760.000000</td>\n",
              "      <td>8760.000000</td>\n",
              "      <td>8760.000000</td>\n",
              "      <td>8760.000000</td>\n",
              "      <td>8760.000000</td>\n",
              "      <td>8760.000000</td>\n",
              "      <td>8760.000000</td>\n",
              "    </tr>\n",
              "    <tr>\n",
              "      <th>mean</th>\n",
              "      <td>0.575026</td>\n",
              "      <td>0.633145</td>\n",
              "      <td>0.712915</td>\n",
              "      <td>0.002455</td>\n",
              "      <td>0.004836</td>\n",
              "      <td>0.558018</td>\n",
              "      <td>0.288714</td>\n",
              "      <td>0.297010</td>\n",
              "      <td>0.597020</td>\n",
              "      <td>0.191689</td>\n",
              "      <td>0.041149</td>\n",
              "      <td>0.665639</td>\n",
              "      <td>0.502439</td>\n",
              "      <td>0.490700</td>\n",
              "      <td>0.499543</td>\n",
              "      <td>0.500000</td>\n",
              "      <td>0.032877</td>\n",
              "      <td>0.369488</td>\n",
              "      <td>0.980822</td>\n",
              "      <td>0.249429</td>\n",
              "      <td>0.251941</td>\n",
              "      <td>0.252055</td>\n",
              "      <td>0.246575</td>\n",
              "    </tr>\n",
              "    <tr>\n",
              "      <th>std</th>\n",
              "      <td>0.162253</td>\n",
              "      <td>0.166682</td>\n",
              "      <td>0.218779</td>\n",
              "      <td>0.031798</td>\n",
              "      <td>0.052988</td>\n",
              "      <td>0.246342</td>\n",
              "      <td>0.152588</td>\n",
              "      <td>0.165456</td>\n",
              "      <td>0.147128</td>\n",
              "      <td>0.198909</td>\n",
              "      <td>0.031501</td>\n",
              "      <td>0.471793</td>\n",
              "      <td>0.313458</td>\n",
              "      <td>0.293248</td>\n",
              "      <td>0.333009</td>\n",
              "      <td>0.300982</td>\n",
              "      <td>0.178324</td>\n",
              "      <td>0.192332</td>\n",
              "      <td>0.137158</td>\n",
              "      <td>0.432707</td>\n",
              "      <td>0.434152</td>\n",
              "      <td>0.434217</td>\n",
              "      <td>0.431042</td>\n",
              "    </tr>\n",
              "    <tr>\n",
              "      <th>min</th>\n",
              "      <td>0.000000</td>\n",
              "      <td>0.000000</td>\n",
              "      <td>0.000000</td>\n",
              "      <td>0.000000</td>\n",
              "      <td>0.000000</td>\n",
              "      <td>0.000000</td>\n",
              "      <td>0.000000</td>\n",
              "      <td>0.000000</td>\n",
              "      <td>0.000000</td>\n",
              "      <td>0.000000</td>\n",
              "      <td>0.000000</td>\n",
              "      <td>0.000000</td>\n",
              "      <td>0.000000</td>\n",
              "      <td>0.000000</td>\n",
              "      <td>0.000000</td>\n",
              "      <td>0.000000</td>\n",
              "      <td>0.000000</td>\n",
              "      <td>0.000000</td>\n",
              "      <td>0.000000</td>\n",
              "      <td>0.000000</td>\n",
              "      <td>0.000000</td>\n",
              "      <td>0.000000</td>\n",
              "      <td>0.000000</td>\n",
              "    </tr>\n",
              "    <tr>\n",
              "      <th>25%</th>\n",
              "      <td>0.462609</td>\n",
              "      <td>0.520161</td>\n",
              "      <td>0.575000</td>\n",
              "      <td>0.000000</td>\n",
              "      <td>0.000000</td>\n",
              "      <td>0.388889</td>\n",
              "      <td>0.227129</td>\n",
              "      <td>0.168053</td>\n",
              "      <td>0.519435</td>\n",
              "      <td>0.080000</td>\n",
              "      <td>0.023265</td>\n",
              "      <td>0.000000</td>\n",
              "      <td>0.272727</td>\n",
              "      <td>0.233333</td>\n",
              "      <td>0.166667</td>\n",
              "      <td>0.250000</td>\n",
              "      <td>0.000000</td>\n",
              "      <td>0.273684</td>\n",
              "      <td>1.000000</td>\n",
              "      <td>0.000000</td>\n",
              "      <td>0.000000</td>\n",
              "      <td>0.000000</td>\n",
              "      <td>0.000000</td>\n",
              "    </tr>\n",
              "    <tr>\n",
              "      <th>50%</th>\n",
              "      <td>0.566957</td>\n",
              "      <td>0.620968</td>\n",
              "      <td>0.787500</td>\n",
              "      <td>0.000000</td>\n",
              "      <td>0.000000</td>\n",
              "      <td>0.583333</td>\n",
              "      <td>0.227129</td>\n",
              "      <td>0.259567</td>\n",
              "      <td>0.614252</td>\n",
              "      <td>0.120000</td>\n",
              "      <td>0.034519</td>\n",
              "      <td>1.000000</td>\n",
              "      <td>0.545455</td>\n",
              "      <td>0.500000</td>\n",
              "      <td>0.500000</td>\n",
              "      <td>0.500000</td>\n",
              "      <td>0.000000</td>\n",
              "      <td>0.305263</td>\n",
              "      <td>1.000000</td>\n",
              "      <td>0.000000</td>\n",
              "      <td>0.000000</td>\n",
              "      <td>0.000000</td>\n",
              "      <td>0.000000</td>\n",
              "    </tr>\n",
              "    <tr>\n",
              "      <th>75%</th>\n",
              "      <td>0.692174</td>\n",
              "      <td>0.768145</td>\n",
              "      <td>0.887500</td>\n",
              "      <td>0.000000</td>\n",
              "      <td>0.000000</td>\n",
              "      <td>0.750000</td>\n",
              "      <td>0.340694</td>\n",
              "      <td>0.414309</td>\n",
              "      <td>0.684335</td>\n",
              "      <td>0.200000</td>\n",
              "      <td>0.050003</td>\n",
              "      <td>1.000000</td>\n",
              "      <td>0.818182</td>\n",
              "      <td>0.733333</td>\n",
              "      <td>0.833333</td>\n",
              "      <td>0.750000</td>\n",
              "      <td>0.000000</td>\n",
              "      <td>0.452632</td>\n",
              "      <td>1.000000</td>\n",
              "      <td>0.000000</td>\n",
              "      <td>1.000000</td>\n",
              "      <td>1.000000</td>\n",
              "      <td>0.000000</td>\n",
              "    </tr>\n",
              "    <tr>\n",
              "      <th>max</th>\n",
              "      <td>1.000000</td>\n",
              "      <td>1.000000</td>\n",
              "      <td>1.000000</td>\n",
              "      <td>1.000000</td>\n",
              "      <td>1.000000</td>\n",
              "      <td>1.000000</td>\n",
              "      <td>1.000000</td>\n",
              "      <td>1.000000</td>\n",
              "      <td>1.000000</td>\n",
              "      <td>1.000000</td>\n",
              "      <td>1.000000</td>\n",
              "      <td>1.000000</td>\n",
              "      <td>1.000000</td>\n",
              "      <td>1.000000</td>\n",
              "      <td>1.000000</td>\n",
              "      <td>1.000000</td>\n",
              "      <td>1.000000</td>\n",
              "      <td>1.000000</td>\n",
              "      <td>1.000000</td>\n",
              "      <td>1.000000</td>\n",
              "      <td>1.000000</td>\n",
              "      <td>1.000000</td>\n",
              "      <td>1.000000</td>\n",
              "    </tr>\n",
              "  </tbody>\n",
              "</table>\n",
              "</div>\n",
              "      <button class=\"colab-df-convert\" onclick=\"convertToInteractive('df-e2a3449e-ec32-40e6-8299-30896492abb7')\"\n",
              "              title=\"Convert this dataframe to an interactive table.\"\n",
              "              style=\"display:none;\">\n",
              "        \n",
              "  <svg xmlns=\"http://www.w3.org/2000/svg\" height=\"24px\"viewBox=\"0 0 24 24\"\n",
              "       width=\"24px\">\n",
              "    <path d=\"M0 0h24v24H0V0z\" fill=\"none\"/>\n",
              "    <path d=\"M18.56 5.44l.94 2.06.94-2.06 2.06-.94-2.06-.94-.94-2.06-.94 2.06-2.06.94zm-11 1L8.5 8.5l.94-2.06 2.06-.94-2.06-.94L8.5 2.5l-.94 2.06-2.06.94zm10 10l.94 2.06.94-2.06 2.06-.94-2.06-.94-.94-2.06-.94 2.06-2.06.94z\"/><path d=\"M17.41 7.96l-1.37-1.37c-.4-.4-.92-.59-1.43-.59-.52 0-1.04.2-1.43.59L10.3 9.45l-7.72 7.72c-.78.78-.78 2.05 0 2.83L4 21.41c.39.39.9.59 1.41.59.51 0 1.02-.2 1.41-.59l7.78-7.78 2.81-2.81c.8-.78.8-2.07 0-2.86zM5.41 20L4 18.59l7.72-7.72 1.47 1.35L5.41 20z\"/>\n",
              "  </svg>\n",
              "      </button>\n",
              "      \n",
              "  <style>\n",
              "    .colab-df-container {\n",
              "      display:flex;\n",
              "      flex-wrap:wrap;\n",
              "      gap: 12px;\n",
              "    }\n",
              "\n",
              "    .colab-df-convert {\n",
              "      background-color: #E8F0FE;\n",
              "      border: none;\n",
              "      border-radius: 50%;\n",
              "      cursor: pointer;\n",
              "      display: none;\n",
              "      fill: #1967D2;\n",
              "      height: 32px;\n",
              "      padding: 0 0 0 0;\n",
              "      width: 32px;\n",
              "    }\n",
              "\n",
              "    .colab-df-convert:hover {\n",
              "      background-color: #E2EBFA;\n",
              "      box-shadow: 0px 1px 2px rgba(60, 64, 67, 0.3), 0px 1px 3px 1px rgba(60, 64, 67, 0.15);\n",
              "      fill: #174EA6;\n",
              "    }\n",
              "\n",
              "    [theme=dark] .colab-df-convert {\n",
              "      background-color: #3B4455;\n",
              "      fill: #D2E3FC;\n",
              "    }\n",
              "\n",
              "    [theme=dark] .colab-df-convert:hover {\n",
              "      background-color: #434B5C;\n",
              "      box-shadow: 0px 1px 3px 1px rgba(0, 0, 0, 0.15);\n",
              "      filter: drop-shadow(0px 1px 2px rgba(0, 0, 0, 0.3));\n",
              "      fill: #FFFFFF;\n",
              "    }\n",
              "  </style>\n",
              "\n",
              "      <script>\n",
              "        const buttonEl =\n",
              "          document.querySelector('#df-e2a3449e-ec32-40e6-8299-30896492abb7 button.colab-df-convert');\n",
              "        buttonEl.style.display =\n",
              "          google.colab.kernel.accessAllowed ? 'block' : 'none';\n",
              "\n",
              "        async function convertToInteractive(key) {\n",
              "          const element = document.querySelector('#df-e2a3449e-ec32-40e6-8299-30896492abb7');\n",
              "          const dataTable =\n",
              "            await google.colab.kernel.invokeFunction('convertToInteractive',\n",
              "                                                     [key], {});\n",
              "          if (!dataTable) return;\n",
              "\n",
              "          const docLinkHtml = 'Like what you see? Visit the ' +\n",
              "            '<a target=\"_blank\" href=https://colab.research.google.com/notebooks/data_table.ipynb>data table notebook</a>'\n",
              "            + ' to learn more about interactive tables.';\n",
              "          element.innerHTML = '';\n",
              "          dataTable['output_type'] = 'display_data';\n",
              "          await google.colab.output.renderOutput(dataTable, element);\n",
              "          const docLink = document.createElement('div');\n",
              "          docLink.innerHTML = docLinkHtml;\n",
              "          element.appendChild(docLink);\n",
              "        }\n",
              "      </script>\n",
              "    </div>\n",
              "  </div>\n",
              "  "
            ]
          },
          "metadata": {},
          "execution_count": 15
        }
      ]
    },
    {
      "cell_type": "code",
      "source": [
        "# eraldan uuesti treening- ja testandmestiku\n",
        "train_df=train_test[train_test['train']==1]\n",
        "test_df=train_test[train_test['train']==0]\n",
        "train_df=train_df.drop(['train'],axis=1)\n",
        "test_df=test_df.drop(['train'],axis=1)"
      ],
      "metadata": {
        "id": "RXkGd6wd5Coq"
      },
      "execution_count": 16,
      "outputs": []
    },
    {
      "cell_type": "code",
      "source": [
        "# lisan treeningandmestikule tagasi 'consumption' atribuudi\n",
        "train_df = pd.concat([train_df,train['consumption']], axis=1)"
      ],
      "metadata": {
        "id": "fE8Zsyt35Zvs"
      },
      "execution_count": 17,
      "outputs": []
    },
    {
      "cell_type": "code",
      "source": [
        "train_df.shape"
      ],
      "metadata": {
        "colab": {
          "base_uri": "https://localhost:8080/"
        },
        "id": "w3o_18sX5kox",
        "outputId": "8c594ccf-c786-4d23-9111-79fd1299d2de"
      },
      "execution_count": 18,
      "outputs": [
        {
          "output_type": "execute_result",
          "data": {
            "text/plain": [
              "(8592, 23)"
            ]
          },
          "metadata": {},
          "execution_count": 18
        }
      ]
    },
    {
      "cell_type": "code",
      "source": [
        "test_df.shape"
      ],
      "metadata": {
        "colab": {
          "base_uri": "https://localhost:8080/"
        },
        "id": "Lv0DPZym5wMl",
        "outputId": "6760d49c-ab35-4223-d69f-d11cec465b46"
      },
      "execution_count": 19,
      "outputs": [
        {
          "output_type": "execute_result",
          "data": {
            "text/plain": [
              "(168, 22)"
            ]
          },
          "metadata": {},
          "execution_count": 19
        }
      ]
    },
    {
      "cell_type": "code",
      "source": [
        "# illustreerin teiste atribuutide korrelatsiooni 'consumption'iga\n",
        "\n",
        "plt.figure(figsize=(15,8))\n",
        "plt.style.use('ggplot')\n",
        "\n",
        "my_cmap = cm.get_cmap('Accent')\n",
        "\n",
        "train_df.corr()['consumption'].sort_values(ascending = False).plot(kind='bar', cmap=my_cmap)\n",
        "\n",
        "plt.title('Atribuutide korrelatsioon tarbimisega',fontsize=20)\n",
        "plt.xlabel('Attribuut', fontsize=20)\n",
        "plt.ylabel('Korrelatsioon',fontsize=20)\n",
        "\n",
        "plt.xticks(fontsize = 10) \n",
        "plt.yticks(fontsize = 20) \n",
        "plt.grid(True)\n",
        "plt.show() "
      ],
      "metadata": {
        "colab": {
          "base_uri": "https://localhost:8080/",
          "height": 642
        },
        "id": "zMlgme4N6g_y",
        "outputId": "6159631a-50ca-4458-a08c-5632b424facd"
      },
      "execution_count": 20,
      "outputs": [
        {
          "output_type": "display_data",
          "data": {
            "text/plain": [
              "<Figure size 1080x576 with 1 Axes>"
            ],
            "image/png": "[encoded data removed]"
          },
          "metadata": {
            "needs_background": "light"
          }
        }
      ]
    },
    {
      "cell_type": "markdown",
      "source": [
        "**Lineaarregressioon**"
      ],
      "metadata": {
        "id": "y5HYd6JrYSOE"
      }
    },
    {
      "cell_type": "code",
      "source": [
        "y_lr = train_df['consumption']\n",
        "X_lr = train_df.drop(['consumption'],axis=1)\n",
        "train_X, val_X, train_y, val_y = train_test_split(X_lr, y_lr,random_state=0, test_size = 0.20)"
      ],
      "metadata": {
        "id": "ZF-bd87A8OGr"
      },
      "execution_count": 21,
      "outputs": []
    },
    {
      "cell_type": "code",
      "source": [
        "model_lr = LinearRegression()\n",
        "model_lr.fit(train_X, train_y)\n",
        "val_predictions_lr = model_lr.predict(val_X)"
      ],
      "metadata": {
        "id": "Zph-Vudb9g3g"
      },
      "execution_count": null,
      "outputs": []
    },
    {
      "cell_type": "code",
      "source": [
        "mean_absolute_error(val_y, val_predictions_lr)"
      ],
      "metadata": {
        "colab": {
          "base_uri": "https://localhost:8080/"
        },
        "id": "RpWxd46G-B7Y",
        "outputId": "47343f79-71d9-4b2d-decb-cc7911390173"
      },
      "execution_count": null,
      "outputs": [
        {
          "output_type": "execute_result",
          "data": {
            "text/plain": [
              "0.6040714330090525"
            ]
          },
          "metadata": {},
          "execution_count": 144
        }
      ]
    },
    {
      "cell_type": "code",
      "source": [
        "# katse ristvalideerimisega\n",
        "\n",
        "model_lr = LinearRegression()\n",
        "\n",
        "n_folds = 4\n",
        "fold_MAEs = np.zeros(n_folds)\n",
        "\n",
        "y = np.array(train_df['consumption'])\n",
        "X = np.array(train_df.drop(['consumption'], axis = 1))\n",
        "\n",
        "folds = KFold(n_splits=n_folds, shuffle=True, random_state=0)\n",
        "\n",
        "folds.get_n_splits(X, y)\n",
        "\n",
        "fold_indx = 1\n",
        "\n",
        "for train_index, val_index in folds.split(X, y):\n",
        "  X_train, X_val = X[train_index], X[val_index]\n",
        "  y_train, y_val = y[train_index], y[val_index]\n",
        "\n",
        "  model_lr.fit(X_train, y_train)\n",
        "\n",
        "  val_predictions = model_lr.predict(X_val)\n",
        "  fold_MAEs[fold_indx-1] = mean_absolute_error(y_val, val_predictions)\n",
        "\n",
        "  fold_indx += 1\n",
        "\n",
        "print(f'Keskmine valideerimisvalimi MAE on {np.mean(fold_MAEs)}') \n"
      ],
      "metadata": {
        "colab": {
          "base_uri": "https://localhost:8080/"
        },
        "id": "hp-7y3Gh-SHa",
        "outputId": "25d638b9-7ea1-44a7-d5ec-d900cc971dee"
      },
      "execution_count": null,
      "outputs": [
        {
          "output_type": "stream",
          "name": "stdout",
          "text": [
            "Keskmine valideerimisvalimi MAE on 0.6053018360936587\n"
          ]
        }
      ]
    },
    {
      "cell_type": "markdown",
      "source": [
        "Ristvalideerimine midagi juurde ei andnud, tulemus veidi halvem."
      ],
      "metadata": {
        "id": "5mp-PEdRZBEj"
      }
    },
    {
      "cell_type": "code",
      "source": [
        "model_lr = LinearRegression()\n",
        "model_lr.fit(X_lr, y_lr) #siin ei ole nüüd seda train-test splitti"
      ],
      "metadata": {
        "colab": {
          "base_uri": "https://localhost:8080/"
        },
        "id": "XxbpN_TV_yog",
        "outputId": "2cff3f03-1b84-47c3-955c-df15b03f5946"
      },
      "execution_count": null,
      "outputs": [
        {
          "output_type": "execute_result",
          "data": {
            "text/plain": [
              "LinearRegression()"
            ]
          },
          "metadata": {},
          "execution_count": 146
        }
      ]
    },
    {
      "cell_type": "code",
      "source": [
        "test_y_ennustused_lr = model_lr.predict(test_df)"
      ],
      "metadata": {
        "id": "T4m_POgz_y3e"
      },
      "execution_count": null,
      "outputs": []
    },
    {
      "cell_type": "code",
      "source": [
        "# genereerin Kaggle'i ennustuste faili\n",
        "submission_lr = pd.DataFrame(\n",
        "    {'time': test.time, 'consumption': test_y_ennustused_lr},\n",
        "    columns = ['time', 'consumption'])\n",
        "#submission_lr.to_csv('submission_lr.csv', index = False)"
      ],
      "metadata": {
        "id": "zZkIeyRK_zBo"
      },
      "execution_count": null,
      "outputs": []
    },
    {
      "cell_type": "markdown",
      "source": [
        "Kaggle'i tulemuseks andis 0.44184."
      ],
      "metadata": {
        "id": "qFCS4ve6COU4"
      }
    },
    {
      "cell_type": "markdown",
      "source": [
        "**Ridge, Lasso ja ElasticNet regressioonid**"
      ],
      "metadata": {
        "id": "3tjKSa_jasqn"
      }
    },
    {
      "cell_type": "code",
      "source": [
        "lambda_ = 1\n",
        "\n",
        "lr = LinearRegression()\n",
        "lr_ridge = Ridge(lambda_)\n",
        "lr_lasso = Lasso(lambda_)\n",
        "lr_elastic = ElasticNet(alpha = lambda_)\n",
        "\n",
        "lr.fit(X_lr, y_lr)\n",
        "lr_ridge.fit(X_lr, y_lr)\n",
        "lr_lasso.fit(X_lr, y_lr)\n",
        "lr_elastic.fit(X_lr, y_lr)\n",
        "\n",
        "predict_lr = lr.predict(val_X)\n",
        "predict_ridge = lr_ridge.predict(val_X)\n",
        "predict_lasso = lr_lasso.predict(val_X)\n",
        "predict_elastic = lr_elastic.predict(val_X)"
      ],
      "metadata": {
        "id": "d7kmU92PBrdz"
      },
      "execution_count": null,
      "outputs": []
    },
    {
      "cell_type": "code",
      "source": [
        "mae_lrr = mean_absolute_error(val_y, predict_lr)\n",
        "print(f'Valideerimisvalimi lineaarregressiooni MAE on {mae_lrr}.')\n",
        "\n",
        "mae_ridge = mean_absolute_error(val_y, predict_ridge)\n",
        "print(f'Valideerimisvalimi ridge regressiooni MAE on {mae_ridge}.')\n",
        "\n",
        "mae_lasso = mean_absolute_error(val_y, predict_lasso)\n",
        "print(f'Valideerimisvalimi lasso regressiooni MAE on {mae_lasso}.')\n",
        "\n",
        "mae_elastic = mean_absolute_error(val_y, predict_elastic)\n",
        "print(f'Valideerimisvalimi elasticnet regressiooni MAE on {mae_elastic}.')\n"
      ],
      "metadata": {
        "colab": {
          "base_uri": "https://localhost:8080/"
        },
        "id": "GWp-SXePeDcq",
        "outputId": "9f99beb1-7992-4da0-ebef-c6a2281d2dde"
      },
      "execution_count": null,
      "outputs": [
        {
          "output_type": "stream",
          "name": "stdout",
          "text": [
            "Valideerimisvalimi lineaarregressiooni MAE on 0.6006756380890054.\n",
            "Valideerimisvalimi ridge regressiooni MAE on 0.6012899604219334.\n",
            "Valideerimisvalimi lasso regressiooni MAE on 0.6684276661840554.\n",
            "Valideerimisvalimi elasticnet regressiooni MAE on 0.6684276661840554.\n"
          ]
        }
      ]
    },
    {
      "cell_type": "code",
      "source": [
        "# genereerin Kaggle'i ennustuste faili RIDGE jaoks\n",
        "lambda_ = 1 \n",
        "model_ridge = Ridge(lambda_)\n",
        "model_ridge.fit(X_lr, y_lr) \n",
        "test_y_ennustused_ridge = model_ridge.predict(test_df)"
      ],
      "metadata": {
        "id": "5_vUxTT5t8j2"
      },
      "execution_count": null,
      "outputs": []
    },
    {
      "cell_type": "code",
      "source": [
        "submission_ridge = pd.DataFrame(\n",
        "    {'time': test.time, 'consumption': test_y_ennustused_ridge},\n",
        "    columns = ['time', 'consumption'])\n",
        "#submission_ridge.to_csv('submission_ridge.csv', index = False)"
      ],
      "metadata": {
        "id": "mTXOL7ZSuj_F"
      },
      "execution_count": null,
      "outputs": []
    },
    {
      "cell_type": "markdown",
      "source": [
        "Kaggle'i tulemuseks andis 0.40911."
      ],
      "metadata": {
        "id": "j3y-biJavazo"
      }
    },
    {
      "cell_type": "code",
      "source": [
        "# genereerin Kaggle'i ennustuste faili LASSO jaoks\n",
        "lambda_ = 1 \n",
        "model_lasso = Lasso(lambda_)\n",
        "model_lasso.fit(X_lr, y_lr) \n",
        "test_y_ennustused_lasso = model_lasso.predict(test_df)"
      ],
      "metadata": {
        "id": "BIFtXhh2x7Mj"
      },
      "execution_count": null,
      "outputs": []
    },
    {
      "cell_type": "code",
      "source": [
        "submission_lasso = pd.DataFrame(\n",
        "    {'time': test.time, 'consumption': test_y_ennustused_lasso},\n",
        "    columns = ['time', 'consumption'])\n",
        "#submission_lasso.to_csv('submission_lasso.csv', index = False)"
      ],
      "metadata": {
        "id": "BJZfhoSzx7YK"
      },
      "execution_count": null,
      "outputs": []
    },
    {
      "cell_type": "markdown",
      "source": [
        "Kaggle'i tulemuseks andis 0.59306."
      ],
      "metadata": {
        "id": "zjemvbUIx7wm"
      }
    },
    {
      "cell_type": "markdown",
      "source": [
        "**Ridge tuunimine**"
      ],
      "metadata": {
        "id": "-y3cgDWEWrph"
      }
    },
    {
      "cell_type": "code",
      "source": [
        "params = {'alpha': (np.logspace(-8, 8, 100))} # It will check from 1e-08 to 1e+08\n",
        "lasso = Lasso(normalize=True)\n",
        "lasso_model = GridSearchCV(lasso, params, cv = 10)\n",
        "lasso_model.fit(train_X, train_y)\n",
        "print(lasso_model.best_params_)\n",
        "print(lasso_model.best_score_)"
      ],
      "metadata": {
        "colab": {
          "base_uri": "https://localhost:8080/"
        },
        "id": "7mWmuWm3WwTh",
        "outputId": "22ae2ac5-110b-42ae-d93b-c25c45fa6038"
      },
      "execution_count": null,
      "outputs": [
        {
          "output_type": "stream",
          "name": "stdout",
          "text": [
            "{'alpha': 1e-08}\n",
            "0.09600748990189914\n"
          ]
        }
      ]
    },
    {
      "cell_type": "code",
      "source": [
        "params = {'alpha': (np.logspace(-8, 8, 100))} # It will check from 1e-08 to 1e+08\n",
        "ridge = Ridge(normalize=True)\n",
        "ridge_model = GridSearchCV(ridge, params, cv = 10)\n",
        "ridge_model.fit(train_X, train_y)\n",
        "print(ridge_model.best_params_)\n",
        "print(ridge_model.best_score_)"
      ],
      "metadata": {
        "colab": {
          "base_uri": "https://localhost:8080/"
        },
        "id": "W9kfty3aZ_p4",
        "outputId": "5b4ec000-36a8-46ee-822a-5f02ba866327"
      },
      "execution_count": null,
      "outputs": [
        {
          "output_type": "stream",
          "name": "stdout",
          "text": [
            "{'alpha': 0.004534878508128591}\n",
            "0.09612452624040538\n"
          ]
        }
      ]
    },
    {
      "cell_type": "code",
      "source": [
        "lr_ridge_2 = Ridge(alpha = 0.004534878508128591)\n",
        "lr_ridge_2.fit(X_lr, y_lr)\n",
        "predict_ridge_2 = lr_ridge_2.predict(val_X)\n",
        "mae_ridge_2 = mean_absolute_error(val_y, predict_ridge_2)\n",
        "print(f'Valideerimisvalimi ridge regressiooni MAE on {mae_ridge_2}.')"
      ],
      "metadata": {
        "colab": {
          "base_uri": "https://localhost:8080/"
        },
        "id": "rRltk_brZ_yT",
        "outputId": "0e5fdfb2-184c-4b57-b260-95c2b2c9233a"
      },
      "execution_count": null,
      "outputs": [
        {
          "output_type": "stream",
          "name": "stdout",
          "text": [
            "Valideerimisvalimi ridge regressiooni MAE on 0.6008612595380223.\n"
          ]
        }
      ]
    },
    {
      "cell_type": "code",
      "source": [
        "# genereerin Kaggle'i ennustuste faili RIDGE jaoks\n",
        "model_ridge_2 = Ridge(alpha = 0.004534878508128591)\n",
        "model_ridge_2.fit(X_lr, y_lr) \n",
        "test_y_ennustused_ridge_2 = model_ridge_2.predict(test_df)"
      ],
      "metadata": {
        "id": "7bCbNKO8Z_4o"
      },
      "execution_count": null,
      "outputs": []
    },
    {
      "cell_type": "code",
      "source": [
        "submission_ridge_2 = pd.DataFrame(\n",
        "    {'time': test.time, 'consumption': test_y_ennustused_ridge_2},\n",
        "    columns = ['time', 'consumption'])\n",
        "#submission_ridge_2.to_csv('submission_ridge_2.csv', index = False)"
      ],
      "metadata": {
        "id": "-ZqRAVrhaAA2"
      },
      "execution_count": null,
      "outputs": []
    },
    {
      "cell_type": "markdown",
      "source": [
        "Kaggle: 0.44164, mis ka arusaadav, kuna alpha lähedal nullile ehk sisuliselt lineaarregressioon."
      ],
      "metadata": {
        "id": "UaUPngy0gM5f"
      }
    },
    {
      "cell_type": "markdown",
      "source": [
        "**Otsustuspuu**"
      ],
      "metadata": {
        "id": "XZhGSlFMpUW1"
      }
    },
    {
      "cell_type": "code",
      "source": [
        "max_depths = [1, 2, 3, 4, 5, 6, 7, 8, 9, 10, 11, 12, 13, 14, 15, 20, 30, 40, 50]\n",
        "\n",
        "error = np.zeros(len(max_depths))\n",
        "\n",
        "y = np.array(train_df['consumption'])\n",
        "X = np.array(train_df.drop(['consumption'], axis = 1))\n",
        "\n",
        "for i, depth in enumerate(max_depths):\n",
        "\n",
        "  kf = KFold(n_splits=4, random_state=0, shuffle=True)\n",
        "\n",
        "  fold_mae = []\n",
        "  for train_index, val_index in kf.split(X):\n",
        "\n",
        "    X_train, X_val = X[train_index], X[val_index]\n",
        "    y_train, y_val = y[train_index], y[val_index]\n",
        "\n",
        "    model = DecisionTreeRegressor(max_depth = depth)\n",
        "\n",
        "    model.fit(X_train, y_train) \n",
        "\n",
        "    predictions = model.predict(X_val)\n",
        "\n",
        "    error_mae = mean_absolute_error(y_val, predictions)\n",
        "    fold_mae.append(error_mae)\n",
        "\n",
        "  print(f'Keskmine MAE sügavusele {depth} on {np.mean(fold_mae)}.')\n",
        "  error[i] = np.mean(fold_mae)"
      ],
      "metadata": {
        "id": "hONERXL7eE-l",
        "colab": {
          "base_uri": "https://localhost:8080/"
        },
        "outputId": "99552832-1454-4eb2-f399-92584cb0d552"
      },
      "execution_count": null,
      "outputs": [
        {
          "output_type": "stream",
          "name": "stdout",
          "text": [
            "Keskmine MAE sügavusele 1 on 0.6096382119397995.\n",
            "Keskmine MAE sügavusele 2 on 0.6028876863326238.\n",
            "Keskmine MAE sügavusele 3 on 0.5790933650985635.\n",
            "Keskmine MAE sügavusele 4 on 0.574374340502702.\n",
            "Keskmine MAE sügavusele 5 on 0.5546071963106131.\n",
            "Keskmine MAE sügavusele 6 on 0.5453847699051078.\n",
            "Keskmine MAE sügavusele 7 on 0.5423273085195697.\n",
            "Keskmine MAE sügavusele 8 on 0.5391176067147059.\n",
            "Keskmine MAE sügavusele 9 on 0.5367470758832564.\n",
            "Keskmine MAE sügavusele 10 on 0.5421660666211173.\n",
            "Keskmine MAE sügavusele 11 on 0.5506592963997591.\n",
            "Keskmine MAE sügavusele 12 on 0.5551692172930947.\n",
            "Keskmine MAE sügavusele 13 on 0.5685044706628031.\n",
            "Keskmine MAE sügavusele 14 on 0.574522948729862.\n",
            "Keskmine MAE sügavusele 15 on 0.5836030818750573.\n",
            "Keskmine MAE sügavusele 20 on 0.602135584192844.\n",
            "Keskmine MAE sügavusele 30 on 0.6074630567194289.\n",
            "Keskmine MAE sügavusele 40 on 0.6071945996275605.\n",
            "Keskmine MAE sügavusele 50 on 0.6026040502793296.\n"
          ]
        }
      ]
    },
    {
      "cell_type": "code",
      "source": [
        "plt.figure(figsize=(25, 6))\n",
        "\n",
        "plt.plot(max_depths, error, marker = 'o')\n",
        "plt.xlabel('Puu sügavus (depth)')\n",
        "plt.ylabel('MAE')"
      ],
      "metadata": {
        "colab": {
          "base_uri": "https://localhost:8080/",
          "height": 373
        },
        "id": "_GeMvI2Nqb18",
        "outputId": "601af112-f3fb-4b35-d443-5c26a9d8cc51"
      },
      "execution_count": null,
      "outputs": [
        {
          "output_type": "execute_result",
          "data": {
            "text/plain": [
              "Text(0, 0.5, 'MAE')"
            ]
          },
          "metadata": {},
          "execution_count": 161
        },
        {
          "output_type": "display_data",
          "data": {
            "text/plain": [
              "<Figure size 1800x432 with 1 Axes>"
            ],
            "image/png": "[encoded data removed]"
          },
          "metadata": {}
        }
      ]
    },
    {
      "cell_type": "code",
      "source": [
        "model_dt = DecisionTreeRegressor(max_depth = 9)\n",
        "model_dt.fit(train_X, train_y)\n",
        "\n",
        "predictions_dt = model_dt.predict(val_X)\n",
        "mae_dt = mean_absolute_error(val_y, predictions_dt)\n",
        "\n",
        "print(f'Otsustuspuu MAE on {mae_dt}.')"
      ],
      "metadata": {
        "colab": {
          "base_uri": "https://localhost:8080/"
        },
        "id": "YtDFOKaPqkG-",
        "outputId": "ec79b34e-fb86-49ef-f6c3-4eacfa48e12c"
      },
      "execution_count": null,
      "outputs": [
        {
          "output_type": "stream",
          "name": "stdout",
          "text": [
            "Otsustuspuu MAE on 0.5013450758961504.\n"
          ]
        }
      ]
    },
    {
      "cell_type": "code",
      "source": [
        "model_Dt = DecisionTreeRegressor(max_depth = 9)\n",
        "model_Dt.fit(X_lr, y_lr)\n",
        "\n",
        "test_y_predictions_dt = model_Dt.predict(test_df)"
      ],
      "metadata": {
        "id": "mWRoE_EBzSCd"
      },
      "execution_count": null,
      "outputs": []
    },
    {
      "cell_type": "code",
      "source": [
        "submission_dt = pd.DataFrame(\n",
        "    {'time': test.time, 'consumption': test_y_predictions_dt},\n",
        "    columns = ['time', 'consumption'])\n",
        "#submission_dt.to_csv('submission_dt.csv', index = False)"
      ],
      "metadata": {
        "id": "JRVncNFrzSGn"
      },
      "execution_count": null,
      "outputs": []
    },
    {
      "cell_type": "markdown",
      "source": [
        "Kaggle'i tulemuseks andis 1.33609. Ju on tegu ülesobitamisega."
      ],
      "metadata": {
        "id": "143w6s9J0Hl5"
      }
    },
    {
      "cell_type": "markdown",
      "source": [
        "**Otsustuspuu tuunimine**"
      ],
      "metadata": {
        "id": "vCBaesfqjHrp"
      }
    },
    {
      "cell_type": "code",
      "source": [
        "reg_decision_model=DecisionTreeRegressor()\n",
        "# fit independent varaibles to the dependent variables\n",
        "reg_decision_model.fit(train_X, train_y)\n",
        "predictions_dt_2 = model_dt.predict(val_X)\n",
        "mean_absolute_error(val_y, predictions_dt_2)"
      ],
      "metadata": {
        "colab": {
          "base_uri": "https://localhost:8080/"
        },
        "id": "l9e09VJtjNCR",
        "outputId": "c3215bd3-7697-4966-dd65-7aecbad53c66"
      },
      "execution_count": null,
      "outputs": [
        {
          "output_type": "execute_result",
          "data": {
            "text/plain": [
              "0.5013450758961504"
            ]
          },
          "metadata": {},
          "execution_count": 166
        }
      ]
    },
    {
      "cell_type": "code",
      "source": [
        "reg_decision_model.score(train_X,train_y)"
      ],
      "metadata": {
        "colab": {
          "base_uri": "https://localhost:8080/"
        },
        "id": "Ah-P63OfkwtP",
        "outputId": "a0acbf99-16ee-41e2-abe3-24cbbcd71efc"
      },
      "execution_count": null,
      "outputs": [
        {
          "output_type": "execute_result",
          "data": {
            "text/plain": [
              "1.0"
            ]
          },
          "metadata": {},
          "execution_count": 169
        }
      ]
    },
    {
      "cell_type": "code",
      "source": [
        "reg_decision_model.score(val_X,val_y)"
      ],
      "metadata": {
        "colab": {
          "base_uri": "https://localhost:8080/"
        },
        "id": "5tVicoMqlRWc",
        "outputId": "e8147889-9177-4dd3-ae7f-3803e7d87c3f"
      },
      "execution_count": null,
      "outputs": [
        {
          "output_type": "execute_result",
          "data": {
            "text/plain": [
              "0.04662515766791053"
            ]
          },
          "metadata": {},
          "execution_count": 170
        }
      ]
    },
    {
      "cell_type": "code",
      "source": [
        "parameters={\"splitter\":[\"best\",\"random\"],\n",
        "           \"max_depth\" : [1,2,3,4,5,6,7,8,9,10,11,12],\n",
        "           \"min_samples_leaf\":[1,2,3,4,5,6,7,8,9,10],\n",
        "           \"min_weight_fraction_leaf\":[0.1,0.2,0.3,0.4,0.5,0.6,0.7,0.8,0.9],\n",
        "           \"max_features\":[\"auto\",\"log2\",\"sqrt\",None],\n",
        "           \"max_leaf_nodes\":[None,10,20,30,40,50,60,70,80,90] }"
      ],
      "metadata": {
        "id": "z4UInWonlYUe"
      },
      "execution_count": null,
      "outputs": []
    },
    {
      "cell_type": "code",
      "source": [
        "tuning_model=GridSearchCV(reg_decision_model,param_grid=parameters,scoring='neg_mean_absolute_error',cv=3,verbose=3) "
      ],
      "metadata": {
        "id": "OLF1V6_plYay"
      },
      "execution_count": null,
      "outputs": []
    },
    {
      "cell_type": "code",
      "source": [
        "# function for calculating how much time take for hyperparameter tuning\n",
        "\n",
        "def timer(start_time=None):\n",
        "    if not start_time:\n",
        "        start_time=datetime.now()\n",
        "        return start_time\n",
        "    elif start_time:\n",
        "        thour,temp_sec=divmod((datetime.now()-start_time).total_seconds(),3600)\n",
        "        tmin,tsec=divmod(temp_sec,60)\n",
        "        #print(thour,\":\",tmin,':',round(tsec,2))"
      ],
      "metadata": {
        "id": "SYSY6759myiy"
      },
      "execution_count": null,
      "outputs": []
    },
    {
      "cell_type": "code",
      "source": [
        "# NB!!! See võtab aega mingi 18-19 minutit!\n",
        "%%capture\n",
        "from datetime import datetime\n",
        "\n",
        "start_time=timer(None)\n",
        "\n",
        "tuning_model.fit(X_lr,y_lr)\n",
        "\n",
        "timer(start_time)"
      ],
      "metadata": {
        "id": "AOdAj0eNmym1"
      },
      "execution_count": null,
      "outputs": []
    },
    {
      "cell_type": "code",
      "source": [
        "# best hyperparameters \n",
        "tuning_model.best_params_"
      ],
      "metadata": {
        "colab": {
          "base_uri": "https://localhost:8080/"
        },
        "id": "BKoVQI5elYjK",
        "outputId": "3f8310f4-5fc5-4204-c499-e6afb8892928"
      },
      "execution_count": null,
      "outputs": [
        {
          "output_type": "execute_result",
          "data": {
            "text/plain": [
              "{'max_depth': 11,\n",
              " 'max_features': 'sqrt',\n",
              " 'max_leaf_nodes': 50,\n",
              " 'min_samples_leaf': 1,\n",
              " 'min_weight_fraction_leaf': 0.1,\n",
              " 'splitter': 'best'}"
            ]
          },
          "metadata": {},
          "execution_count": 180
        }
      ]
    },
    {
      "cell_type": "code",
      "source": [
        "tuning_model.best_score_"
      ],
      "metadata": {
        "colab": {
          "base_uri": "https://localhost:8080/"
        },
        "id": "VFbtE-9ylYo_",
        "outputId": "d5571100-e200-40d3-bb20-620438bd4fa9"
      },
      "execution_count": null,
      "outputs": [
        {
          "output_type": "execute_result",
          "data": {
            "text/plain": [
              "-0.6048093937316047"
            ]
          },
          "metadata": {},
          "execution_count": 181
        }
      ]
    },
    {
      "cell_type": "code",
      "source": [
        "tuned_hyper_model= DecisionTreeRegressor(max_depth=11,max_features='sqrt',max_leaf_nodes=50,min_samples_leaf=1,min_weight_fraction_leaf=0.1,splitter='best')\n",
        "\n",
        "tuned_hyper_model.fit(X_lr, y_lr)\n",
        "\n",
        "test_y_predictions_dt_2 = tuned_hyper_model.predict(test_df)"
      ],
      "metadata": {
        "id": "ff4FfVUplYu6"
      },
      "execution_count": null,
      "outputs": []
    },
    {
      "cell_type": "code",
      "source": [
        "submission_dt_2 = pd.DataFrame(\n",
        "    {'time': test.time, 'consumption': test_y_predictions_dt_2},\n",
        "    columns = ['time', 'consumption'])\n",
        "submission_dt_2.to_csv('submission_dt_2.csv', index = False)"
      ],
      "metadata": {
        "id": "WfaxZXQzsnni"
      },
      "execution_count": null,
      "outputs": []
    },
    {
      "cell_type": "markdown",
      "source": [
        "Kaggle: 0.46657."
      ],
      "metadata": {
        "id": "6ymdb-fptnkk"
      }
    },
    {
      "cell_type": "markdown",
      "source": [
        "**Random Forest**"
      ],
      "metadata": {
        "id": "5WLtPqEnL_cT"
      }
    },
    {
      "cell_type": "code",
      "source": [
        "nr_trees = [50, 100, 500, 750, 1000]\n",
        "\n",
        "error = np.zeros(len(nr_trees))\n",
        "\n",
        "y = np.array(train_df['consumption'])\n",
        "X = np.array(train_df.drop(['consumption'], axis = 1))\n",
        "\n",
        "for i, tree in enumerate(nr_trees):\n",
        "\n",
        "  kf = KFold(n_splits=4, random_state=0, shuffle=True)\n",
        "\n",
        "  fold_mae = []\n",
        "  for train_index, val_index in kf.split(X):\n",
        "\n",
        "    X_train, X_val = X[train_index], X[val_index]\n",
        "    y_train, y_val = y[train_index], y[val_index]\n",
        "\n",
        "    model = RandomForestRegressor(n_estimators = tree)\n",
        "\n",
        "    model.fit(X_train, y_train) \n",
        "\n",
        "    predictions = model.predict(X_val)\n",
        "\n",
        "    error_mae = mean_absolute_error(y_val, predictions)\n",
        "    fold_mae.append(error_mae)\n",
        "\n",
        "  print(f'Keskmine MAE {tree} puule on {np.mean(fold_mae)}')\n",
        "  error[i] = np.mean(fold_mae)"
      ],
      "metadata": {
        "id": "vSNIYb7o0O_O",
        "colab": {
          "base_uri": "https://localhost:8080/"
        },
        "outputId": "d818c07d-38f8-4bf8-ea78-20e06e98a506"
      },
      "execution_count": null,
      "outputs": [
        {
          "output_type": "stream",
          "name": "stdout",
          "text": [
            "Keskmine MAE 50 puule on 0.48361642923649906\n",
            "Keskmine MAE 100 puule on 0.4782721426908752\n",
            "Keskmine MAE 500 puule on 0.4772387399906891\n",
            "Keskmine MAE 750 puule on 0.4758865282433271\n",
            "Keskmine MAE 1000 puule on 0.4758690811219739\n"
          ]
        }
      ]
    },
    {
      "cell_type": "code",
      "source": [
        "plt.figure(figsize=(25, 6))\n",
        "\n",
        "plt.plot(nr_trees, error)\n",
        "plt.xlabel('Puude arv')\n",
        "plt.ylabel('MAE')"
      ],
      "metadata": {
        "colab": {
          "base_uri": "https://localhost:8080/",
          "height": 412
        },
        "id": "HrfzAbVyQOTF",
        "outputId": "a05eee9d-0c28-46cf-f2f2-e20f2d5d49ed"
      },
      "execution_count": null,
      "outputs": [
        {
          "output_type": "execute_result",
          "data": {
            "text/plain": [
              "Text(0, 0.5, 'MAE')"
            ]
          },
          "metadata": {},
          "execution_count": 39
        },
        {
          "output_type": "display_data",
          "data": {
            "text/plain": [
              "<Figure size 1800x432 with 1 Axes>"
            ],
            "image/png": "[encoded data removed]"
          },
          "metadata": {}
        }
      ]
    },
    {
      "cell_type": "code",
      "source": [
        "model_rf = RandomForestRegressor(n_estimators = 500)\n",
        "model_rf.fit(train_X, train_y)\n",
        "\n",
        "predictions_rf = model_rf.predict(val_X)\n",
        "mae_rf = mean_absolute_error(val_y, predictions_rf) \n",
        "\n",
        "print(f'MAE Random Foresti puhul on {mae_rf}')"
      ],
      "metadata": {
        "colab": {
          "base_uri": "https://localhost:8080/"
        },
        "id": "whRDX79uQZp7",
        "outputId": "96ea5534-f196-4fef-e2ab-4eba878ff4b9"
      },
      "execution_count": null,
      "outputs": [
        {
          "output_type": "stream",
          "name": "stdout",
          "text": [
            "MAE Random Foresti puhul on 0.46152981966259454\n"
          ]
        }
      ]
    },
    {
      "cell_type": "code",
      "source": [
        "model_rf = RandomForestRegressor(n_estimators=500)\n",
        "model_rf.fit(X_lr, y_lr)\n",
        "\n",
        "test_y_ennustused_rf = model_rf.predict(test_df)"
      ],
      "metadata": {
        "id": "t0pW8d46QZuy"
      },
      "execution_count": null,
      "outputs": []
    },
    {
      "cell_type": "code",
      "source": [
        "submission_rf = pd.DataFrame(\n",
        "    {'time': test.time, 'consumption': test_y_ennustused_rf},\n",
        "    columns = ['time', 'consumption'])\n",
        "#submission_rf.to_csv('submission_rf.csv', index = False)"
      ],
      "metadata": {
        "id": "5aG35IodQZ9J"
      },
      "execution_count": null,
      "outputs": []
    },
    {
      "cell_type": "markdown",
      "source": [
        "Kaggle'i tulemuseks andis 0.6426."
      ],
      "metadata": {
        "id": "PIlT9d6FRgWR"
      }
    },
    {
      "cell_type": "markdown",
      "source": [
        "**Random Forest tuunimine**"
      ],
      "metadata": {
        "id": "-5LwAMmh6hL7"
      }
    },
    {
      "cell_type": "code",
      "source": [
        "model_rf = RandomForestRegressor(n_estimators = 500)\n",
        "model_rf.fit(train_X, train_y)\n",
        "\n",
        "predictions_rf = model_rf.predict(val_X)\n",
        "mae_rf = mean_absolute_error(val_y, predictions_rf) \n",
        "\n",
        "print(f'MAE Random Foresti puhul on {mae_rf}')"
      ],
      "metadata": {
        "colab": {
          "base_uri": "https://localhost:8080/"
        },
        "id": "MzHmroTrsBGM",
        "outputId": "8cb1180a-39c7-4e45-fbfc-708e97238293"
      },
      "execution_count": 22,
      "outputs": [
        {
          "output_type": "stream",
          "name": "stdout",
          "text": [
            "MAE Random Foresti puhul on 0.46043132751599775\n"
          ]
        }
      ]
    },
    {
      "cell_type": "code",
      "source": [
        "# Get numerical feature importances\n",
        "importances = list(model_rf.feature_importances_)\n",
        "\n",
        "# List of tuples with variable and importance\n",
        "feature_importances = [(feature, round(importance, 2)) for feature, importance in zip(train_X, importances)]\n",
        "\n",
        "# Sort the feature importances by most important first\n",
        "feature_importances = sorted(feature_importances, key = lambda x: x[1], reverse = True)\n",
        "\n",
        "# Print out the feature and importances \n",
        "[print('Variable: {:20} Importance: {}'.format(*pair)) for pair in feature_importances];"
      ],
      "metadata": {
        "colab": {
          "base_uri": "https://localhost:8080/"
        },
        "id": "wKALkkKgsLCW",
        "outputId": "c445b0dc-a48f-432b-ba01-07e14b23b93a"
      },
      "execution_count": 24,
      "outputs": [
        {
          "output_type": "stream",
          "name": "stdout",
          "text": [
            "Variable: temp                 Importance: 0.15\n",
            "Variable: el_price             Importance: 0.14\n",
            "Variable: hour                 Importance: 0.13\n",
            "Variable: pres                 Importance: 0.09\n",
            "Variable: dwpt                 Importance: 0.07\n",
            "Variable: rhum                 Importance: 0.07\n",
            "Variable: wpgt                 Importance: 0.07\n",
            "Variable: wdir                 Importance: 0.06\n",
            "Variable: day                  Importance: 0.05\n",
            "Variable: weekday              Importance: 0.05\n",
            "Variable: coco                 Importance: 0.04\n",
            "Variable: google_trends_electricity Importance: 0.04\n",
            "Variable: wspd                 Importance: 0.03\n",
            "Variable: month                Importance: 0.02\n",
            "Variable: season_Winter        Importance: 0.01\n",
            "Variable: prcp                 Importance: 0.0\n",
            "Variable: snow                 Importance: 0.0\n",
            "Variable: year                 Importance: 0.0\n",
            "Variable: is_holiday           Importance: 0.0\n",
            "Variable: season_Autumn        Importance: 0.0\n",
            "Variable: season_Spring        Importance: 0.0\n",
            "Variable: season_Summer        Importance: 0.0\n"
          ]
        }
      ]
    },
    {
      "cell_type": "code",
      "source": [
        "# Reset style \n",
        "plt.style.use('fivethirtyeight')\n",
        "\n",
        "# list of x locations for plotting\n",
        "x_values = list(range(len(importances)))\n",
        "\n",
        "# Make a bar chart\n",
        "plt.bar(x_values, importances, orientation = 'vertical', color = 'r', edgecolor = 'k', linewidth = 1.2)\n",
        "\n",
        "# Tick labels for x axis\n",
        "plt.xticks(x_values, train_X, rotation='vertical')\n",
        "\n",
        "# Axis labels and title\n",
        "plt.ylabel('Importance'); plt.xlabel('Variable'); plt.title('Variable Importances');"
      ],
      "metadata": {
        "colab": {
          "base_uri": "https://localhost:8080/",
          "height": 486
        },
        "id": "VzBX5bWAsLJr",
        "outputId": "b449c3e4-2ea8-42f7-d8cb-381999102811"
      },
      "execution_count": 26,
      "outputs": [
        {
          "output_type": "display_data",
          "data": {
            "text/plain": [
              "<Figure size 432x288 with 1 Axes>"
            ],
            "image/png": "[encoded data removed]"
          },
          "metadata": {}
        }
      ]
    },
    {
      "cell_type": "code",
      "source": [
        "# List of features sorted from most to least important\n",
        "sorted_importances = [importance[1] for importance in feature_importances]\n",
        "sorted_features = [importance[0] for importance in feature_importances]\n",
        "\n",
        "# Cumulative importances\n",
        "cumulative_importances = np.cumsum(sorted_importances)\n",
        "\n",
        "# Make a line graph\n",
        "plt.plot(x_values, cumulative_importances, 'g-')\n",
        "\n",
        "# Draw line at 95% of importance retained\n",
        "plt.hlines(y = 0.95, xmin=0, xmax=len(sorted_importances), color = 'r', linestyles = 'dashed')\n",
        "\n",
        "# Format x ticks and labels\n",
        "plt.xticks(x_values, sorted_features, rotation = 'vertical')\n",
        "\n",
        "# Axis labels and title\n",
        "plt.xlabel('Variable'); plt.ylabel('Cumulative Importance'); plt.title('Cumulative Importances');"
      ],
      "metadata": {
        "colab": {
          "base_uri": "https://localhost:8080/",
          "height": 486
        },
        "id": "dTIz_ImNsLMg",
        "outputId": "886ea94d-28c4-4880-cd32-9a4449fd39d1"
      },
      "execution_count": 27,
      "outputs": [
        {
          "output_type": "display_data",
          "data": {
            "text/plain": [
              "<Figure size 432x288 with 1 Axes>"
            ],
            "image/png": "[encoded data removed]"
          },
          "metadata": {}
        }
      ]
    },
    {
      "cell_type": "code",
      "source": [
        "# Find number of features for cumulative importance of 95%\n",
        "# Add 1 because Python is zero-indexed\n",
        "print('Number of features for 95% importance:', np.where(cumulative_importances > 0.95)[0][0] + 1)"
      ],
      "metadata": {
        "colab": {
          "base_uri": "https://localhost:8080/"
        },
        "id": "2zoK6DhGtfXe",
        "outputId": "54286174-df4c-4606-9ab3-a49e203c4ae7"
      },
      "execution_count": 28,
      "outputs": [
        {
          "output_type": "stream",
          "name": "stdout",
          "text": [
            "Number of features for 95% importance: 12\n"
          ]
        }
      ]
    },
    {
      "cell_type": "code",
      "source": [
        "# Extract the names of the most important features\n",
        "important_feature_names = [feature[0] for feature in feature_importances[0:12]]\n",
        "important_feature_names"
      ],
      "metadata": {
        "colab": {
          "base_uri": "https://localhost:8080/"
        },
        "id": "YyYBqYHZwA5U",
        "outputId": "a3e370f3-7383-4085-fb9b-e5667717a7d7"
      },
      "execution_count": 42,
      "outputs": [
        {
          "output_type": "execute_result",
          "data": {
            "text/plain": [
              "['temp',\n",
              " 'el_price',\n",
              " 'hour',\n",
              " 'pres',\n",
              " 'dwpt',\n",
              " 'rhum',\n",
              " 'wpgt',\n",
              " 'wdir',\n",
              " 'day',\n",
              " 'weekday',\n",
              " 'coco',\n",
              " 'google_trends_electricity']"
            ]
          },
          "metadata": {},
          "execution_count": 42
        }
      ]
    },
    {
      "cell_type": "code",
      "source": [
        "train_X_imp = train_X[train_X.columns.intersection(important_feature_names)]\n",
        "val_X_imp = val_X[val_X.columns.intersection(important_feature_names)]"
      ],
      "metadata": {
        "id": "I5WT-WpGwQhv"
      },
      "execution_count": 46,
      "outputs": []
    },
    {
      "cell_type": "code",
      "source": [
        "# Sanity check on operations\n",
        "print('Important train features shape:', train_X_imp.shape)\n",
        "print('Important test features shape:', val_X_imp.shape)"
      ],
      "metadata": {
        "colab": {
          "base_uri": "https://localhost:8080/"
        },
        "id": "Q8IwtlYPtfad",
        "outputId": "ca7da70e-9c78-4162-f4ef-fa2e70ce0d9f"
      },
      "execution_count": 47,
      "outputs": [
        {
          "output_type": "stream",
          "name": "stdout",
          "text": [
            "Important train features shape: (6873, 12)\n",
            "Important test features shape: (1719, 12)\n"
          ]
        }
      ]
    },
    {
      "cell_type": "code",
      "source": [
        "model_rf_exp = RandomForestRegressor(n_estimators = 500)\n",
        "model_rf_exp.fit(train_X_imp, train_y)\n",
        "\n",
        "predictions_rf_exp = model_rf_exp.predict(val_X_imp)\n",
        "mae_rf_imp = mean_absolute_error(val_y, predictions_rf_exp) \n",
        "\n",
        "print(f'MAE Random Foresti puhul oli täisandmete {mae_rf} ja tähtsate atribuutidega {mae_rf_imp}.')"
      ],
      "metadata": {
        "colab": {
          "base_uri": "https://localhost:8080/"
        },
        "id": "7bEbWLlNtfdG",
        "outputId": "8d483d38-4479-4588-8ee1-8ebc8e221e46"
      },
      "execution_count": 49,
      "outputs": [
        {
          "output_type": "stream",
          "name": "stdout",
          "text": [
            "MAE Random Foresti puhul oli täisandmete 0.46043132751599775 ja tähtsate atribuutidega 0.4617620279232113\n"
          ]
        }
      ]
    },
    {
      "cell_type": "code",
      "source": [
        "# Number of trees in random forest\n",
        "n_estimators = [int(x) for x in np.linspace(start = 200, stop = 1200, num = 6)]\n",
        "# Number of features to consider at every split\n",
        "max_features = ['auto', 'sqrt']\n",
        "# Maximum number of levels in tree\n",
        "max_depth = [int(x) for x in np.linspace(10, 110, num = 11)]\n",
        "max_depth.append(None)\n",
        "# Minimum number of samples required to split a node\n",
        "min_samples_split = [2, 5, 10]\n",
        "# Minimum number of samples required at each leaf node\n",
        "min_samples_leaf = [1, 2, 4]\n",
        "# Method of selecting samples for training each tree\n",
        "bootstrap = [True, False]\n",
        "# Create the random grid\n",
        "random_grid = {'n_estimators': n_estimators,\n",
        "               'max_features': max_features,\n",
        "               'max_depth': max_depth,\n",
        "               'min_samples_split': min_samples_split,\n",
        "               'min_samples_leaf': min_samples_leaf,\n",
        "               'bootstrap': bootstrap}\n",
        "print(random_grid)"
      ],
      "metadata": {
        "id": "10rqTiNGBW1m",
        "colab": {
          "base_uri": "https://localhost:8080/"
        },
        "outputId": "5b2d5b5d-fb5f-4280-8770-d6bf25025967"
      },
      "execution_count": 53,
      "outputs": [
        {
          "output_type": "stream",
          "name": "stdout",
          "text": [
            "{'n_estimators': [200, 400, 600, 800, 1000, 1200], 'max_features': ['auto', 'sqrt'], 'max_depth': [10, 20, 30, 40, 50, 60, 70, 80, 90, 100, 110, None], 'min_samples_split': [2, 5, 10], 'min_samples_leaf': [1, 2, 4], 'bootstrap': [True, False]}\n"
          ]
        }
      ]
    },
    {
      "cell_type": "code",
      "source": [
        "### NB! Seevõttis aega 51 minutit!\n",
        "# Use the random grid to search for best hyperparameters\n",
        "# First create the base model to tune\n",
        "rf = RandomForestRegressor()\n",
        "# Random search of parameters, using 3 fold cross validation, \n",
        "# search across 100 different combinations, and use all available cores\n",
        "rf_random = RandomizedSearchCV(estimator = rf, param_distributions = random_grid, n_iter = 100, cv = 3, verbose=2, random_state=0, n_jobs = -1)\n",
        "# Fit the random search model\n",
        "rf_random.fit(train_X_imp, train_y)"
      ],
      "metadata": {
        "colab": {
          "base_uri": "https://localhost:8080/"
        },
        "id": "fwaPigaU6lcB",
        "outputId": "7e647734-30e5-4c83-d80f-ffd771a27ea9"
      },
      "execution_count": 54,
      "outputs": [
        {
          "output_type": "stream",
          "name": "stdout",
          "text": [
            "Fitting 3 folds for each of 100 candidates, totalling 300 fits\n"
          ]
        },
        {
          "output_type": "execute_result",
          "data": {
            "text/plain": [
              "RandomizedSearchCV(cv=3, estimator=RandomForestRegressor(), n_iter=100,\n",
              "                   n_jobs=-1,\n",
              "                   param_distributions={'bootstrap': [True, False],\n",
              "                                        'max_depth': [10, 20, 30, 40, 50, 60,\n",
              "                                                      70, 80, 90, 100, 110,\n",
              "                                                      None],\n",
              "                                        'max_features': ['auto', 'sqrt'],\n",
              "                                        'min_samples_leaf': [1, 2, 4],\n",
              "                                        'min_samples_split': [2, 5, 10],\n",
              "                                        'n_estimators': [200, 400, 600, 800,\n",
              "                                                         1000, 1200]},\n",
              "                   random_state=0, verbose=2)"
            ]
          },
          "metadata": {},
          "execution_count": 54
        }
      ]
    },
    {
      "cell_type": "code",
      "source": [
        "rf_random.best_params_"
      ],
      "metadata": {
        "colab": {
          "base_uri": "https://localhost:8080/"
        },
        "id": "cp7_jbiq6lgD",
        "outputId": "3349e0be-da6f-4da9-af10-3d925c82bc9a"
      },
      "execution_count": 55,
      "outputs": [
        {
          "output_type": "execute_result",
          "data": {
            "text/plain": [
              "{'n_estimators': 1000,\n",
              " 'min_samples_split': 2,\n",
              " 'min_samples_leaf': 1,\n",
              " 'max_features': 'sqrt',\n",
              " 'max_depth': None,\n",
              " 'bootstrap': False}"
            ]
          },
          "metadata": {},
          "execution_count": 55
        }
      ]
    },
    {
      "cell_type": "code",
      "source": [
        "# See läks 9 minutit\n",
        "# Create the parameter grid based on the results of random search \n",
        "param_grid = {\n",
        "    'bootstrap': [False],\n",
        "    'max_depth': [None],\n",
        "    'max_features': ['sqrt'],\n",
        "    'min_samples_leaf': [1, 2],\n",
        "    'min_samples_split': [1, 2, 3],\n",
        "    'n_estimators': [900, 950, 1000, 1050, 1100]\n",
        "}\n",
        "\n",
        "# Create a base model\n",
        "rf = RandomForestRegressor(random_state = 0)\n",
        "\n",
        "# Instantiate the grid search model\n",
        "grid_search = GridSearchCV(estimator = rf, param_grid = param_grid, scoring='neg_mean_absolute_error', \n",
        "                          cv = 3, n_jobs = -1, verbose = 2, return_train_score=True)\n",
        "\n",
        "# Fit the grid search to the data\n",
        "grid_search.fit(train_X_imp, train_y);"
      ],
      "metadata": {
        "id": "aPGmdmI66lkO",
        "colab": {
          "base_uri": "https://localhost:8080/"
        },
        "outputId": "97e44102-cc62-4ded-92b1-258df11b6060"
      },
      "execution_count": 56,
      "outputs": [
        {
          "output_type": "stream",
          "name": "stdout",
          "text": [
            "Fitting 3 folds for each of 30 candidates, totalling 90 fits\n"
          ]
        }
      ]
    },
    {
      "cell_type": "code",
      "source": [
        "grid_search.best_params_"
      ],
      "metadata": {
        "id": "Z57s-Np46loc",
        "colab": {
          "base_uri": "https://localhost:8080/"
        },
        "outputId": "4b5644cc-e3c6-4b80-b8e2-8ad60e9932fc"
      },
      "execution_count": 57,
      "outputs": [
        {
          "output_type": "execute_result",
          "data": {
            "text/plain": [
              "{'bootstrap': False,\n",
              " 'max_depth': None,\n",
              " 'max_features': 'sqrt',\n",
              " 'min_samples_leaf': 1,\n",
              " 'min_samples_split': 2,\n",
              " 'n_estimators': 950}"
            ]
          },
          "metadata": {},
          "execution_count": 57
        }
      ]
    },
    {
      "cell_type": "code",
      "source": [
        "model_rf_2 = RandomForestRegressor(n_estimators = 950, bootstrap = False, max_depth = None, max_features = 'sqrt', min_samples_leaf = 1, min_samples_split = 2)\n",
        "model_rf_2.fit(train_X, train_y)\n",
        "\n",
        "predictions_rf_2 = model_rf_2.predict(val_X)\n",
        "mae_rf_2 = mean_absolute_error(val_y, predictions_rf_2) \n",
        "\n",
        "print(f'MAE Random Foresti puhul oli default (v.a. n_estimators 500) {mae_rf} ja tuunituna {mae_rf_2}.')"
      ],
      "metadata": {
        "colab": {
          "base_uri": "https://localhost:8080/"
        },
        "id": "BJ7AOS9BEPjt",
        "outputId": "07f1e978-753d-40b0-85af-605a8c066730"
      },
      "execution_count": 58,
      "outputs": [
        {
          "output_type": "stream",
          "name": "stdout",
          "text": [
            "MAE Random Foresti puhul oli default (v.a. n_estimators 500) 0.46043132751599775 ja tuunituna 0.44467373197391374.\n"
          ]
        }
      ]
    },
    {
      "cell_type": "code",
      "source": [
        "model_rf = RandomForestRegressor(n_estimators = 950, bootstrap = False, max_depth = None, max_features = 'sqrt', min_samples_leaf = 1, min_samples_split = 2)\n",
        "model_rf.fit(X_lr, y_lr)\n",
        "\n",
        "test_y_ennustused_rf = model_rf.predict(test_df)"
      ],
      "metadata": {
        "id": "Hm4m33gQFrtN"
      },
      "execution_count": 59,
      "outputs": []
    },
    {
      "cell_type": "code",
      "source": [
        "submission_rf_2 = pd.DataFrame(\n",
        "    {'time': test.time, 'consumption': test_y_ennustused_rf},\n",
        "    columns = ['time', 'consumption'])\n",
        "submission_rf_2.to_csv('submission_rf_2.csv', index = False)"
      ],
      "metadata": {
        "id": "w4y047Y7Frwl"
      },
      "execution_count": 60,
      "outputs": []
    },
    {
      "cell_type": "markdown",
      "source": [
        "Kaggle: 0.48919."
      ],
      "metadata": {
        "id": "8GvuE0TIGR7g"
      }
    },
    {
      "cell_type": "code",
      "source": [],
      "metadata": {
        "id": "NZ2LvFe_Gh-I"
      },
      "execution_count": null,
      "outputs": []
    }
  ]
}