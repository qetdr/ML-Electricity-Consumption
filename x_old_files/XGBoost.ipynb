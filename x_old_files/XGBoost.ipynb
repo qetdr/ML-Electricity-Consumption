{
 "cells": [
  {
   "cell_type": "markdown",
   "source": [
    "# Elektri hinna ennustamine kasutades teeki `XGBoost`\n",
    "\n",
    "[`XGBoost`](xgboost.readthedocs.io)\n",
    "on teek, mis ilplementeerib Extreme Gradient Boosting algoritmi.\n",
    "Järgisime osaliselt seda [tutoriali](https://machinelearningmastery.com/xgboost-for-time-series-forecasting/)."
   ],
   "metadata": {
    "collapsed": false,
    "pycharm": {
     "name": "#%% md\n"
    }
   }
  },
  {
   "cell_type": "code",
   "execution_count": 1,
   "outputs": [
    {
     "name": "stdout",
     "output_type": "stream",
     "text": [
      "Defaulting to user installation because normal site-packages is not writeable\r\n",
      "Requirement already satisfied: xgboost in /home/eeriksp/.local/lib/python3.8/site-packages (1.7.1)\r\n",
      "Requirement already satisfied: numpy in /home/eeriksp/.local/lib/python3.8/site-packages (from xgboost) (1.23.5)\r\n",
      "Requirement already satisfied: scipy in /home/eeriksp/.local/lib/python3.8/site-packages (from xgboost) (1.9.3)\r\n",
      "\u001B[33mWARNING: You are using pip version 21.1.2; however, version 22.3.1 is available.\r\n",
      "You should consider upgrading via the '/usr/local/bin/python3.8 -m pip install --upgrade pip' command.\u001B[0m\r\n"
     ]
    }
   ],
   "source": [
    "!pip install xgboost"
   ],
   "metadata": {
    "collapsed": false,
    "pycharm": {
     "name": "#%%\n"
    }
   }
  },
  {
   "cell_type": "code",
   "execution_count": 4,
   "outputs": [],
   "source": [
    "# arvutamine ja joonistamine\n",
    "import numpy as np\n",
    "import pandas as pd\n",
    "import matplotlib.pyplot as plt\n",
    "import matplotlib.cm as cm\n",
    "\n",
    "# aegridade spetsiifiline\n",
    "from xgboost import XGBRegressor"
   ],
   "metadata": {
    "collapsed": false,
    "pycharm": {
     "name": "#%%\n"
    }
   }
  },
  {
   "cell_type": "code",
   "execution_count": 6,
   "outputs": [],
   "source": [
    "# laen treening- ja testandmed\n",
    "data_raw =  pd.read_csv('../data/df_clean.csv')\n",
    "test_raw = pd.read_csv('../data/df_clean_test.csv')"
   ],
   "metadata": {
    "collapsed": false,
    "pycharm": {
     "name": "#%%\n"
    }
   }
  },
  {
   "cell_type": "code",
   "execution_count": 7,
   "outputs": [],
   "source": [
    "data = data_raw.set_index(pd.to_datetime(data_raw['timestamp']))[[\"consumption\"]]\n",
    "data = data[~data.index.duplicated()].asfreq(\"H\").sort_index()\n",
    "\n",
    "test = test_raw.set_index(pd.to_datetime(test_raw['timestamp']))[[]]\n",
    "test = test[~test.index.duplicated()].asfreq(\"H\").sort_index()\n",
    "test = test.tz_localize(\"+03:00\")"
   ],
   "metadata": {
    "collapsed": false,
    "pycharm": {
     "name": "#%%\n"
    }
   }
  },
  {
   "cell_type": "code",
   "execution_count": 9,
   "outputs": [
    {
     "data": {
      "text/plain": "                     consumption\ntimestamp                       \n2021-09-01 00:00:00        0.577\n2021-09-01 01:00:00        0.594\n2021-09-01 02:00:00        0.685\n2021-09-01 03:00:00        1.016\n2021-09-01 04:00:00        0.677\n...                          ...\n2022-08-24 19:00:00        0.678\n2022-08-24 20:00:00        0.457\n2022-08-24 21:00:00        0.500\n2022-08-24 22:00:00        2.321\n2022-08-24 23:00:00        0.678\n\n[8592 rows x 1 columns]",
      "text/html": "<div>\n<style scoped>\n    .dataframe tbody tr th:only-of-type {\n        vertical-align: middle;\n    }\n\n    .dataframe tbody tr th {\n        vertical-align: top;\n    }\n\n    .dataframe thead th {\n        text-align: right;\n    }\n</style>\n<table border=\"1\" class=\"dataframe\">\n  <thead>\n    <tr style=\"text-align: right;\">\n      <th></th>\n      <th>consumption</th>\n    </tr>\n    <tr>\n      <th>timestamp</th>\n      <th></th>\n    </tr>\n  </thead>\n  <tbody>\n    <tr>\n      <th>2021-09-01 00:00:00</th>\n      <td>0.577</td>\n    </tr>\n    <tr>\n      <th>2021-09-01 01:00:00</th>\n      <td>0.594</td>\n    </tr>\n    <tr>\n      <th>2021-09-01 02:00:00</th>\n      <td>0.685</td>\n    </tr>\n    <tr>\n      <th>2021-09-01 03:00:00</th>\n      <td>1.016</td>\n    </tr>\n    <tr>\n      <th>2021-09-01 04:00:00</th>\n      <td>0.677</td>\n    </tr>\n    <tr>\n      <th>...</th>\n      <td>...</td>\n    </tr>\n    <tr>\n      <th>2022-08-24 19:00:00</th>\n      <td>0.678</td>\n    </tr>\n    <tr>\n      <th>2022-08-24 20:00:00</th>\n      <td>0.457</td>\n    </tr>\n    <tr>\n      <th>2022-08-24 21:00:00</th>\n      <td>0.500</td>\n    </tr>\n    <tr>\n      <th>2022-08-24 22:00:00</th>\n      <td>2.321</td>\n    </tr>\n    <tr>\n      <th>2022-08-24 23:00:00</th>\n      <td>0.678</td>\n    </tr>\n  </tbody>\n</table>\n<p>8592 rows × 1 columns</p>\n</div>"
     },
     "execution_count": 9,
     "metadata": {},
     "output_type": "execute_result"
    }
   ],
   "source": [
    "relevant_data = data[(data.index.month > 4) | (data.index.month < 9)]\n",
    "relevant_data"
   ],
   "metadata": {
    "collapsed": false,
    "pycharm": {
     "name": "#%%\n"
    }
   }
  },
  {
   "cell_type": "code",
   "execution_count": 10,
   "outputs": [],
   "source": [
    "def series_to_slicing_window(data, n_in=1, n_out=1):\n",
    "    n_vars = 1 if type(data) is list else data.shape[1]\n",
    "    df = pd.DataFrame(data)\n",
    "    cols = list()\n",
    "    # input sequence (t-n, ... t-1)\n",
    "    for i in range(n_in, 0, -1):\n",
    "        cols.append(df.shift(i))\n",
    "    # forecast sequence (t, t+1, ... t+n)\n",
    "    for i in range(0, n_out):\n",
    "        cols.append(df.shift(-i))\n",
    "    # put it all together\n",
    "    agg = pd.concat(cols, axis=1)\n",
    "    # drop rows with NaN values\n",
    "    agg.dropna(inplace=True)\n",
    "    return agg.values"
   ],
   "metadata": {
    "collapsed": false,
    "pycharm": {
     "name": "#%%\n"
    }
   }
  },
  {
   "cell_type": "code",
   "execution_count": 11,
   "outputs": [
    {
     "data": {
      "text/plain": "XGBRegressor(base_score=0.5, booster='gbtree', callbacks=None,\n             colsample_bylevel=1, colsample_bynode=1, colsample_bytree=1,\n             early_stopping_rounds=None, enable_categorical=False,\n             eval_metric=None, feature_types=None, gamma=0, gpu_id=-1,\n             grow_policy='depthwise', importance_type=None,\n             interaction_constraints='', learning_rate=0.300000012, max_bin=256,\n             max_cat_threshold=64, max_cat_to_onehot=4, max_delta_step=0,\n             max_depth=6, max_leaves=0, min_child_weight=1, missing=nan,\n             monotone_constraints='()', n_estimators=1000, n_jobs=0,\n             num_parallel_tree=1, predictor='auto', random_state=0, ...)"
     },
     "execution_count": 11,
     "metadata": {},
     "output_type": "execute_result"
    }
   ],
   "source": [
    " # transform list into array\n",
    " train_data = series_to_slicing_window(relevant_data, 10)\n",
    " # split into input and output columns\n",
    " trainX, trainy = train_data[:, :-1], train_data[:, -1]\n",
    " # fit model\n",
    " model = XGBRegressor(objective='reg:squarederror', n_estimators=1000)\n",
    " model.fit(trainX, trainy)"
   ],
   "metadata": {
    "collapsed": false,
    "pycharm": {
     "name": "#%%\n"
    }
   }
  },
  {
   "cell_type": "code",
   "execution_count": 12,
   "outputs": [],
   "source": [
    "prediction_data = list(trainX[-1])\n",
    "prediction_data.pop(0)\n",
    "prediction_data.append(trainy[0])\n",
    "\n",
    "predictions = []\n",
    "\n",
    "\n",
    "for _ in range(168):\n",
    "    predictions.append(model.predict([prediction_data])[0])\n",
    "    prediction_data.pop(0)\n",
    "    prediction_data.append(predictions[-1])"
   ],
   "metadata": {
    "collapsed": false,
    "pycharm": {
     "name": "#%%\n"
    }
   }
  },
  {
   "cell_type": "code",
   "execution_count": null,
   "outputs": [],
   "source": [
    "submission = pd.read_csv(\"../data/sample_submission.csv\")\n",
    "submission['consumption'] = predictions\n",
    "submission.to_csv(\"../submissions/xgboost-submission-iterative.csv\", index=False)"
   ],
   "metadata": {
    "collapsed": false,
    "pycharm": {
     "name": "#%%\n"
    }
   }
  }
 ],
 "metadata": {
  "kernelspec": {
   "display_name": "Python 3",
   "language": "python",
   "name": "python3"
  },
  "language_info": {
   "codemirror_mode": {
    "name": "ipython",
    "version": 2
   },
   "file_extension": ".py",
   "mimetype": "text/x-python",
   "name": "python",
   "nbconvert_exporter": "python",
   "pygments_lexer": "ipython2",
   "version": "2.7.6"
  }
 },
 "nbformat": 4,
 "nbformat_minor": 0
}