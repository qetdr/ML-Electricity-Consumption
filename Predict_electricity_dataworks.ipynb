{
  "nbformat": 4,
  "nbformat_minor": 0,
  "metadata": {
    "colab": {
      "provenance": [],
      "collapsed_sections": []
    },
    "kernelspec": {
      "name": "python3",
      "display_name": "Python 3"
    },
    "language_info": {
      "name": "python"
    }
  },
  "cells": [
    {
      "cell_type": "code",
      "execution_count": 1,
      "metadata": {
        "id": "GRoXSMZmkGBT"
      },
      "outputs": [],
      "source": [
        "import pandas as pd\n",
        "import numpy as np\n",
        "import datetime as dt\n",
        "import matplotlib.pyplot as plt\n",
        "\n",
        "df = pd.read_csv(\"train.csv\")"
      ]
    },
    {
      "cell_type": "code",
      "source": [
        "df = df.fillna(0)"
      ],
      "metadata": {
        "id": "UWr3iqook_zt"
      },
      "execution_count": 2,
      "outputs": []
    },
    {
      "cell_type": "code",
      "source": [
        "# create another column for timestamp (to not mess up the one used as index) and remove timezone info\n",
        "df[\"timestamp\"] = df['time']\n",
        "df['timestamp'] = df['timestamp'].astype(str)\n",
        "df['timestamp'] = df['timestamp'].map(lambda x: str(x)[:-6])\n",
        "df['datetime'] = pd.to_datetime(df['timestamp'])\n",
        "\n",
        "# create year, month, day, weekday, date, is_holiday, season (by full months only: Dec, Jan, Feb as winter)\n",
        "\n",
        "df['year'] = df['datetime'].dt.year\n",
        "df['month'] = df['datetime'].dt.month\n",
        "df['day'] = df['datetime'].dt.day\n",
        "df['weekday'] = df['datetime'].dt.weekday\n",
        "df['hour'] = df['datetime'].dt.hour\n",
        "df['date'] = df['datetime'].dt.date\n",
        "\n",
        "\n",
        "# is_holiday\n",
        "from datetime import date\n",
        "import holidays\n",
        "EE_holidays = holidays.EE()\n",
        "df['is_holiday'] = [date in EE_holidays for date in df['date']]\n",
        "\n",
        "# season\n",
        "conditions = [\n",
        "    (df['month'].isin(np.arange(3,6))), (df['month'].isin(np.arange(6,9))), \n",
        "    (df['month'].isin(np.arange(9,12))), (df['month'].isin(np.arange(1,3))), (df['month'] == 12)]\n",
        "choices = ['Spring','Summer', 'Autumn', 'Winter', 'Winter']\n",
        "df['season'] = np.select(conditions, choices)\n",
        "\n",
        "# add google_trends info (weekly stats applied to all dates that week)\n",
        "google_trends_weekly = [5,9,19,31,19,29,34,31,34,26,36,35,29,50,77,46,53,35,64,89,72,55,49,38,34,28,30,32,32,33,32,31,33,26,30,39,31,37,37,32,34,31,40,45,42,48,42,49,61,69,100,76]\n",
        "google_trends_daily = np.repeat(google_trends_weekly,7)\n",
        "index = [0,1,2]\n",
        "google_trends_daily = np.delete(google_trends_daily, index)\n",
        "google_trends_hourly = np.repeat(google_trends_daily,24)\n",
        "df['google_trends_electricity'] = pd.Series(google_trends_hourly)\n"
      ],
      "metadata": {
        "id": "zEjLoeVxlIwV"
      },
      "execution_count": 3,
      "outputs": []
    },
    {
      "cell_type": "code",
      "source": [
        "df = df.to_csv(\"df_clean.csv\")"
      ],
      "metadata": {
        "id": "xnqvNXK3ZMP5"
      },
      "execution_count": 4,
      "outputs": []
    }
  ]
}